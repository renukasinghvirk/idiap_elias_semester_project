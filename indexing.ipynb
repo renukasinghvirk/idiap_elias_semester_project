{
 "cells": [
  {
   "cell_type": "markdown",
   "id": "2f974410",
   "metadata": {},
   "source": [
    "# Migration Reports project: Retrieval\n",
    "In this part, we focus on the retrieval part of the RAG implementation."
   ]
  },
  {
   "cell_type": "code",
   "execution_count": 1,
   "id": "c255cc29",
   "metadata": {},
   "outputs": [],
   "source": [
    "import pandas as pd\n",
    "import numpy as np\n",
    "import ipywidgets as widgets\n",
    "from IPython.display import display\n",
    "import chromadb\n",
    "from chromadb.config import Settings"
   ]
  },
  {
   "cell_type": "markdown",
   "id": "20f40c7b",
   "metadata": {},
   "source": [
    "# Simple example\n",
    "In this section, we first get a hang of ChromadB by following a simple example. We will later on focus on the implementation of our `.csv` file. \n",
    "### Indexing\n",
    "Let's first focus on indexing a sentence in ChromadB. To do so, we can first install chromadB by running `pip install chromadb` in the terminal.\n",
    "\n",
    "The steps are detailed on the [Chroma website](https://docs.trychroma.com/docs/overview/getting-started) and in this [example](https://www.datacamp.com/tutorial/chromadb-tutorial-step-by-step-guide)."
   ]
  },
  {
   "cell_type": "markdown",
   "id": "c81388fe",
   "metadata": {},
   "source": [
    "The first step is to create a client, which will connect us to the database and thus allow us to create, store, query collections of embeddings.\n",
    "We can create a persistent client, meaning we save the data on our disk, or an ephemeral client, in which case the data will disappear once we're done. We choose the latter for this first example."
   ]
  },
  {
   "cell_type": "code",
   "execution_count": null,
   "id": "00288dcc",
   "metadata": {},
   "outputs": [],
   "source": [
    "# in-memory client for this example\n",
    "#client_test = chromadb.Client()\n",
    "\n",
    "# example of persistent client\n",
    "# client = chromadb.PersistentClient(path=\"\")\n"
   ]
  },
  {
   "cell_type": "markdown",
   "id": "962c5c3b",
   "metadata": {},
   "source": [
    "We can then create a collection, where our embeddings will be stored."
   ]
  },
  {
   "cell_type": "code",
   "execution_count": 4,
   "id": "cc64f641",
   "metadata": {},
   "outputs": [],
   "source": [
    "collection_test = client_test.create_collection(name=\"first_try\")"
   ]
  },
  {
   "cell_type": "markdown",
   "id": "cb94b73f",
   "metadata": {},
   "source": [
    "Let's now add documents to our collection, these will be embedded with the default embedding model `all-MiniLM-L6-v2`. We could also choose a different embedding model, which we will most likely due for the rest of the project."
   ]
  },
  {
   "cell_type": "code",
   "execution_count": 5,
   "id": "5f89389b",
   "metadata": {},
   "outputs": [],
   "source": [
    "collection_test.add(\n",
    "    ids=[\"id1\", \"id2\"],\n",
    "    documents=[\n",
    "        \"The sky is blue on earth and pink on Saturn.\",\n",
    "        \"There is no sky in India.\"\n",
    "    ]\n",
    ")\n"
   ]
  },
  {
   "cell_type": "markdown",
   "id": "306a28fb",
   "metadata": {},
   "source": [
    "### Add the query and compute the similarity"
   ]
  },
  {
   "cell_type": "code",
   "execution_count": 6,
   "id": "924d6e16",
   "metadata": {},
   "outputs": [],
   "source": [
    "results_test = collection_test.query(\n",
    "    query_texts=[\"What color is the sky on Saturn?\"], # Chroma will embed the query\n",
    "    n_results=2, # number of results to return, default=10\n",
    "    include=[\"documents\", \"distances\", \"embeddings\"] # default mode doesn't include embeddings, add them to visualize\n",
    ")"
   ]
  },
  {
   "cell_type": "code",
   "execution_count": 7,
   "id": "fa32f3dd",
   "metadata": {},
   "outputs": [
    {
     "name": "stdout",
     "output_type": "stream",
     "text": [
      "[[0.2976532280445099, 1.2716426849365234]]\n",
      "[array([[ 7.58604147e-03, -3.36620733e-02,  7.11525679e-02,\n",
      "         8.41439050e-03,  7.40479901e-02, -1.85960811e-02,\n",
      "         8.59402195e-02,  5.68682589e-02,  9.73398909e-02,\n",
      "        -6.36850530e-03, -6.61930218e-02,  1.11738751e-02,\n",
      "        -3.40286195e-02, -9.80932452e-03, -6.70989677e-02,\n",
      "         5.86853437e-02, -2.41405573e-02, -7.16577992e-02,\n",
      "        -2.85602733e-02, -1.48872854e-02, -4.84411605e-02,\n",
      "         2.35866643e-02, -4.09192108e-02,  9.22331214e-02,\n",
      "        -8.31628814e-02,  9.81782079e-02, -2.09377091e-02,\n",
      "         5.39325876e-03,  7.10575609e-03,  6.13714978e-02,\n",
      "        -1.21362749e-02,  3.07445694e-02,  2.28071883e-02,\n",
      "        -1.43129472e-02, -8.39055106e-02, -3.72098982e-02,\n",
      "        -1.21801952e-02, -3.42654921e-02, -1.34223672e-02,\n",
      "         7.66166078e-04,  1.34405438e-02,  7.06612365e-04,\n",
      "         2.47000419e-02, -5.17933586e-05,  4.71106265e-04,\n",
      "         4.71932516e-02,  4.50511910e-02, -4.68019629e-03,\n",
      "         2.85741370e-02, -3.54782268e-02, -2.26243399e-02,\n",
      "         1.69672836e-02, -7.72010237e-02,  1.60922296e-02,\n",
      "        -4.14782204e-02,  1.11735605e-01, -1.01497598e-01,\n",
      "        -1.33186206e-01,  9.57853943e-02, -1.67190451e-02,\n",
      "        -8.62777010e-02,  6.24050051e-02, -8.87685083e-03,\n",
      "         4.67576832e-02,  1.19404020e-02,  5.80534264e-02,\n",
      "        -8.54459256e-02,  1.51354065e-02, -2.26596668e-02,\n",
      "        -6.79063499e-02, -1.15122367e-02,  3.32826450e-02,\n",
      "         1.50354039e-02, -1.91207398e-02,  7.66947400e-03,\n",
      "         1.94877456e-03,  9.14086252e-02, -5.21862647e-03,\n",
      "        -1.36408843e-02, -5.20141236e-02,  7.23122945e-03,\n",
      "        -7.38276243e-02, -1.21242009e-01,  8.51012841e-02,\n",
      "         1.04530025e-02,  7.05132261e-02, -7.02398270e-02,\n",
      "         3.54205333e-02, -3.93904112e-02, -2.44525373e-02,\n",
      "        -1.29526099e-02, -3.61620784e-02, -3.17041501e-02,\n",
      "        -5.27818948e-02, -7.88328126e-02,  3.60217579e-02,\n",
      "         6.11583143e-02, -8.55591521e-02,  7.55507573e-02,\n",
      "         3.63950208e-02,  4.84937541e-02, -3.33179645e-02,\n",
      "        -8.95658508e-03,  2.74208896e-02, -4.36482839e-02,\n",
      "         3.83749269e-02,  1.56831965e-02,  4.11416888e-02,\n",
      "         2.35072449e-02, -3.49255987e-02, -1.80811733e-02,\n",
      "        -4.71169241e-02,  1.72260851e-02, -4.34710942e-02,\n",
      "        -3.76965180e-02,  2.91198902e-02, -5.26251271e-02,\n",
      "         1.92121305e-02, -4.60440479e-02, -5.70826139e-03,\n",
      "        -2.86290292e-02, -5.84307089e-02,  2.83516105e-02,\n",
      "         1.01474784e-01,  3.15992162e-03, -5.36572337e-02,\n",
      "        -2.46629473e-02, -3.39334215e-33,  8.38199779e-02,\n",
      "        -3.02008484e-02,  1.58451721e-01,  1.71536393e-02,\n",
      "         1.53647186e-02, -1.88281946e-02, -9.48384404e-03,\n",
      "         4.82954644e-03, -1.56713724e-02, -5.18415705e-04,\n",
      "        -5.32883182e-02, -2.15468612e-02, -2.56353654e-02,\n",
      "        -8.86745304e-02, -1.17944870e-02,  7.51710823e-03,\n",
      "         5.21207862e-02, -8.79834313e-03, -1.16131932e-01,\n",
      "         6.67171404e-02, -1.26932189e-01,  4.96768616e-02,\n",
      "        -4.12711762e-02, -5.48529550e-02,  6.78244457e-02,\n",
      "        -3.02492641e-02,  5.59834614e-02,  1.13122920e-02,\n",
      "         2.10791044e-02, -1.21499132e-02,  6.66564703e-02,\n",
      "         7.77511969e-02, -3.22024599e-02,  5.04402742e-02,\n",
      "        -5.25179245e-02, -1.63327549e-02, -7.07573742e-02,\n",
      "         2.10607070e-02, -5.37037291e-02,  7.20424578e-02,\n",
      "        -7.39915147e-02,  5.19082658e-02, -8.60756338e-02,\n",
      "         1.45218661e-02,  7.87860155e-02,  3.20999883e-02,\n",
      "         1.43365651e-01,  3.70242707e-02,  4.34049442e-02,\n",
      "         6.58467337e-02, -3.15087587e-02, -1.19276484e-02,\n",
      "         8.50690436e-03, -2.43868381e-02,  5.42706139e-02,\n",
      "         1.22607304e-02, -2.07334794e-02, -5.10471826e-03,\n",
      "        -2.33978429e-03,  8.52988958e-02,  3.37508991e-02,\n",
      "        -4.24669832e-02,  8.19039065e-03,  2.30722949e-02,\n",
      "         1.85460579e-02,  4.64755222e-02, -4.27884199e-02,\n",
      "        -1.17619270e-02, -1.74062885e-02, -3.64835747e-02,\n",
      "         1.08640222e-02,  1.27579486e-02,  5.85792884e-02,\n",
      "         2.30466388e-03, -2.28157640e-03, -6.22887686e-02,\n",
      "         2.74831709e-02, -1.07122488e-01, -1.74128022e-02,\n",
      "         5.77891357e-02, -3.16258259e-02, -5.17559871e-02,\n",
      "         8.83759782e-02, -5.47188707e-02, -4.64093946e-02,\n",
      "         6.38316274e-02,  3.89684997e-02,  2.10874784e-03,\n",
      "         4.48241867e-02,  5.11916773e-03, -1.78967156e-02,\n",
      "        -7.89755955e-02, -9.20615043e-04, -5.24496585e-02,\n",
      "        -6.74361810e-02,  1.57772703e-33, -8.04058090e-02,\n",
      "        -5.41590415e-02, -7.51093253e-02,  1.85796935e-02,\n",
      "         3.59724388e-02,  8.02734960e-03, -3.50446552e-02,\n",
      "         1.12628855e-01, -6.50240630e-02,  3.15753929e-02,\n",
      "        -1.20274741e-02,  9.18220207e-02, -4.01169844e-02,\n",
      "        -5.01925647e-02, -6.70790020e-03, -2.08075438e-02,\n",
      "         8.27878788e-02,  4.68943194e-02, -5.68447411e-02,\n",
      "         5.27090691e-02, -1.72272399e-02,  1.43592544e-02,\n",
      "         3.58315706e-02, -1.59170106e-02, -6.45514280e-02,\n",
      "         7.11683407e-02, -1.08204281e-03,  4.01133485e-02,\n",
      "        -3.28925881e-03,  1.86256859e-02, -6.52634948e-02,\n",
      "         7.26361349e-02, -1.98125802e-02, -1.97971147e-02,\n",
      "        -1.01000927e-02,  6.34709150e-02,  2.30881963e-02,\n",
      "        -9.66897830e-02, -2.86526438e-02,  2.06902400e-02,\n",
      "        -8.82154703e-02, -2.60654073e-02,  5.88101596e-02,\n",
      "        -5.36520313e-03, -4.14004773e-02, -1.73876749e-03,\n",
      "        -1.50092607e-02,  1.33658424e-01,  3.30297984e-02,\n",
      "        -3.27731706e-02, -1.88485384e-02, -9.51245651e-02,\n",
      "         3.40125822e-02,  1.95993185e-02,  9.15964171e-02,\n",
      "         2.68437230e-04, -3.10640968e-02,  6.81352168e-02,\n",
      "         5.22942701e-03,  1.52473003e-02,  6.22576848e-02,\n",
      "        -3.72177735e-02,  1.61047839e-02, -6.08555004e-02,\n",
      "        -1.27581703e-02, -1.10054851e-01,  4.80171330e-02,\n",
      "         9.11573544e-02, -4.93753925e-02,  1.17457502e-01,\n",
      "        -3.24980803e-02, -8.29136372e-02, -5.89656048e-02,\n",
      "         3.71960178e-02,  7.95212835e-02,  2.98861023e-02,\n",
      "         8.12387541e-02, -3.27187851e-02, -2.58454867e-02,\n",
      "         6.89357817e-02, -3.23691778e-02, -7.81922415e-03,\n",
      "         4.86605503e-02,  2.15808433e-02, -6.33083209e-02,\n",
      "         6.49877405e-03,  3.01824446e-04,  1.93466768e-02,\n",
      "        -3.57101187e-02, -5.19494675e-02, -2.99659967e-02,\n",
      "         6.73234090e-02,  2.57853083e-02,  2.45195571e-02,\n",
      "        -6.95800930e-02, -1.61666538e-08,  6.87744170e-02,\n",
      "        -6.70536384e-02, -3.52968462e-02,  7.28438497e-02,\n",
      "        -7.47221112e-02,  1.65730882e-02,  1.07314214e-01,\n",
      "        -8.03369563e-03, -5.93308359e-02,  1.05277717e-03,\n",
      "        -5.85076362e-02,  2.60371231e-02,  2.96183694e-02,\n",
      "        -2.88606044e-02, -2.05860958e-02,  1.91497207e-02,\n",
      "        -7.73819685e-02, -3.60338651e-02,  1.29919546e-02,\n",
      "         6.50469810e-02,  2.39179712e-02,  5.19208945e-02,\n",
      "         4.48047044e-03, -4.76030894e-02,  7.46204285e-03,\n",
      "         7.89201912e-03,  4.33256812e-02,  4.08865996e-02,\n",
      "         4.27314732e-03,  1.15795899e-02,  6.82763522e-03,\n",
      "        -5.54375723e-02,  1.39071541e-02, -7.49282017e-02,\n",
      "        -2.96941306e-02,  1.57264364e-03, -8.49905238e-02,\n",
      "         1.05106771e-01, -2.70795655e-02, -7.88185820e-02,\n",
      "         7.22891614e-02,  8.50955471e-02, -2.52596159e-02,\n",
      "         4.78368476e-02,  2.75162775e-02,  2.54169665e-02,\n",
      "        -9.85967927e-03, -1.50864748e-02,  2.45192219e-02,\n",
      "        -3.06607448e-02,  2.11849846e-02,  6.32996112e-03,\n",
      "         3.17378379e-02, -3.27706151e-02, -2.44656391e-02,\n",
      "        -8.87964666e-02, -2.12983303e-02,  1.62543990e-02,\n",
      "         1.10620931e-02, -3.77785899e-02, -8.19763914e-03,\n",
      "        -4.96314652e-03, -9.75009054e-02,  6.89045340e-02],\n",
      "       [ 7.01876432e-02, -3.00254878e-02, -8.16773549e-02,\n",
      "        -1.56179992e-02, -1.82427734e-03, -4.70208935e-02,\n",
      "        -3.85362245e-02, -3.65156382e-02,  4.35726084e-02,\n",
      "        -1.08309118e-02,  5.19626448e-03, -9.32049751e-02,\n",
      "        -1.17788324e-02, -1.03710607e-01, -3.47635546e-03,\n",
      "         2.03793570e-02, -1.88989230e-02, -1.28717721e-01,\n",
      "        -5.51280286e-03, -4.07368056e-02, -1.20525397e-02,\n",
      "         7.28715733e-02, -3.88528556e-02,  1.83975399e-02,\n",
      "         4.45134565e-02,  2.48509087e-02,  2.23843362e-02,\n",
      "        -9.05666575e-02, -5.04673924e-03,  2.86900867e-02,\n",
      "         3.04275174e-02,  1.21449627e-01, -2.45643407e-02,\n",
      "         7.67772347e-02,  2.53968816e-02, -3.26668061e-02,\n",
      "         2.51529291e-02,  3.51708233e-02,  2.81448867e-02,\n",
      "        -6.37863204e-02,  2.32351348e-02, -1.73956230e-02,\n",
      "        -4.85936925e-02,  3.59209557e-03,  5.18541113e-02,\n",
      "         3.90616455e-03, -2.08951533e-02, -2.20097061e-02,\n",
      "        -1.65206436e-02, -3.64947021e-02, -3.06170695e-02,\n",
      "        -2.64060944e-02, -8.35844129e-02,  1.36251505e-02,\n",
      "         3.23866569e-02, -3.23686413e-02, -3.59970033e-02,\n",
      "        -3.07209007e-02,  4.35955487e-02,  2.20300481e-02,\n",
      "        -1.59797017e-02,  4.94838841e-02, -1.67872142e-02,\n",
      "         3.03429198e-02,  6.10326603e-02, -8.05496983e-03,\n",
      "        -1.07894026e-01,  4.10516039e-02,  5.32594286e-02,\n",
      "        -1.51408631e-02, -4.74308245e-02,  6.30182102e-02,\n",
      "         4.18896824e-02,  7.26967026e-03, -5.61419353e-02,\n",
      "        -4.16217223e-02,  2.03040391e-02, -2.25237571e-02,\n",
      "         5.80918714e-02,  9.53367054e-02,  2.74252370e-02,\n",
      "        -6.14059307e-02,  9.92464647e-03,  8.78982544e-02,\n",
      "        -4.93865795e-02,  2.68278234e-02,  2.03766320e-02,\n",
      "         2.25951113e-02, -3.12549397e-02, -4.67121191e-02,\n",
      "        -1.60824955e-02,  3.61259095e-02, -3.02035157e-02,\n",
      "        -1.58645380e-02, -4.24731150e-02, -2.12753247e-02,\n",
      "        -1.73374708e-03, -2.32651662e-02, -7.10113570e-02,\n",
      "         1.49527071e-02, -1.07465740e-02, -4.49466519e-02,\n",
      "        -2.86017861e-02,  8.21311846e-02, -9.69306827e-02,\n",
      "         2.50331648e-02,  3.08365077e-02, -2.00903267e-02,\n",
      "        -3.17056440e-02, -8.73728096e-03, -8.56080949e-02,\n",
      "         1.46002490e-02,  5.33619784e-02, -6.35505766e-02,\n",
      "        -1.32251889e-01,  1.84714552e-02,  1.82356350e-02,\n",
      "        -4.54968363e-02, -9.77789611e-02, -3.34819667e-02,\n",
      "        -6.45506606e-02,  3.89389321e-02,  1.00073032e-01,\n",
      "         5.85686080e-02, -2.04759985e-02, -5.41332364e-02,\n",
      "         2.45604180e-02, -4.59834435e-33,  6.84524998e-02,\n",
      "        -1.99508034e-02,  8.07709768e-02, -7.32999370e-02,\n",
      "         3.80724743e-02, -2.81750923e-03,  1.98519300e-03,\n",
      "        -9.01565515e-03,  8.09158459e-02, -4.87171626e-03,\n",
      "        -2.78406478e-02, -4.79121730e-02,  5.65881468e-02,\n",
      "        -1.02701992e-01,  1.60833418e-01,  1.63392927e-02,\n",
      "         6.81914911e-02, -4.14436683e-02, -1.29229603e-02,\n",
      "         1.44069549e-03, -1.11439042e-01,  1.12566836e-02,\n",
      "        -4.18146737e-02,  1.61648297e-03, -6.91296980e-02,\n",
      "        -2.86871325e-02,  9.74935517e-02, -1.19655253e-02,\n",
      "        -6.26640301e-03,  2.45750360e-02, -4.85093938e-03,\n",
      "         2.82265227e-02,  4.55316603e-02,  3.87997515e-02,\n",
      "        -5.79305068e-02,  1.26280461e-03, -6.42173439e-02,\n",
      "        -2.81511992e-02, -8.92725885e-02,  2.18218584e-02,\n",
      "        -5.39911091e-02,  1.91144068e-02, -5.11044189e-02,\n",
      "        -1.05802074e-01, -1.18287506e-04, -6.65045390e-03,\n",
      "         6.97636455e-02, -4.67169844e-03, -8.41921419e-02,\n",
      "         6.32819906e-02, -3.02754045e-02,  5.61986491e-02,\n",
      "         1.04004582e-02, -8.29181746e-02,  5.99799268e-02,\n",
      "         9.30012465e-02,  4.82033156e-02,  1.07524833e-02,\n",
      "        -3.98359820e-02, -2.21487507e-02, -2.92855427e-02,\n",
      "        -1.36251301e-01, -3.24585699e-02,  9.19222180e-03,\n",
      "        -3.59039754e-02,  5.55518679e-02,  3.28572467e-02,\n",
      "        -3.43829170e-02, -1.46155097e-02, -2.24010833e-02,\n",
      "         5.40647656e-02, -1.02222003e-02,  1.19447904e-02,\n",
      "         4.95870858e-02, -1.68164335e-02,  1.11995796e-02,\n",
      "         9.14587174e-03, -5.42522408e-03,  1.74076017e-02,\n",
      "         8.21208283e-02,  8.31273496e-02,  4.78560738e-02,\n",
      "         4.10571843e-02, -6.47492781e-02,  8.70914012e-02,\n",
      "        -1.34637272e-02,  2.19009146e-02,  5.57270236e-02,\n",
      "         2.37691402e-03, -4.11283784e-02, -2.54612602e-02,\n",
      "        -2.47626100e-02, -1.97657458e-02, -7.93708414e-02,\n",
      "         3.61700058e-02,  1.95034790e-33,  3.36189643e-02,\n",
      "         1.38470847e-02, -6.64201677e-02, -9.20784939e-03,\n",
      "        -1.57268085e-02,  7.10761622e-02,  4.06787992e-02,\n",
      "         5.28661832e-02,  6.71484247e-02,  2.23459583e-02,\n",
      "         4.92793508e-02,  7.76849315e-02,  1.37860579e-02,\n",
      "        -2.63959393e-02,  6.79402873e-02,  1.93367936e-02,\n",
      "        -6.46541687e-03,  2.34864075e-02, -1.37864515e-01,\n",
      "         7.84729496e-02,  2.93176323e-02, -1.08466595e-02,\n",
      "        -6.70578927e-02, -3.65425907e-02, -6.63292632e-02,\n",
      "         2.63746530e-02, -3.79380696e-02,  9.38252658e-02,\n",
      "        -5.09719886e-02,  1.54615883e-02,  5.35923392e-02,\n",
      "        -3.35305184e-02, -5.06905988e-02, -2.12120134e-02,\n",
      "        -8.14243257e-02,  3.16530094e-02,  8.47856328e-02,\n",
      "        -6.62712231e-02, -4.30870056e-02, -2.54600886e-02,\n",
      "        -1.17566891e-01,  8.63594264e-02,  1.00072190e-01,\n",
      "        -5.19623049e-02, -3.28111798e-02, -3.22101340e-02,\n",
      "         3.10548977e-03,  8.66588801e-02, -5.06281666e-03,\n",
      "        -1.05327860e-01,  1.74823944e-02, -2.86656385e-03,\n",
      "        -2.62039388e-03,  1.50846913e-02,  8.17999765e-02,\n",
      "         5.85896010e-03,  1.01527497e-02,  4.21162061e-02,\n",
      "         2.95638908e-02, -1.27028182e-01,  6.24006763e-02,\n",
      "        -6.41754046e-02,  1.31576639e-02,  2.27292664e-02,\n",
      "         3.55136814e-03,  3.87606323e-02,  3.67774181e-02,\n",
      "         1.11481473e-01,  3.47755030e-02, -4.71955538e-02,\n",
      "         2.78606508e-02, -6.69287220e-02, -5.60504384e-02,\n",
      "         4.41052020e-02,  2.69156769e-02,  9.29152891e-02,\n",
      "         4.45912918e-03,  6.28392547e-02,  3.10785361e-02,\n",
      "        -3.72459926e-02,  1.85524318e-02,  2.93912068e-02,\n",
      "         1.25271752e-02, -1.29355183e-02,  7.50662461e-02,\n",
      "        -2.81508110e-04,  1.03877271e-02, -6.79327101e-02,\n",
      "         6.65693963e-03, -2.97391950e-03, -6.11898191e-02,\n",
      "         2.51278765e-02, -3.13300081e-02,  8.61387849e-02,\n",
      "         1.28448578e-02, -1.42595225e-08,  1.32444559e-03,\n",
      "        -5.32661937e-02,  1.86664760e-02,  2.16129776e-02,\n",
      "        -3.34896408e-02,  3.17284279e-02,  8.28030854e-02,\n",
      "         2.45261118e-02,  4.79813069e-02,  3.74403335e-02,\n",
      "        -3.54453176e-02, -3.38432789e-02, -6.13446832e-02,\n",
      "         4.59578671e-02,  5.40549774e-03, -6.75342157e-02,\n",
      "        -9.21920175e-04, -3.32153365e-02, -1.82749759e-02,\n",
      "         1.10111001e-03, -6.51253536e-02,  9.53941345e-02,\n",
      "         3.93171282e-03, -1.24934753e-02,  7.58554414e-02,\n",
      "         2.34941896e-02, -1.34231681e-02, -1.12808965e-01,\n",
      "         6.01367950e-02, -3.92233720e-03,  2.44563166e-03,\n",
      "         5.19637205e-02,  3.94202694e-02, -9.76774544e-02,\n",
      "        -9.40425396e-02,  2.84178816e-02,  8.28565806e-02,\n",
      "         1.00337215e-01,  1.01211958e-03,  1.57164503e-03,\n",
      "         3.64893489e-02,  5.64591177e-02, -8.72999150e-03,\n",
      "        -4.61303163e-03, -4.51790448e-03,  4.90012243e-02,\n",
      "         5.79871573e-02, -2.41856631e-02, -4.80559841e-02,\n",
      "        -7.67349973e-02,  1.50207523e-02,  4.12572660e-02,\n",
      "         1.14329439e-03, -5.33737205e-02, -3.72235700e-02,\n",
      "        -5.93466125e-02, -2.25629769e-02,  1.35367941e-02,\n",
      "        -1.90175732e-03,  8.49850755e-03,  7.85610601e-02,\n",
      "        -3.74416374e-02, -1.06717639e-01,  2.44033709e-02]])]\n"
     ]
    }
   ],
   "source": [
    "print(results_test['distances'])\n",
    "print(results_test['embeddings'])"
   ]
  },
  {
   "cell_type": "markdown",
   "id": "17437d65",
   "metadata": {},
   "source": [
    "As we see above the distance from the query to the first sentence is much smaller than to the second sentence, which makes sense as we are asking a question specifically about Saturn.\n",
    "\n",
    "Let's now remove the word 'sky' altogether and see what we get."
   ]
  },
  {
   "cell_type": "code",
   "execution_count": 8,
   "id": "fa7db54b",
   "metadata": {},
   "outputs": [
    {
     "name": "stdout",
     "output_type": "stream",
     "text": [
      "[[0.7035682797431946, 1.515793800354004]]\n"
     ]
    }
   ],
   "source": [
    "results_test2 = collection_test.query(\n",
    "    query_texts=[\"How is the weather on Saturn?\"], \n",
    "    n_results=2\n",
    ")\n",
    "print(results_test2['distances'])"
   ]
  },
  {
   "cell_type": "markdown",
   "id": "ee08f252",
   "metadata": {},
   "source": [
    "### Second example\n",
    "Let's play with Chroma to get a sense of the limits of the embeddings."
   ]
  },
  {
   "cell_type": "code",
   "execution_count": 9,
   "id": "0c49a4d8",
   "metadata": {},
   "outputs": [],
   "source": [
    "collection_test.add(\n",
    "    ids=[\"id3\", \"id4\", \"id5\", \"id6\"],\n",
    "    documents=[\n",
    "        \"Sri Lanka is not worth visiting.\",\n",
    "        \"Ceylan is a beautiful  place.\",\n",
    "        \"I like going to South Asia.\",\n",
    "        \"I love going to the beach.\"\n",
    "    ]\n",
    ")"
   ]
  },
  {
   "cell_type": "code",
   "execution_count": 10,
   "id": "3f83a2f9",
   "metadata": {},
   "outputs": [
    {
     "name": "stdout",
     "output_type": "stream",
     "text": [
      "Sri Lanka is not worth visiting. 0.8618\n",
      "I like going to South Asia. 0.8624\n",
      "I love going to the beach. 1.3409\n",
      "Ceylan is a beautiful  place. 1.5688\n",
      "There is no sky in India. 1.6129\n"
     ]
    }
   ],
   "source": [
    "results_test3 = collection_test.query(\n",
    "    query_texts=[\"I would love to go to Sri Lanka.\"], \n",
    "    n_results=6 \n",
    ")\n",
    "for i in range(5):\n",
    "    sentence = results_test3['documents'][0][i]\n",
    "    distance = results_test3['distances'][0][i]\n",
    "    print(f\"{sentence} {distance:.4f}\")"
   ]
  },
  {
   "cell_type": "markdown",
   "id": "a2dfe207",
   "metadata": {},
   "source": [
    "We can already see some limitations, with sentiment not captured properly and certain words not fully understood (Sri Lanka was previously named Ceylan)"
   ]
  },
  {
   "cell_type": "markdown",
   "id": "063f5c9c",
   "metadata": {},
   "source": [
    "# Migration reports dataset\n",
    "\n",
    "Let's now try to extract text directly from our `EMN.csv` file."
   ]
  },
  {
   "cell_type": "code",
   "execution_count": 4,
   "id": "e19ab525",
   "metadata": {},
   "outputs": [
    {
     "data": {
      "text/html": [
       "<div>\n",
       "<style scoped>\n",
       "    .dataframe tbody tr th:only-of-type {\n",
       "        vertical-align: middle;\n",
       "    }\n",
       "\n",
       "    .dataframe tbody tr th {\n",
       "        vertical-align: top;\n",
       "    }\n",
       "\n",
       "    .dataframe thead th {\n",
       "        text-align: right;\n",
       "    }\n",
       "</style>\n",
       "<table border=\"1\" class=\"dataframe\">\n",
       "  <thead>\n",
       "    <tr style=\"text-align: right;\">\n",
       "      <th></th>\n",
       "      <th>Country</th>\n",
       "      <th>Year</th>\n",
       "      <th>Title</th>\n",
       "      <th>Subtitle</th>\n",
       "      <th>Content</th>\n",
       "      <th>Grouped_Title</th>\n",
       "    </tr>\n",
       "  </thead>\n",
       "  <tbody>\n",
       "    <tr>\n",
       "      <th>0</th>\n",
       "      <td>Finland</td>\n",
       "      <td>2012</td>\n",
       "      <td>LEGAL MIGRATION AND MOBILITY</td>\n",
       "      <td>Main</td>\n",
       "      <td>As part of the Government Programme, the devel...</td>\n",
       "      <td>LEGAL MIGRATION AND MOBILITY</td>\n",
       "    </tr>\n",
       "    <tr>\n",
       "      <th>1</th>\n",
       "      <td>Finland</td>\n",
       "      <td>2012</td>\n",
       "      <td>LEGAL MIGRATION AND MOBILITY</td>\n",
       "      <td>PROMOTING LEGAL MIGRATION CHANNELS</td>\n",
       "      <td>As part of the Action Plan on labour migration...</td>\n",
       "      <td>LEGAL MIGRATION AND MOBILITY</td>\n",
       "    </tr>\n",
       "    <tr>\n",
       "      <th>2</th>\n",
       "      <td>Finland</td>\n",
       "      <td>2012</td>\n",
       "      <td>LEGAL MIGRATION AND MOBILITY</td>\n",
       "      <td>ECONOMIC MIGRATION</td>\n",
       "      <td>The improvement of the labour market position ...</td>\n",
       "      <td>LEGAL MIGRATION AND MOBILITY</td>\n",
       "    </tr>\n",
       "    <tr>\n",
       "      <th>3</th>\n",
       "      <td>Finland</td>\n",
       "      <td>2012</td>\n",
       "      <td>LEGAL MIGRATION AND MOBILITY</td>\n",
       "      <td>FAMILY REUNIFICATION</td>\n",
       "      <td>A comparative study on family reunification in...</td>\n",
       "      <td>LEGAL MIGRATION AND MOBILITY</td>\n",
       "    </tr>\n",
       "    <tr>\n",
       "      <th>4</th>\n",
       "      <td>Finland</td>\n",
       "      <td>2012</td>\n",
       "      <td>INTEGRATION</td>\n",
       "      <td>Main</td>\n",
       "      <td>In September 2012, the Government Integration ...</td>\n",
       "      <td>INTEGRATION</td>\n",
       "    </tr>\n",
       "    <tr>\n",
       "      <th>...</th>\n",
       "      <td>...</td>\n",
       "      <td>...</td>\n",
       "      <td>...</td>\n",
       "      <td>...</td>\n",
       "      <td>...</td>\n",
       "      <td>...</td>\n",
       "    </tr>\n",
       "    <tr>\n",
       "      <th>4320</th>\n",
       "      <td>Portugal</td>\n",
       "      <td>2023</td>\n",
       "      <td>BORDERS, VISA AND SCHENGEN</td>\n",
       "      <td>Main</td>\n",
       "      <td>Ordinance 321/2023 of 27 October, first amendm...</td>\n",
       "      <td>BORDERS AND VISAS</td>\n",
       "    </tr>\n",
       "    <tr>\n",
       "      <th>4321</th>\n",
       "      <td>Portugal</td>\n",
       "      <td>2023</td>\n",
       "      <td>IRREGULAR MIGRATION</td>\n",
       "      <td>Main</td>\n",
       "      <td>No significant developments to report in 2023.</td>\n",
       "      <td>IRREGULAR MIGRATION</td>\n",
       "    </tr>\n",
       "    <tr>\n",
       "      <th>4322</th>\n",
       "      <td>Portugal</td>\n",
       "      <td>2023</td>\n",
       "      <td>TRAFFICKING IN HUMAN BEINGS</td>\n",
       "      <td>Main</td>\n",
       "      <td>During 2023, the Observatory on Trafficking in...</td>\n",
       "      <td>TRAFFICKING IN HUMAN BEINGS</td>\n",
       "    </tr>\n",
       "    <tr>\n",
       "      <th>4323</th>\n",
       "      <td>Portugal</td>\n",
       "      <td>2023</td>\n",
       "      <td>RETURN AND READMISSION</td>\n",
       "      <td>Main</td>\n",
       "      <td>During the second trimester of 2023, Portugal ...</td>\n",
       "      <td>RETURN AND READMISSION</td>\n",
       "    </tr>\n",
       "    <tr>\n",
       "      <th>4324</th>\n",
       "      <td>Portugal</td>\n",
       "      <td>2023</td>\n",
       "      <td>MIGRATION AND DEVELOPMENT</td>\n",
       "      <td>Main</td>\n",
       "      <td>No significant developments to report in 2023.</td>\n",
       "      <td>MIGRATION AND DEVELOPMENT</td>\n",
       "    </tr>\n",
       "  </tbody>\n",
       "</table>\n",
       "<p>4325 rows × 6 columns</p>\n",
       "</div>"
      ],
      "text/plain": [
       "       Country  Year                         Title  \\\n",
       "0      Finland  2012  LEGAL MIGRATION AND MOBILITY   \n",
       "1      Finland  2012  LEGAL MIGRATION AND MOBILITY   \n",
       "2      Finland  2012  LEGAL MIGRATION AND MOBILITY   \n",
       "3      Finland  2012  LEGAL MIGRATION AND MOBILITY   \n",
       "4      Finland  2012                   INTEGRATION   \n",
       "...        ...   ...                           ...   \n",
       "4320  Portugal  2023    BORDERS, VISA AND SCHENGEN   \n",
       "4321  Portugal  2023           IRREGULAR MIGRATION   \n",
       "4322  Portugal  2023   TRAFFICKING IN HUMAN BEINGS   \n",
       "4323  Portugal  2023        RETURN AND READMISSION   \n",
       "4324  Portugal  2023     MIGRATION AND DEVELOPMENT   \n",
       "\n",
       "                                Subtitle  \\\n",
       "0                                   Main   \n",
       "1     PROMOTING LEGAL MIGRATION CHANNELS   \n",
       "2                     ECONOMIC MIGRATION   \n",
       "3                   FAMILY REUNIFICATION   \n",
       "4                                   Main   \n",
       "...                                  ...   \n",
       "4320                                Main   \n",
       "4321                                Main   \n",
       "4322                                Main   \n",
       "4323                                Main   \n",
       "4324                                Main   \n",
       "\n",
       "                                                Content  \\\n",
       "0     As part of the Government Programme, the devel...   \n",
       "1     As part of the Action Plan on labour migration...   \n",
       "2     The improvement of the labour market position ...   \n",
       "3     A comparative study on family reunification in...   \n",
       "4     In September 2012, the Government Integration ...   \n",
       "...                                                 ...   \n",
       "4320  Ordinance 321/2023 of 27 October, first amendm...   \n",
       "4321    No significant developments to report in 2023.    \n",
       "4322  During 2023, the Observatory on Trafficking in...   \n",
       "4323  During the second trimester of 2023, Portugal ...   \n",
       "4324     No significant developments to report in 2023.   \n",
       "\n",
       "                     Grouped_Title  \n",
       "0     LEGAL MIGRATION AND MOBILITY  \n",
       "1     LEGAL MIGRATION AND MOBILITY  \n",
       "2     LEGAL MIGRATION AND MOBILITY  \n",
       "3     LEGAL MIGRATION AND MOBILITY  \n",
       "4                      INTEGRATION  \n",
       "...                            ...  \n",
       "4320             BORDERS AND VISAS  \n",
       "4321           IRREGULAR MIGRATION  \n",
       "4322   TRAFFICKING IN HUMAN BEINGS  \n",
       "4323        RETURN AND READMISSION  \n",
       "4324     MIGRATION AND DEVELOPMENT  \n",
       "\n",
       "[4325 rows x 6 columns]"
      ]
     },
     "execution_count": 4,
     "metadata": {},
     "output_type": "execute_result"
    }
   ],
   "source": [
    "# load data\n",
    "df = pd.read_csv('data/EMN.csv', encoding='utf-8')\n",
    "df"
   ]
  },
  {
   "cell_type": "markdown",
   "id": "bbd1db2a",
   "metadata": {},
   "source": [
    "Let's first focus on creating embeddings for a single country, single year, and without focusing on any metadata such as the title, year, country (consider only the Content column).\n",
    "\n",
    "We can first consider only one cell, as it contains already a lot of text, and then build on this to add progressively more embeddings."
   ]
  },
  {
   "cell_type": "code",
   "execution_count": 5,
   "id": "9b735205",
   "metadata": {},
   "outputs": [],
   "source": [
    "client = chromadb.PersistentClient(path=\"data\")"
   ]
  },
  {
   "cell_type": "code",
   "execution_count": 12,
   "id": "25816f8f",
   "metadata": {},
   "outputs": [],
   "source": [
    "collection = client.create_collection(name=\"emn_finland_2012\")"
   ]
  },
  {
   "cell_type": "markdown",
   "id": "14ed2e9f",
   "metadata": {},
   "source": [
    "Let's now extract the text and add it to our `migration_finland_2012` collection.\n",
    "\n",
    "The text is the following:\\\n",
    "First cell:\\\n",
    "As part of the Government Programme, the development of a comprehensive Future of Migration 2020 Strategy started in 2012. The objective of the Strategy is to design a policy which supports the building of an unprejudiced, safe and pluralistic Finland as well as enhance Finland‚Äôs international competitiveness. The Strategy was developed under the coordination of the Ministry of Interior together with over 40 represented stakeholders and it was adopted in June 2013. Also, the Ministry of the Interior set up a project to improve the effectiveness of the administration of immigration affairs which will run until December 2014. The concept of improving the effectiveness of the administration of immigration affairs was supported by two projects related to centres of expertise: the first, led by the Ministry of Employment and the Economy, looked into the establishment of a centre of expertise that promotes integration activities, while the second, set up by the Ministry of the Interior, assessed the prerequisites for founding a centre of expertise on the compilation of statistics and research about immigration. A public dialogue on immigration was launched in 2012 focusing on the costs of immigration, while a project to adopt a cooperative model among immigration authorities ( FPB) was launched in January 2012 by the Minister of Interior. The objective of the project is to improve the effectiveness of co- operation of authorities responsible for immigration affairs. \n",
    "\n",
    "Second cell:\\\n",
    "As part of the Action Plan on labour migration, a number of projects in different parts of Finland have been financed by the European Social Fund ( ESF). Projects focused on creating training systems, developing services for settling as well as building models for recruitment of labour migrants. \n",
    "\n",
    "Third cell:\\\n",
    "The improvement of the labour market position of immigrants has been defined as one of the targets of the Government Programme. Cooperation between the State and the municipalities of the Helsinki Metropolitan Area was considered a functional operating model. The implementation of the policy guidelines for international employment services, approved by the Ministry of Employment and the Economy in 2011, started at the beginning of 2012. The Ministry of Employment and the Economy launched the HYV√Ñ nurse recruitment project as a part of its HYV√Ñ (entrepreneurship and cooperation programme (2013-15) with the objective to define the roles and tasks of various parties in the international recruitment of registered nursing staff. In addition, the Ministry of Employment and the Economy has published a practical guide ‚ÄúExperience of International Recruitment to Finland‚Äù, which contains practical hints, check-lists and experiences that can be utilised at different stages of recruitment of foreign nationals. The National Audit Office of Finland published the report ‚ÄúWork-based Immigration‚Äù in September 2012. The report reflected on targeted programmes and projects for the promotion of work-based immigration. \n",
    "\n",
    "Fourth cell:\\\n",
    "A comparative study on family reunification in Nordic countries conducted by the Ministry of Interior was published in April 2012 with the aim to analyse and compare legislative provisions related to 2 residence permits issued on the ground of family ties and to formulate a proposal for amendments to the Aliens Act. The study recommended raising the threshold requirements of sufficient income to beneficiaries of humanitarian protection as well as introducing requirements for adequate accommodation. "
   ]
  },
  {
   "cell_type": "markdown",
   "id": "277698ea",
   "metadata": {},
   "source": [
    "Start by adding one cell to visualize the embeddings."
   ]
  },
  {
   "cell_type": "code",
   "execution_count": 13,
   "id": "1ca5d8e2",
   "metadata": {},
   "outputs": [],
   "source": [
    "text0 = df['Content'][0]"
   ]
  },
  {
   "cell_type": "code",
   "execution_count": 14,
   "id": "2639720c",
   "metadata": {},
   "outputs": [],
   "source": [
    "collection.add(\n",
    "    ids=[\"id0\"],\n",
    "    documents=[\n",
    "        text0\n",
    "    ]\n",
    ")"
   ]
  },
  {
   "cell_type": "code",
   "execution_count": 15,
   "id": "43d05a16",
   "metadata": {},
   "outputs": [
    {
     "name": "stdout",
     "output_type": "stream",
     "text": [
      "(1, 1, 384) [[0.9370808601379395]]\n"
     ]
    }
   ],
   "source": [
    "results = collection.query(\n",
    "    query_texts=[\"When did the development of a comprehensive Future of Migration 2020 Strategy start?\"], \n",
    "    n_results=6,\n",
    "    include=[\"documents\", \"distances\", \"embeddings\"] \n",
    "    \n",
    ")\n",
    "\n",
    "print(np.shape(results['embeddings']), results['distances'])"
   ]
  },
  {
   "cell_type": "code",
   "execution_count": 16,
   "id": "1cb2654d",
   "metadata": {},
   "outputs": [],
   "source": [
    "client.delete_collection(\"emn_finland_2012\")"
   ]
  },
  {
   "cell_type": "markdown",
   "id": "97fb357b",
   "metadata": {},
   "source": [
    "As we can see above, the whole text was embedded as a single vector.\n",
    "\n",
    "We can add progressively more cells and see how the retrieval performance is, to see if we need to chunk out text (we probably will).\n",
    "To that purpose, let us define 3 questions with increasing difficulty:\n",
    "- Which Finnish ministry coordinated the development of the Future of Migration 2020 Strategy? (refers to the first cell, matches literally)\n",
    "- What initiatives were launched in Finland to recruit foreign nurses, and during which years did they take place? (refers to the 3rd cell, checks if meaning is understood)\n",
    "- What measures has Finland taken to address climate change in Arctic regions? (not mentionned)\n",
    "\n",
    "Let's also add the three other cells."
   ]
  },
  {
   "cell_type": "code",
   "execution_count": 17,
   "id": "4b3eb7dd",
   "metadata": {},
   "outputs": [
    {
     "name": "stdout",
     "output_type": "stream",
     "text": [
      "As part of the Action Plan on labour migration, a number of projects in different parts of Finland have been financed by the European Social Fund ( ESF). Projects focused on creating training systems, developing services for settling as well as building models for recruitment of labour migrants. \n",
      "\n",
      "The improvement of the labour market position of immigrants has been defined as one of the targets of the Government Programme. Cooperation between the State and the municipalities of the Helsinki Metropolitan Area was considered a functional operating model. The implementation of the policy guidelines for international employment services, approved by the Ministry of Employment and the Economy in 2011, started at the beginning of 2012. The Ministry of Employment and the Economy launched the HYVÄ nurse recruitment project as a part of its HYVÄ (entrepreneurship and cooperation programme (2013-15) with the objective to define the roles and tasks of various parties in the international recruitment of registered nursing staff. In addition, the Ministry of Employment and the Economy has published a practical guide “Experience of International Recruitment to Finland”, which contains practical hints, check-lists and experiences that can be utilised at different stages of recruitment of foreign nationals. The National Audit Office of Finland published the report “Work-based Immigration” in September 2012. The report reflected on targeted programmes and projects for the promotion of work-based immigration. \n",
      "\n",
      "A comparative study on family reunification in Nordic countries conducted by the Ministry of Interior was published in April 2012 with the aim to analyse and compare legislative provisions related to 2 residence permits issued on the ground of family ties and to formulate a proposal for amendments to the Aliens Act. The study recommended raising the threshold requirements of sufficient income to beneficiaries of humanitarian protection as well as introducing requirements for adequate accommodation. \n",
      "\n"
     ]
    }
   ],
   "source": [
    "text1 = df['Content'][1]\n",
    "text2 = df['Content'][2]\n",
    "text3 = df['Content'][3]\n",
    "print(f\"{text1}\\n\")\n",
    "print(f\"{text2}\\n\")\n",
    "print(f\"{text3}\\n\")"
   ]
  },
  {
   "cell_type": "code",
   "execution_count": 18,
   "id": "21ce4bb2",
   "metadata": {},
   "outputs": [
    {
     "name": "stdout",
     "output_type": "stream",
     "text": [
      "A comparative study on family reunification in Nordic countries conducted by the Ministry of Interior was published in April 2012 with the aim to analyse and compare legislative provisions related to 2 residence permits issued on the ground of family ties and to formulate a proposal for amendments to the Aliens Act. The study recommended raising the threshold requirements of sufficient income to beneficiaries of humanitarian protection as well as introducing requirements for adequate accommodation. \n"
     ]
    }
   ],
   "source": [
    "collection = client.create_collection(name=\"emn_finland_2012\")\n",
    "\n",
    "collection.add(\n",
    "    ids=[\"id0\", \"id1\", \"id2\", \"id3\"],\n",
    "    documents=[text0, text1, text2, text3]\n",
    ")\n",
    "print(collection.get()['documents'][3])  \n"
   ]
  },
  {
   "cell_type": "code",
   "execution_count": 19,
   "id": "f45459d3",
   "metadata": {},
   "outputs": [
    {
     "name": "stdout",
     "output_type": "stream",
     "text": [
      "Which Finnish ministry coordinated the development of the Future of Migration 2020 Strategy?\n",
      "0.6571 As part of the Government Programme, the development of a comprehensive Future of Migration 2020 Strategy started in 2012. The objective of the Strategy is to design a policy which supports the building of an unprejudiced, safe and pluralistic Finland as well as enhance Finland’s international competitiveness. The Strategy was developed under the coordination of the Ministry of Interior together with over 40 represented stakeholders and it was adopted in June 2013. Also, the Ministry of the Interior set up a project to improve the effectiveness of the administration of immigration affairs which will run until December 2014. The concept of improving the effectiveness of the administration of immigration affairs was supported by two projects related to centres of expertise: the first, led by the Ministry of Employment and the Economy, looked into the establishment of a centre of expertise that promotes integration activities, while the second, set up by the Ministry of the Interior, assessed the prerequisites for founding a centre of expertise on the compilation of statistics and research about immigration. A public dialogue on immigration was launched in 2012 focusing on the costs of immigration, while a project to adopt a cooperative model among immigration authorities ( FPB) was launched in January 2012 by the Minister of Interior. The objective of the project is to improve the effectiveness of co- operation of authorities responsible for immigration affairs. \n",
      "0.8520 As part of the Action Plan on labour migration, a number of projects in different parts of Finland have been financed by the European Social Fund ( ESF). Projects focused on creating training systems, developing services for settling as well as building models for recruitment of labour migrants. \n",
      "0.9412 The improvement of the labour market position of immigrants has been defined as one of the targets of the Government Programme. Cooperation between the State and the municipalities of the Helsinki Metropolitan Area was considered a functional operating model. The implementation of the policy guidelines for international employment services, approved by the Ministry of Employment and the Economy in 2011, started at the beginning of 2012. The Ministry of Employment and the Economy launched the HYVÄ nurse recruitment project as a part of its HYVÄ (entrepreneurship and cooperation programme (2013-15) with the objective to define the roles and tasks of various parties in the international recruitment of registered nursing staff. In addition, the Ministry of Employment and the Economy has published a practical guide “Experience of International Recruitment to Finland”, which contains practical hints, check-lists and experiences that can be utilised at different stages of recruitment of foreign nationals. The National Audit Office of Finland published the report “Work-based Immigration” in September 2012. The report reflected on targeted programmes and projects for the promotion of work-based immigration. \n",
      "1.2938 A comparative study on family reunification in Nordic countries conducted by the Ministry of Interior was published in April 2012 with the aim to analyse and compare legislative provisions related to 2 residence permits issued on the ground of family ties and to formulate a proposal for amendments to the Aliens Act. The study recommended raising the threshold requirements of sufficient income to beneficiaries of humanitarian protection as well as introducing requirements for adequate accommodation. \n",
      "What initiatives were launched in Finland to recruit foreign nurses, and during which years did they take place?\n",
      "0.6236 As part of the Government Programme, the development of a comprehensive Future of Migration 2020 Strategy started in 2012. The objective of the Strategy is to design a policy which supports the building of an unprejudiced, safe and pluralistic Finland as well as enhance Finland’s international competitiveness. The Strategy was developed under the coordination of the Ministry of Interior together with over 40 represented stakeholders and it was adopted in June 2013. Also, the Ministry of the Interior set up a project to improve the effectiveness of the administration of immigration affairs which will run until December 2014. The concept of improving the effectiveness of the administration of immigration affairs was supported by two projects related to centres of expertise: the first, led by the Ministry of Employment and the Economy, looked into the establishment of a centre of expertise that promotes integration activities, while the second, set up by the Ministry of the Interior, assessed the prerequisites for founding a centre of expertise on the compilation of statistics and research about immigration. A public dialogue on immigration was launched in 2012 focusing on the costs of immigration, while a project to adopt a cooperative model among immigration authorities ( FPB) was launched in January 2012 by the Minister of Interior. The objective of the project is to improve the effectiveness of co- operation of authorities responsible for immigration affairs. \n",
      "0.8911 As part of the Action Plan on labour migration, a number of projects in different parts of Finland have been financed by the European Social Fund ( ESF). Projects focused on creating training systems, developing services for settling as well as building models for recruitment of labour migrants. \n",
      "1.0402 The improvement of the labour market position of immigrants has been defined as one of the targets of the Government Programme. Cooperation between the State and the municipalities of the Helsinki Metropolitan Area was considered a functional operating model. The implementation of the policy guidelines for international employment services, approved by the Ministry of Employment and the Economy in 2011, started at the beginning of 2012. The Ministry of Employment and the Economy launched the HYVÄ nurse recruitment project as a part of its HYVÄ (entrepreneurship and cooperation programme (2013-15) with the objective to define the roles and tasks of various parties in the international recruitment of registered nursing staff. In addition, the Ministry of Employment and the Economy has published a practical guide “Experience of International Recruitment to Finland”, which contains practical hints, check-lists and experiences that can be utilised at different stages of recruitment of foreign nationals. The National Audit Office of Finland published the report “Work-based Immigration” in September 2012. The report reflected on targeted programmes and projects for the promotion of work-based immigration. \n",
      "1.4765 A comparative study on family reunification in Nordic countries conducted by the Ministry of Interior was published in April 2012 with the aim to analyse and compare legislative provisions related to 2 residence permits issued on the ground of family ties and to formulate a proposal for amendments to the Aliens Act. The study recommended raising the threshold requirements of sufficient income to beneficiaries of humanitarian protection as well as introducing requirements for adequate accommodation. \n",
      "What measures has Finland taken to address climate change in Arctic regions?\n",
      "1.3345 As part of the Government Programme, the development of a comprehensive Future of Migration 2020 Strategy started in 2012. The objective of the Strategy is to design a policy which supports the building of an unprejudiced, safe and pluralistic Finland as well as enhance Finland’s international competitiveness. The Strategy was developed under the coordination of the Ministry of Interior together with over 40 represented stakeholders and it was adopted in June 2013. Also, the Ministry of the Interior set up a project to improve the effectiveness of the administration of immigration affairs which will run until December 2014. The concept of improving the effectiveness of the administration of immigration affairs was supported by two projects related to centres of expertise: the first, led by the Ministry of Employment and the Economy, looked into the establishment of a centre of expertise that promotes integration activities, while the second, set up by the Ministry of the Interior, assessed the prerequisites for founding a centre of expertise on the compilation of statistics and research about immigration. A public dialogue on immigration was launched in 2012 focusing on the costs of immigration, while a project to adopt a cooperative model among immigration authorities ( FPB) was launched in January 2012 by the Minister of Interior. The objective of the project is to improve the effectiveness of co- operation of authorities responsible for immigration affairs. \n",
      "1.3655 As part of the Action Plan on labour migration, a number of projects in different parts of Finland have been financed by the European Social Fund ( ESF). Projects focused on creating training systems, developing services for settling as well as building models for recruitment of labour migrants. \n",
      "1.4579 The improvement of the labour market position of immigrants has been defined as one of the targets of the Government Programme. Cooperation between the State and the municipalities of the Helsinki Metropolitan Area was considered a functional operating model. The implementation of the policy guidelines for international employment services, approved by the Ministry of Employment and the Economy in 2011, started at the beginning of 2012. The Ministry of Employment and the Economy launched the HYVÄ nurse recruitment project as a part of its HYVÄ (entrepreneurship and cooperation programme (2013-15) with the objective to define the roles and tasks of various parties in the international recruitment of registered nursing staff. In addition, the Ministry of Employment and the Economy has published a practical guide “Experience of International Recruitment to Finland”, which contains practical hints, check-lists and experiences that can be utilised at different stages of recruitment of foreign nationals. The National Audit Office of Finland published the report “Work-based Immigration” in September 2012. The report reflected on targeted programmes and projects for the promotion of work-based immigration. \n",
      "1.6566 A comparative study on family reunification in Nordic countries conducted by the Ministry of Interior was published in April 2012 with the aim to analyse and compare legislative provisions related to 2 residence permits issued on the ground of family ties and to formulate a proposal for amendments to the Aliens Act. The study recommended raising the threshold requirements of sufficient income to beneficiaries of humanitarian protection as well as introducing requirements for adequate accommodation. \n"
     ]
    }
   ],
   "source": [
    "query0 = \"Which Finnish ministry coordinated the development of the Future of Migration 2020 Strategy?\"\n",
    "query1 = \"What initiatives were launched in Finland to recruit foreign nurses, and during which years did they take place?\"\n",
    "query2 = \"What measures has Finland taken to address climate change in Arctic regions?\"\n",
    "\n",
    "queries = [query0, query1, query2]\n",
    "results = collection.query(\n",
    "    query_texts=queries, \n",
    "    include=[\"documents\", \"distances\", \"embeddings\"] \n",
    "    \n",
    ")\n",
    "\n",
    "for i in range(3):\n",
    "    query = queries[i]\n",
    "    print(query)\n",
    "    for j in range(4):\n",
    "        document = results['documents'][0][j]\n",
    "        dist = results['distances'][i][j]\n",
    "        print(f\"{dist:.4f} {document}\")\n"
   ]
  },
  {
   "cell_type": "markdown",
   "id": "661f589c",
   "metadata": {},
   "source": [
    "We see that the queries containing the exact text in the document render the right extraction (1st query), but the 2nd query, testing semantic understanding, does not render the right result.\n",
    "\n",
    "Here are the following ideas to improve the similarity search:\n",
    "- Choose a different embedding model.\n",
    "- Split text into smaller chunks.\n",
    "- Use metadata.\n",
    "- Change distance function.\n",
    "\n",
    "Before trying any of this, let's first add all the cells about Finland to our vector database."
   ]
  },
  {
   "cell_type": "code",
   "execution_count": 20,
   "id": "c2486a77",
   "metadata": {},
   "outputs": [],
   "source": [
    "client.delete_collection(\"emn_finland_2012\")"
   ]
  },
  {
   "cell_type": "markdown",
   "id": "9c12188b",
   "metadata": {},
   "source": [
    "# Indexing: Finland\n",
    "As mentioned above, we can index all the cells regarding Finland as a baseline and then from there try to implement either four options cited above."
   ]
  },
  {
   "cell_type": "code",
   "execution_count": 21,
   "id": "63d4ccc8",
   "metadata": {},
   "outputs": [],
   "source": [
    "collection = client.create_collection(name=\"emn_finland\")"
   ]
  },
  {
   "cell_type": "code",
   "execution_count": 22,
   "id": "7c634a17",
   "metadata": {},
   "outputs": [
    {
     "data": {
      "text/html": [
       "<div>\n",
       "<style scoped>\n",
       "    .dataframe tbody tr th:only-of-type {\n",
       "        vertical-align: middle;\n",
       "    }\n",
       "\n",
       "    .dataframe tbody tr th {\n",
       "        vertical-align: top;\n",
       "    }\n",
       "\n",
       "    .dataframe thead th {\n",
       "        text-align: right;\n",
       "    }\n",
       "</style>\n",
       "<table border=\"1\" class=\"dataframe\">\n",
       "  <thead>\n",
       "    <tr style=\"text-align: right;\">\n",
       "      <th></th>\n",
       "      <th>Country</th>\n",
       "      <th>Year</th>\n",
       "      <th>Title</th>\n",
       "      <th>Subtitle</th>\n",
       "      <th>Content</th>\n",
       "      <th>Grouped_Title</th>\n",
       "    </tr>\n",
       "  </thead>\n",
       "  <tbody>\n",
       "    <tr>\n",
       "      <th>0</th>\n",
       "      <td>Finland</td>\n",
       "      <td>2012</td>\n",
       "      <td>LEGAL MIGRATION AND MOBILITY</td>\n",
       "      <td>Main</td>\n",
       "      <td>As part of the Government Programme, the devel...</td>\n",
       "      <td>LEGAL MIGRATION AND MOBILITY</td>\n",
       "    </tr>\n",
       "    <tr>\n",
       "      <th>1</th>\n",
       "      <td>Finland</td>\n",
       "      <td>2012</td>\n",
       "      <td>LEGAL MIGRATION AND MOBILITY</td>\n",
       "      <td>PROMOTING LEGAL MIGRATION CHANNELS</td>\n",
       "      <td>As part of the Action Plan on labour migration...</td>\n",
       "      <td>LEGAL MIGRATION AND MOBILITY</td>\n",
       "    </tr>\n",
       "    <tr>\n",
       "      <th>2</th>\n",
       "      <td>Finland</td>\n",
       "      <td>2012</td>\n",
       "      <td>LEGAL MIGRATION AND MOBILITY</td>\n",
       "      <td>ECONOMIC MIGRATION</td>\n",
       "      <td>The improvement of the labour market position ...</td>\n",
       "      <td>LEGAL MIGRATION AND MOBILITY</td>\n",
       "    </tr>\n",
       "    <tr>\n",
       "      <th>3</th>\n",
       "      <td>Finland</td>\n",
       "      <td>2012</td>\n",
       "      <td>LEGAL MIGRATION AND MOBILITY</td>\n",
       "      <td>FAMILY REUNIFICATION</td>\n",
       "      <td>A comparative study on family reunification in...</td>\n",
       "      <td>LEGAL MIGRATION AND MOBILITY</td>\n",
       "    </tr>\n",
       "    <tr>\n",
       "      <th>4</th>\n",
       "      <td>Finland</td>\n",
       "      <td>2012</td>\n",
       "      <td>INTEGRATION</td>\n",
       "      <td>Main</td>\n",
       "      <td>In September 2012, the Government Integration ...</td>\n",
       "      <td>INTEGRATION</td>\n",
       "    </tr>\n",
       "    <tr>\n",
       "      <th>...</th>\n",
       "      <td>...</td>\n",
       "      <td>...</td>\n",
       "      <td>...</td>\n",
       "      <td>...</td>\n",
       "      <td>...</td>\n",
       "      <td>...</td>\n",
       "    </tr>\n",
       "    <tr>\n",
       "      <th>4204</th>\n",
       "      <td>Finland</td>\n",
       "      <td>2023</td>\n",
       "      <td>BORDERS, VISA AND SCHENGEN</td>\n",
       "      <td>Main</td>\n",
       "      <td>The instrumentalised migration from Russia to ...</td>\n",
       "      <td>BORDERS AND VISAS</td>\n",
       "    </tr>\n",
       "    <tr>\n",
       "      <th>4205</th>\n",
       "      <td>Finland</td>\n",
       "      <td>2023</td>\n",
       "      <td>IRREGULAR MIGRATION</td>\n",
       "      <td>Main</td>\n",
       "      <td>No significant developments to report in 2023.</td>\n",
       "      <td>IRREGULAR MIGRATION</td>\n",
       "    </tr>\n",
       "    <tr>\n",
       "      <th>4206</th>\n",
       "      <td>Finland</td>\n",
       "      <td>2023</td>\n",
       "      <td>TRAFFICKING IN HUMAN BEINGS</td>\n",
       "      <td>Main</td>\n",
       "      <td>Legislative amendments entered into force in J...</td>\n",
       "      <td>TRAFFICKING IN HUMAN BEINGS</td>\n",
       "    </tr>\n",
       "    <tr>\n",
       "      <th>4207</th>\n",
       "      <td>Finland</td>\n",
       "      <td>2023</td>\n",
       "      <td>RETURN AND READMISSION</td>\n",
       "      <td>Main</td>\n",
       "      <td>The government programme outlines a variety of...</td>\n",
       "      <td>RETURN AND READMISSION</td>\n",
       "    </tr>\n",
       "    <tr>\n",
       "      <th>4208</th>\n",
       "      <td>Finland</td>\n",
       "      <td>2023</td>\n",
       "      <td>MIGRATION AND DEVELOPMENT</td>\n",
       "      <td>Main</td>\n",
       "      <td>No significant developments to report in 2023.</td>\n",
       "      <td>MIGRATION AND DEVELOPMENT</td>\n",
       "    </tr>\n",
       "  </tbody>\n",
       "</table>\n",
       "<p>162 rows × 6 columns</p>\n",
       "</div>"
      ],
      "text/plain": [
       "      Country  Year                         Title  \\\n",
       "0     Finland  2012  LEGAL MIGRATION AND MOBILITY   \n",
       "1     Finland  2012  LEGAL MIGRATION AND MOBILITY   \n",
       "2     Finland  2012  LEGAL MIGRATION AND MOBILITY   \n",
       "3     Finland  2012  LEGAL MIGRATION AND MOBILITY   \n",
       "4     Finland  2012                   INTEGRATION   \n",
       "...       ...   ...                           ...   \n",
       "4204  Finland  2023    BORDERS, VISA AND SCHENGEN   \n",
       "4205  Finland  2023           IRREGULAR MIGRATION   \n",
       "4206  Finland  2023   TRAFFICKING IN HUMAN BEINGS   \n",
       "4207  Finland  2023        RETURN AND READMISSION   \n",
       "4208  Finland  2023     MIGRATION AND DEVELOPMENT   \n",
       "\n",
       "                                Subtitle  \\\n",
       "0                                   Main   \n",
       "1     PROMOTING LEGAL MIGRATION CHANNELS   \n",
       "2                     ECONOMIC MIGRATION   \n",
       "3                   FAMILY REUNIFICATION   \n",
       "4                                   Main   \n",
       "...                                  ...   \n",
       "4204                                Main   \n",
       "4205                                Main   \n",
       "4206                                Main   \n",
       "4207                                Main   \n",
       "4208                                Main   \n",
       "\n",
       "                                                Content  \\\n",
       "0     As part of the Government Programme, the devel...   \n",
       "1     As part of the Action Plan on labour migration...   \n",
       "2     The improvement of the labour market position ...   \n",
       "3     A comparative study on family reunification in...   \n",
       "4     In September 2012, the Government Integration ...   \n",
       "...                                                 ...   \n",
       "4204  The instrumentalised migration from Russia to ...   \n",
       "4205    No significant developments to report in 2023.    \n",
       "4206  Legislative amendments entered into force in J...   \n",
       "4207  The government programme outlines a variety of...   \n",
       "4208     No significant developments to report in 2023.   \n",
       "\n",
       "                     Grouped_Title  \n",
       "0     LEGAL MIGRATION AND MOBILITY  \n",
       "1     LEGAL MIGRATION AND MOBILITY  \n",
       "2     LEGAL MIGRATION AND MOBILITY  \n",
       "3     LEGAL MIGRATION AND MOBILITY  \n",
       "4                      INTEGRATION  \n",
       "...                            ...  \n",
       "4204             BORDERS AND VISAS  \n",
       "4205           IRREGULAR MIGRATION  \n",
       "4206   TRAFFICKING IN HUMAN BEINGS  \n",
       "4207        RETURN AND READMISSION  \n",
       "4208     MIGRATION AND DEVELOPMENT  \n",
       "\n",
       "[162 rows x 6 columns]"
      ]
     },
     "execution_count": 22,
     "metadata": {},
     "output_type": "execute_result"
    }
   ],
   "source": [
    "df_finland = df[df['Country']=='Finland']\n",
    "df_finland"
   ]
  },
  {
   "cell_type": "code",
   "execution_count": 23,
   "id": "5e646d07",
   "metadata": {},
   "outputs": [],
   "source": [
    "# extract IDs (as in the original .csv -> not consecutive)\n",
    "ids_finland = df_finland.index.tolist()\n",
    "ids_finland_str = [str(i) for i in df_finland.index.tolist()]\n",
    "# extract the text to embed\n",
    "docus_finland = [df_finland['Content'][i] for i in ids_finland]"
   ]
  },
  {
   "cell_type": "code",
   "execution_count": 24,
   "id": "abab0311",
   "metadata": {},
   "outputs": [
    {
     "name": "stdout",
     "output_type": "stream",
     "text": [
      "A comparative study on family reunification in Nordic countries conducted by the Ministry of Interior was published in April 2012 with the aim to analyse and compare legislative provisions related to 2 residence permits issued on the ground of family ties and to formulate a proposal for amendments to the Aliens Act. The study recommended raising the threshold requirements of sufficient income to beneficiaries of humanitarian protection as well as introducing requirements for adequate accommodation. \n"
     ]
    }
   ],
   "source": [
    "# add to our collection\n",
    "collection.add(\n",
    "    ids=ids_finland_str,\n",
    "    documents=docus_finland\n",
    ")\n",
    "print(collection.get()['documents'][3])  \n"
   ]
  },
  {
   "cell_type": "markdown",
   "id": "b26bb185",
   "metadata": {},
   "source": [
    "### Queries\n",
    "Now that the sub-dataset has been stored in the vector database, we can generate a few queries to see how well Chroma is able to retrieve the relevant information."
   ]
  },
  {
   "cell_type": "code",
   "execution_count": 25,
   "id": "e5bd79f6",
   "metadata": {},
   "outputs": [],
   "source": [
    "q_fin_1 = \"Which Finnish ministry coordinated the development of the Future of Migration 2020 Strategy?\" # row 2 in .csv\n",
    "q_fin_2 = \"What initiatives were launched in Finland to recruit foreign nurses, and during which years did they take place?\" # row 4 in .csv\n",
    "q_fin_3 = \"What measures has Finland taken to address climate change in Arctic regions?\" # not mentioned\n",
    "q_fin_4 = \"From 2015 on, how many asylum seekers has Finland commited to relocate?\" # row 961 in .csv, 3,200 out of 160,000\n"
   ]
  },
  {
   "cell_type": "code",
   "execution_count": 26,
   "id": "e42692f7",
   "metadata": {},
   "outputs": [],
   "source": [
    "queries = [q_fin_1, q_fin_2, q_fin_3, q_fin_4]\n",
    "\n",
    "results = collection.query(\n",
    "    query_texts=queries, \n",
    "    include=[\"documents\", \"distances\", \"embeddings\"],\n",
    "    n_results= len(ids_finland)\n",
    "    \n",
    ")"
   ]
  },
  {
   "cell_type": "code",
   "execution_count": 27,
   "id": "2611cb2c",
   "metadata": {},
   "outputs": [
    {
     "name": "stdout",
     "output_type": "stream",
     "text": [
      "(4, 162)\n",
      "[[0.5436655282974243, 0.5515410304069519, 0.5969497561454773, 0.6020833253860474, 0.6238492727279663, 0.6374987363815308, 0.6375800371170044, 0.6452267169952393, 0.6570550799369812, 0.7069797515869141, 0.7183794379234314, 0.7264158129692078, 0.7378663420677185, 0.7444997429847717, 0.7488411664962769, 0.7659775018692017, 0.7707520127296448, 0.7767466306686401, 0.7886557579040527, 0.7924311757087708, 0.802104651927948, 0.8148541450500488, 0.8218898773193359, 0.8362795114517212, 0.8373836278915405, 0.8382729887962341, 0.8483997583389282, 0.8492474555969238, 0.849816083908081, 0.8502651453018188, 0.8502699732780457, 0.85204017162323, 0.8520480394363403, 0.8554637432098389, 0.8560668230056763, 0.8600274920463562, 0.8617389798164368, 0.8723912239074707, 0.875162661075592, 0.8758412003517151, 0.8800768852233887, 0.8800935745239258, 0.8919601440429688, 0.9060940742492676, 0.9076313972473145, 0.9176934361457825, 0.9266870021820068, 0.9408370852470398, 0.94107985496521, 0.9411644339561462, 0.9421113729476929, 0.9465407133102417, 0.9486606121063232, 0.9498438835144043, 0.961107075214386, 0.9643769264221191, 0.9647761583328247, 0.9730836749076843, 0.9730919003486633, 0.9762377738952637, 0.9766553640365601, 0.9770248532295227, 0.995507001876831, 0.9957679510116577, 1.0053776502609253, 1.0077643394470215, 1.0142507553100586, 1.0207316875457764, 1.0246189832687378, 1.0324608087539673, 1.0339374542236328, 1.0386772155761719, 1.0548360347747803, 1.0598669052124023, 1.0652315616607666, 1.0747709274291992, 1.0762602090835571, 1.0773985385894775, 1.0938050746917725, 1.0976542234420776, 1.0987255573272705, 1.1023238897323608, 1.1036584377288818, 1.1066480875015259, 1.1084349155426025, 1.11810302734375, 1.1212542057037354, 1.1249542236328125, 1.1252613067626953, 1.1255568265914917, 1.128007411956787, 1.1345934867858887, 1.1412439346313477, 1.1473524570465088, 1.150285005569458, 1.1508426666259766, 1.15285325050354, 1.1532196998596191, 1.159944772720337, 1.1642943620681763, 1.1710727214813232, 1.172926425933838, 1.176283359527588, 1.1794480085372925, 1.186660885810852, 1.1924405097961426, 1.2005906105041504, 1.2044413089752197, 1.2189435958862305, 1.223376750946045, 1.228003740310669, 1.2306280136108398, 1.2317767143249512, 1.2421983480453491, 1.245064377784729, 1.2565888166427612, 1.2653427124023438, 1.2937524318695068, 1.3032376766204834, 1.3113106489181519, 1.326061725616455, 1.3327584266662598, 1.3365204334259033, 1.3373979330062866, 1.3449347019195557, 1.3517556190490723, 1.3552285432815552, 1.3565068244934082, 1.4195598363876343, 1.4253079891204834, 1.4371936321258545, 1.4437495470046997, 1.4632353782653809, 1.4807332754135132, 1.4928770065307617, 1.494134545326233, 1.5007667541503906, 1.5288541316986084, 1.549676775932312, 1.553570032119751, 1.563948631286621, 1.5720961093902588, 1.580439567565918, 1.608503818511963, 1.6291522979736328, 1.6563302278518677, 1.6665573120117188, 1.6665573120117188, 1.6671377420425415, 1.6691343784332275, 1.6725025177001953, 1.6789082288742065, 1.6791869401931763, 1.6791869401931763, 1.6791869401931763, 1.6829264163970947, 1.707194209098816, 1.712143063545227, 1.71414053440094, 1.717644453048706, 1.7507472038269043, 1.866166591644287], [0.6236038208007812, 0.7690541744232178, 0.8196384906768799, 0.8455088138580322, 0.864640474319458, 0.86577969789505, 0.876399040222168, 0.8884401917457581, 0.8911435604095459, 0.8960720300674438, 0.9058482050895691, 0.9149047136306763, 0.9171751141548157, 0.9221286773681641, 0.929186999797821, 0.9419057369232178, 0.9483461380004883, 0.9496157169342041, 0.9511054754257202, 0.9557424783706665, 0.9598847031593323, 0.962296724319458, 0.9654870629310608, 0.9710738658905029, 0.9715404510498047, 0.9724093079566956, 0.9733381867408752, 0.9749212861061096, 0.9785685539245605, 0.9815051555633545, 0.986466646194458, 0.9931823015213013, 0.9966320991516113, 0.9989079236984253, 1.0024161338806152, 1.0025184154510498, 1.0030001401901245, 1.0041003227233887, 1.0088235139846802, 1.0143260955810547, 1.0149106979370117, 1.0162228345870972, 1.0209192037582397, 1.0222125053405762, 1.0224294662475586, 1.0253030061721802, 1.0297772884368896, 1.0361342430114746, 1.0373121500015259, 1.0402346849441528, 1.046720027923584, 1.0520286560058594, 1.0523126125335693, 1.0613579750061035, 1.0625555515289307, 1.0630903244018555, 1.0688657760620117, 1.0697810649871826, 1.073146104812622, 1.0740814208984375, 1.0779670476913452, 1.0785837173461914, 1.0845087766647339, 1.086292028427124, 1.0900754928588867, 1.0968321561813354, 1.0970922708511353, 1.0985859632492065, 1.1012743711471558, 1.1032613515853882, 1.1044514179229736, 1.1062904596328735, 1.1101588010787964, 1.1181271076202393, 1.1193071603775024, 1.119581699371338, 1.1214196681976318, 1.1224050521850586, 1.1339293718338013, 1.1351866722106934, 1.1405259370803833, 1.1451232433319092, 1.1511316299438477, 1.161241054534912, 1.168114185333252, 1.17832350730896, 1.1888542175292969, 1.1910507678985596, 1.1996538639068604, 1.2091162204742432, 1.214128017425537, 1.221506953239441, 1.2221615314483643, 1.2274999618530273, 1.230901837348938, 1.2427787780761719, 1.2477108240127563, 1.24827241897583, 1.24947988986969, 1.2761459350585938, 1.276477575302124, 1.276511788368225, 1.2919951677322388, 1.2922189235687256, 1.2982876300811768, 1.3206737041473389, 1.3222696781158447, 1.333551049232483, 1.3494083881378174, 1.3670539855957031, 1.3806008100509644, 1.41795015335083, 1.445275902748108, 1.4485363960266113, 1.449973225593567, 1.476522445678711, 1.4939271211624146, 1.4968727827072144, 1.5046560764312744, 1.5073623657226562, 1.507485270500183, 1.538149118423462, 1.53847074508667, 1.5404517650604248, 1.5460333824157715, 1.550326943397522, 1.5531798601150513, 1.554111123085022, 1.5742313861846924, 1.5758602619171143, 1.5820046663284302, 1.5995219945907593, 1.6002390384674072, 1.6088835000991821, 1.6116313934326172, 1.6175873279571533, 1.6289677619934082, 1.634356141090393, 1.64250910282135, 1.6645654439926147, 1.6777317523956299, 1.688225269317627, 1.7021398544311523, 1.7156522274017334, 1.717423915863037, 1.7179286479949951, 1.7468113899230957, 1.7532902956008911, 1.7562174797058105, 1.7651488780975342, 1.7917397022247314, 1.7958028316497803, 1.8019261360168457, 1.8025898933410645, 1.887363314628601, 1.887363314628601, 1.889923334121704, 1.8962396383285522, 1.9292266368865967, 1.9994909763336182, 1.9994909763336182, 1.9994909763336182], [1.0411256551742554, 1.1057960987091064, 1.1456115245819092, 1.1457760334014893, 1.163535237312317, 1.1765129566192627, 1.1772205829620361, 1.1802425384521484, 1.2002935409545898, 1.2080398797988892, 1.2166346311569214, 1.2205535173416138, 1.2249219417572021, 1.2366435527801514, 1.2391597032546997, 1.2392048835754395, 1.2618420124053955, 1.2665507793426514, 1.2931278944015503, 1.2970452308654785, 1.2974605560302734, 1.301262617111206, 1.3022549152374268, 1.311894416809082, 1.317455768585205, 1.317746877670288, 1.3184404373168945, 1.3192375898361206, 1.3293509483337402, 1.333235740661621, 1.333542823791504, 1.334484577178955, 1.336019515991211, 1.3385661840438843, 1.3389877080917358, 1.3391544818878174, 1.339906930923462, 1.3457841873168945, 1.3553903102874756, 1.355462670326233, 1.3576407432556152, 1.3654648065567017, 1.365912914276123, 1.3676891326904297, 1.3679895401000977, 1.3689465522766113, 1.3699195384979248, 1.3705235719680786, 1.3731789588928223, 1.3741436004638672, 1.3778184652328491, 1.3790473937988281, 1.3841227293014526, 1.3854542970657349, 1.3866021633148193, 1.3869588375091553, 1.3910092115402222, 1.393923282623291, 1.3962678909301758, 1.3982758522033691, 1.4002166986465454, 1.4042271375656128, 1.4060897827148438, 1.4088084697723389, 1.4108585119247437, 1.4130327701568604, 1.4184726476669312, 1.4234431982040405, 1.423570156097412, 1.42507803440094, 1.4303970336914062, 1.4305574893951416, 1.4381552934646606, 1.4387903213500977, 1.4439589977264404, 1.4441471099853516, 1.4455382823944092, 1.448793649673462, 1.4510853290557861, 1.452261209487915, 1.4578726291656494, 1.460625410079956, 1.4619412422180176, 1.4637067317962646, 1.464661717414856, 1.4683690071105957, 1.4920539855957031, 1.4935460090637207, 1.4946637153625488, 1.496020793914795, 1.4983415603637695, 1.5185773372650146, 1.5192244052886963, 1.5198625326156616, 1.5226144790649414, 1.5304652452468872, 1.532850980758667, 1.5332934856414795, 1.5356862545013428, 1.5425173044204712, 1.543284296989441, 1.5565991401672363, 1.5650160312652588, 1.5669949054718018, 1.5685172080993652, 1.586655616760254, 1.591033697128296, 1.5917832851409912, 1.5933566093444824, 1.6023555994033813, 1.6084762811660767, 1.6135103702545166, 1.6236133575439453, 1.6526992321014404, 1.6566050052642822, 1.672116994857788, 1.675885796546936, 1.681760549545288, 1.6904735565185547, 1.6927015781402588, 1.6927015781402588, 1.695242166519165, 1.6967012882232666, 1.6967012882232666, 1.6967012882232666, 1.7038137912750244, 1.7067660093307495, 1.7146165370941162, 1.7180685997009277, 1.7459129095077515, 1.76993989944458, 1.7924247980117798, 1.7982110977172852, 1.7995575666427612, 1.8031553030014038, 1.812119483947754, 1.8129832744598389, 1.8151310682296753, 1.8193155527114868, 1.8209407329559326, 1.8239340782165527, 1.8259263038635254, 1.8319019079208374, 1.8352336883544922, 1.8444156646728516, 1.8458008766174316, 1.8562376499176025, 1.8616703748703003, 1.8712375164031982, 1.8747622966766357, 1.8757658004760742, 1.8773818016052246, 1.891923427581787, 1.9099246263504028, 1.9120450019836426, 1.9229068756103516, 1.9332540035247803, 1.9512546062469482, 1.9752960205078125, 1.9821076393127441, 1.9860799312591553, 1.9985558986663818], [0.3458932936191559, 0.4578634202480316, 0.5003971457481384, 0.5043748617172241, 0.5104976892471313, 0.549029529094696, 0.552853524684906, 0.5709618330001831, 0.60433429479599, 0.6425324082374573, 0.6573058366775513, 0.6709980368614197, 0.6763619780540466, 0.7027224898338318, 0.7243477702140808, 0.7626206874847412, 0.7626701593399048, 0.7655251026153564, 0.7913406491279602, 0.8010101318359375, 0.8082830309867859, 0.8139140605926514, 0.8169988393783569, 0.8170148134231567, 0.836275041103363, 0.8617573976516724, 0.8866302371025085, 0.8989682197570801, 0.90208899974823, 0.9240501523017883, 0.9316134452819824, 0.9367029666900635, 0.9367839097976685, 0.93751060962677, 0.9542135000228882, 0.9636461734771729, 0.9639606475830078, 0.9644993543624878, 0.9649743437767029, 0.9691446423530579, 0.9765247702598572, 0.976925790309906, 0.9800654649734497, 0.9811663031578064, 0.9857155084609985, 0.9873194694519043, 1.0048701763153076, 1.0050395727157593, 1.0070750713348389, 1.0085322856903076, 1.0126240253448486, 1.0128445625305176, 1.0216668844223022, 1.025818943977356, 1.0261318683624268, 1.0285658836364746, 1.0292491912841797, 1.0296506881713867, 1.0321087837219238, 1.0335643291473389, 1.0354382991790771, 1.0414212942123413, 1.0444893836975098, 1.0545200109481812, 1.0618339776992798, 1.0779328346252441, 1.0812180042266846, 1.0869958400726318, 1.09218168258667, 1.093341588973999, 1.094175100326538, 1.0945782661437988, 1.0969691276550293, 1.0969891548156738, 1.1025258302688599, 1.104010820388794, 1.112640380859375, 1.1311168670654297, 1.1319355964660645, 1.1380743980407715, 1.144474983215332, 1.1486133337020874, 1.1486883163452148, 1.1489598751068115, 1.1511402130126953, 1.151606559753418, 1.1517829895019531, 1.1541852951049805, 1.1606316566467285, 1.1622288227081299, 1.1628016233444214, 1.1672050952911377, 1.169212818145752, 1.1733698844909668, 1.1788098812103271, 1.1866894960403442, 1.1881608963012695, 1.1887283325195312, 1.1966443061828613, 1.2276458740234375, 1.2315499782562256, 1.2400223016738892, 1.242339849472046, 1.2427310943603516, 1.2492640018463135, 1.2587388753890991, 1.2609617710113525, 1.2648239135742188, 1.2689285278320312, 1.278043270111084, 1.2797527313232422, 1.2884409427642822, 1.302912712097168, 1.305807113647461, 1.308103084564209, 1.3250722885131836, 1.3435418605804443, 1.345825433731079, 1.3567448854446411, 1.3680675029754639, 1.3720650672912598, 1.3943793773651123, 1.402930736541748, 1.40569269657135, 1.4062397480010986, 1.4106976985931396, 1.4297746419906616, 1.4442055225372314, 1.4468848705291748, 1.456254005432129, 1.4668505191802979, 1.4728288650512695, 1.502013087272644, 1.5068129301071167, 1.50787353515625, 1.5203289985656738, 1.5284576416015625, 1.5333688259124756, 1.541728138923645, 1.545053482055664, 1.5735121965408325, 1.591503620147705, 1.593770980834961, 1.5951861143112183, 1.6074110269546509, 1.6158679723739624, 1.6278836727142334, 1.631241798400879, 1.6854088306427002, 1.6907272338867188, 1.6907272338867188, 1.7212140560150146, 1.7472121715545654, 1.7568279504776, 1.7619585990905762, 1.7734441757202148, 1.8182201385498047, 1.8182201385498047, 1.8182201385498047, 1.8463091850280762, 1.847564935684204, 1.979043960571289]]\n"
     ]
    }
   ],
   "source": [
    "# Print top 5 distances and original text\n",
    "print(np.shape(results['distances']))\n",
    "print(results['distances'])"
   ]
  },
  {
   "cell_type": "code",
   "execution_count": 28,
   "id": "91ebbbd1",
   "metadata": {},
   "outputs": [
    {
     "name": "stdout",
     "output_type": "stream",
     "text": [
      "\n",
      "Query 1: Which Finnish ministry coordinated the development of the Future of Migration 2020 Strategy?\n",
      "  Row in csv: 2345 | Distance: 0.5437 | Doc: The 2019 programme for government emphasised the connection ...\n",
      "  Row in csv: 4200 | Distance: 0.5515 | Doc: A new government was formed in Finland after the parliamenta...\n",
      "  Row in csv: 4199 | Distance: 0.5969 | Doc: A new government took office in 2023 and its programme seeks...\n",
      "  Row in csv: 963 | Distance: 0.6021 | Doc: In 2015, the Finnish Government approved the Government migr...\n",
      "  Row in csv: 11 | Distance: 0.6238 | Doc: The relationship between migration and development policy is...\n",
      "\n",
      "Query 2: What initiatives were launched in Finland to recruit foreign nurses, and during which years did they take place?\n",
      "  Row in csv: 4 | Distance: 0.6236 | Doc: The improvement of the labour market position of immigrants ...\n",
      "  Row in csv: 464 | Distance: 0.7691 | Doc: The Development Policy Programme of 2012 identifies migratio...\n",
      "  Row in csv: 967 | Distance: 0.8196 | Doc: On 27 November 2015, the Ministerial Working Group on migrat...\n",
      "  Row in csv: 465 | Distance: 0.8455 | Doc: The Future of Migration 2020 strategy emphasises the importa...\n",
      "  Row in csv: 4199 | Distance: 0.8646 | Doc: A new government took office in 2023 and its programme seeks...\n",
      "\n",
      "Query 3: What measures has Finland taken to address climate change in Arctic regions?\n",
      "  Row in csv: 464 | Distance: 1.0411 | Doc: The Development Policy Programme of 2012 identifies migratio...\n",
      "  Row in csv: 4200 | Distance: 1.1058 | Doc: A new government was formed in Finland after the parliamenta...\n",
      "  Row in csv: 2341 | Distance: 1.1456 | Doc: On 15 April 2019, the Council of the European Union adopted ...\n",
      "  Row in csv: 4205 | Distance: 1.1458 | Doc: The Ministry of the Interior launched a reform of the Nation...\n",
      "  Row in csv: 466 | Distance: 1.1635 | Doc: At EU level, the exchange of information takes place in the ...\n",
      "\n",
      "Query 4: From 2015 on, how many asylum seekers has Finland commited to relocate?\n",
      "  Row in csv: 961 | Distance: 0.3459 | Doc: The relocation of asylum seekers from Italy and Greece began...\n",
      "  Row in csv: 1204 | Distance: 0.4579 | Doc: In late 2015 and early 2016 an exceptional number of asylum ...\n",
      "  Row in csv: 1200 | Distance: 0.5004 | Doc: In 2016, the number of registered asylum seekers was 5,651 w...\n",
      "  Row in csv: 1431 | Distance: 0.5044 | Doc: The number of new asylum applications in Finland further dec...\n",
      "  Row in csv: 1436 | Distance: 0.5105 | Doc: The number of asylum seekers arriving in Finland has decreas...\n"
     ]
    }
   ],
   "source": [
    "# print top 5 retrieved documents for each query\n",
    "for q_id, query in enumerate(queries):\n",
    "    print(f\"\\nQuery {q_id+1}: {queries[q_id]}\")\n",
    "    \n",
    "    # get distances, original text, and ID for each query\n",
    "    dists = np.array(results['distances'][q_id])\n",
    "    docs = np.array(results['documents'][q_id])\n",
    "    ids = np.array(results['ids'][q_id])\n",
    "    \n",
    "    top_k = 5\n",
    "    \n",
    "    # print 5 best results (smallest distance), results are already from closest to farthest\n",
    "    for i in range(top_k):\n",
    "        print(f\"  Row in csv: {int(ids[i])+2} | Distance: {dists[i]:.4f} | Doc: {docs[i][:60]}...\")\n",
    "        "
   ]
  },
  {
   "cell_type": "code",
   "execution_count": 29,
   "id": "71186475",
   "metadata": {},
   "outputs": [
    {
     "name": "stdout",
     "output_type": "stream",
     "text": [
      "[0.5436655282974243, 0.5515410304069519, 0.5969497561454773, 0.6020833253860474, 0.6238492727279663, 0.6374987363815308, 0.6375800371170044, 0.6452267169952393, 0.6570550799369812, 0.7069797515869141, 0.7183794379234314, 0.7264158129692078, 0.7378663420677185, 0.7444997429847717, 0.7488411664962769, 0.7659775018692017, 0.7707520127296448, 0.7767466306686401, 0.7886557579040527, 0.7924311757087708, 0.802104651927948, 0.8148541450500488, 0.8218898773193359, 0.8362795114517212, 0.8373836278915405, 0.8382729887962341, 0.8483997583389282, 0.8492474555969238, 0.849816083908081, 0.8502651453018188, 0.8502699732780457, 0.85204017162323, 0.8520480394363403, 0.8554637432098389, 0.8560668230056763, 0.8600274920463562, 0.8617389798164368, 0.8723912239074707, 0.875162661075592, 0.8758412003517151, 0.8800768852233887, 0.8800935745239258, 0.8919601440429688, 0.9060940742492676, 0.9076313972473145, 0.9176934361457825, 0.9266870021820068, 0.9408370852470398, 0.94107985496521, 0.9411644339561462, 0.9421113729476929, 0.9465407133102417, 0.9486606121063232, 0.9498438835144043, 0.961107075214386, 0.9643769264221191, 0.9647761583328247, 0.9730836749076843, 0.9730919003486633, 0.9762377738952637, 0.9766553640365601, 0.9770248532295227, 0.995507001876831, 0.9957679510116577, 1.0053776502609253, 1.0077643394470215, 1.0142507553100586, 1.0207316875457764, 1.0246189832687378, 1.0324608087539673, 1.0339374542236328, 1.0386772155761719, 1.0548360347747803, 1.0598669052124023, 1.0652315616607666, 1.0747709274291992, 1.0762602090835571, 1.0773985385894775, 1.0938050746917725, 1.0976542234420776, 1.0987255573272705, 1.1023238897323608, 1.1036584377288818, 1.1066480875015259, 1.1084349155426025, 1.11810302734375, 1.1212542057037354, 1.1249542236328125, 1.1252613067626953, 1.1255568265914917, 1.128007411956787, 1.1345934867858887, 1.1412439346313477, 1.1473524570465088, 1.150285005569458, 1.1508426666259766, 1.15285325050354, 1.1532196998596191, 1.159944772720337, 1.1642943620681763, 1.1710727214813232, 1.172926425933838, 1.176283359527588, 1.1794480085372925, 1.186660885810852, 1.1924405097961426, 1.2005906105041504, 1.2044413089752197, 1.2189435958862305, 1.223376750946045, 1.228003740310669, 1.2306280136108398, 1.2317767143249512, 1.2421983480453491, 1.245064377784729, 1.2565888166427612, 1.2653427124023438, 1.2937524318695068, 1.3032376766204834, 1.3113106489181519, 1.326061725616455, 1.3327584266662598, 1.3365204334259033, 1.3373979330062866, 1.3449347019195557, 1.3517556190490723, 1.3552285432815552, 1.3565068244934082, 1.4195598363876343, 1.4253079891204834, 1.4371936321258545, 1.4437495470046997, 1.4632353782653809, 1.4807332754135132, 1.4928770065307617, 1.494134545326233, 1.5007667541503906, 1.5288541316986084, 1.549676775932312, 1.553570032119751, 1.563948631286621, 1.5720961093902588, 1.580439567565918, 1.608503818511963, 1.6291522979736328, 1.6563302278518677, 1.6665573120117188, 1.6665573120117188, 1.6671377420425415, 1.6691343784332275, 1.6725025177001953, 1.6789082288742065, 1.6791869401931763, 1.6791869401931763, 1.6791869401931763, 1.6829264163970947, 1.707194209098816, 1.712143063545227, 1.71414053440094, 1.717644453048706, 1.7507472038269043, 1.866166591644287]\n",
      "[\"The 2019 programme for government emphasised the connection between migration and development by highlighting Finland's Africa strategy. According to the programme, Finland will prepare a comprehensive Africa strategy, expand its political and economic interaction with African countries, and direct its development cooperation funding towards tackling the root causes of migration. The Finnish Ministry for Foreign Affairs ran migration information campaigns in Iraq and Afghanistan, which aimed to tackle the root causes of irregular migration.\", 'A new government was formed in Finland after the parliamentary elections in spring 2023. The new government comprises the National Coalition Party, the Finns Party, the Swedish People’s Party and the Christian Democrats. The new government programme of summer 2023 addresses migration and integration. Marking a shift in Finland, it generally seeks to tighten the migration, asylum and integration policy. This follows the overall direction of developments in migration and asylum policies in the Nordic countries, as well as in the European Union (EU) as a whole. ', 'A new government took office in 2023 and its programme seeks to tighten migration, asylum and integration policy in Finland. Despite general restrictions on migration, there is a continued commitment to streamlining labour migration and focusing specifically on highly educated migrants and labour shortage sectors. Increasing numbers of asylum seekers started to enter Finland from Russia. The Finnish government initially closed several border crossing points and eventually closed the entire eastern border from November 2023. ', 'In 2015, the Finnish Government approved the Government migration policies. The 65 actions contained therein apply to migration flows and entry management as well as to reception, processing procedures, social security and integration. The actions focus on ensuring sufficient availability of municipal placements, through efficient and compulsory inclusion in integration-supporting actions as well as through a better employment of the migrants’ innovation and entrepreneurship skills. ', 'The relationship between migration and development policy is acknowledged in the draft new migration strategy. The strategy highlights the need to raise awareness on the interrelationship between migration and development, as necessary for acting in an ethically sustainable way and for preventing the negative effects of migration. In addition, the need to strengthen the work with diaspora communities in order to improve conditions in migrants’ countries of origin is underlined in the strategy. In 2012, Finland participated in the Global Forum for Migration and Development ( GFMD) and supported the organisation of a political coherence meeting in Brussels for preparing the annual meeting of GFMD. ', 'Ministry of the Interior established a project to define long-term objectives for Finland’s comprehensive migration policy. Government Action Plan Against Trafficking in Human Beings was introduced. National Action Plan 2021-2024 to Prevent Irregular Migration and Irregular Stay was finalised in May 2021. ', 'The Development Policy Programme of 2012 identifies migration as one of the themes of policy coherence for development. According to the latter, Finland pursues a coherent policy approach both nationally and internationally. This is reflected in the active role within the Global Forum for Migration and Development ( GFMD). Finland continued to support diaspora-based civil society organisations through an annual budget allocation of about 3.2 million euro. For example, such included the project “Institutionalising Health Care Improvement through Temporary Returns of Somali Health Professionals Residing in Finland\", ( IOM, 2008-2014) which aimed to build 3 http://www.intermin.fi/julkaisu/152013 (in Finnish) capacity of Finnish-Somali health professionals in Somaliland and Puntland. ', 'In 2022, a multitude of developments promoted labour-based and education-based migration and stream\\xad lined entry procedures in Finland. The developments relating to specific migration processes form part of the overarching aim to double work-based immigration and triple the number of new foreign degree students by 2030, as stated in the government’s Roadmap for education-based and work-based immigration 2035. ', 'As part of the Government Programme, the development of a comprehensive Future of Migration 2020 Strategy started in 2012. The objective of the Strategy is to design a policy which supports the building of an unprejudiced, safe and pluralistic Finland as well as enhance Finland’s international competitiveness. The Strategy was developed under the coordination of the Ministry of Interior together with over 40 represented stakeholders and it was adopted in June 2013. Also, the Ministry of the Interior set up a project to improve the effectiveness of the administration of immigration affairs which will run until December 2014. The concept of improving the effectiveness of the administration of immigration affairs was supported by two projects related to centres of expertise: the first, led by the Ministry of Employment and the Economy, looked into the establishment of a centre of expertise that promotes integration activities, while the second, set up by the Ministry of the Interior, assessed the prerequisites for founding a centre of expertise on the compilation of statistics and research about immigration. A public dialogue on immigration was launched in 2012 focusing on the costs of immigration, while a project to adopt a cooperative model among immigration authorities ( FPB) was launched in January 2012 by the Minister of Interior. The objective of the project is to improve the effectiveness of co- operation of authorities responsible for immigration affairs. ', 'Over 45 000 people fleeing Ukraine were granted temporary protection under the EU Temporary Protection Directive in Finland in 2022. A multitude of developments to promote labour- based and education-based migration and streamline entry procedures in Finland. Actions included legislative, practical and technical developments. Legislative amendments to prepare for hybrid influence activities that exploit migration. ', 'On 30 June 2021, the Ministry of the Interior established a project to define the long-term objectives for Finland’s comprehensive migration policy. The policy will bring together the responsibilities of different operators and set uniform long-term objectives, through cooperation and innovation. In autumn 2021, the Ministry launched a preliminary study on the need for amendments to the Aliens Act (301/2004) and how that reform should be implemented. The study will assess the current structure and content of the Aliens Act and identify the development needs arising from changes in the case-law and operating environment. ', 'The Future of Migration 2020 strategy emphasises the importance to reduce and prevent shadow economy. During 2013, measures were undertaken in the framework of the Government’s intensified Action Plan to Reduce Economic Crime and the Shadow Economy for the years 2012–2015. In addition, more effective observance of employment terms through systematic collaboration among the different authorities was foreseen as well as efforts to disseminate information in the countries of origin about Finland’s employment legislation and employment terms for persons coming to work in Finland. Regarding prevention of irregular migration, Finland supported Member States experiencing pressures through 15 Frontex joint operations in 2013. It also developed bilateral cooperation with the Western Balkan countries by organising training for officials in non- EU countries, mainly Georgia, Kosovo, Moldova and Turkey. In 2013, nine Finnish Immigration Liaison Officers (ILOs) were posted abroad (China, Estonia, India, Latvia and Nigeria and four in Russia) to provide constant training for the consular staff and staff of air carriers in the event of new flight routes to Finland. Their role was crucial in preventing the granting of visas for more than 5,500 illegal immigrants. ', 'According to the Future of Migration 2020 Strategy (adopted by a Government Resolution on 13 June 2013), recognition and accreditation of skills acquired elsewhere by migrants facilitate their social integration. Also the possibility to establish a Skills Recognition Centre in Finland was being examined during 2013. The centre would aim to develop and spread skills recognition and evaluation methods at national level, assist higher education institutions, other educational institutions and employment and economic development administration. Finland’s migration strategy also underlines that the recognition of skills contributes to Finland’s competitiveness. Thus, vocational competence acquired by migrants before their arrival is highly valued. However, it remains a challenging issue, as the submission of the Government Bill on the development of the vocational qualification system was scheduled in early 2014 and would enter into force in autumn 2015. As for language training, the Strategy aims to design a policy which supports the building of an unprejudiced, safe and pluralistic Finland as well as enhances Finland’s international competitiveness. The government’s Structural Policy Programme of August 2013 recognised the important role of international degree students to strengthen conditions for economic growth and bridge the sustainability gap in general government finances. As a result of the programme, foreign students will be encouraged to remain in Finland to work after gaining a qualification by a significant extension of the duration of the study permit granted after graduation (currently six months) as well as training opportunities. In 2013, the Helsinki Region Chamber of Commerce issued a report on the possibility to establish a service ( HERIEC)1 to promote the employment of highly qualified workers with a foreign background in jobs that correspond to their education, in direct cooperation with companies and employers. ', 'The government is currently defining its development policy which will take into greater account the ongoing migrant and refugee crisis A White paper on this topic was finalised in late 2015. In 2015, Finland initiated a diaspora programme with IOM and the Finnish Somali diaspora. The programme covers both the health and the education sectors, aiming to strengthen the capacity of the authorities and the service providers at the federal and sub-federal levels. Between 50–60 Somali diaspora professionals will carry out temporary capacity building and mentoring assignments in health and education ministries, as well as other institutions, such as local health institutions and universities, transferring skills and experiences gained while working and studying in Finland. ', 'On 27 November 2015, the Ministerial Working Group on migration adopted the Action Plan on Integration to tackle the issue of increasing immigration. The plan includes over thirty actions, which also take into account the need to provide immigrants with basic municipal services and labour administration services. Finland has started the preparation of the Government Integration Programme ( VALKO II) for 2016–2019. The Programme aims at improving the efficiency of national-level planning and monitoring of integration measures as well as promoting integration both in basic services and in other measures pursuant to the Act on the Promotion of Immigrant Integration. Alongside the Government Integration Programme, Finland is developing an Integration Partnership Programme. The programme will include initiatives supporting immigrants who wish to start up a business, encouraging asylum seekers to become more active, finding ways in which immigrants could help to develop Finnish companies and facilitating the employment of immigrants. In 2015, the government reviewed the Finnish language courses on offer in Finland. By the end of spring 2016 measures aimed at further developing such courses will be drafted. As part of the Government’s 2015 migration policies, relevant ministries will initiate a joint investigation project into methods for decreasing the level of reception allowance. As of March 2015, the Social Insurance Institution of Finland (Kela) offers information in English, Russian, Sami and Kurdish as a remote service via video connection. Both a project and two sub-projects focusing on integration are currently (2015 – 2017) being implemented in Finland, these are the national At Home in Finland project, the Good Start and the Good Path sub-projects. The former develops services that support the integration of migrants, while the latter two focus on the early stages of integration and on enhancing the effectiveness of local integration activities. These projects are funded through the European Social Fund and are coordinated by bodies responsible for the regional implementation of the tasks of the central government. ', 'Several developments were reported with regard to different categories of third-country nationals: A new residence permit for growth or start-up entrepreneurs was under way. The Parliament approved the proposal in December 2017 but it was not implemented in the course of 2017. The same legislative amendment will see the extension of the first residence permit for specialists from one to two years. The Intra-Corporate Transfer ( ICT) Act and the Seasonal Workers Act (907/2017) were approved in December 2017 and both entered into force on 1 January 2018. Additionally, in 2017, the Government prepared a new immigration policy programme to support labour migration. The programme aims to support entry of third-country nationals into the labour market to enhance employment in Finland, boost public finances, improve the dependency ratio and contribute to internationalisation. The programme was approved in early 2018. The Government also launched the Talent Boost · International Talents Boosting Growth programme, which is linked to the abovementioned new immigration policy programme. The aim was to make Finland more attractive for international talents as well as to channel their expertise to boost growth, internationalisation and innovation in Finnish companies. The measures taken in 2017 were mainly related to preparations; the programme will continue in 2018. ', 'From 15 September 2022, legislative amendments enabled Finland to make use of the support from the European Union Agency for Asylum (EUAA) as smoothly as possible in the event of a mass influx of migrants. On 15 July 2022, amendments to the Border Guard Act prepared for hybrid influence activities that exploit migration. In future, the reception of asylum applications can be centralised at separately designated border crossing points at Finland’s national border. A legislative proposal introducing the border procedure was submitted to the parliament in June 2022. The border procedure could be introduced by a decision of the government, if an exceptionally large number of people were to arrive in Finland over a short period of time or if hybrid influence activities that exploit migration were directed against Finland. ', \"The programme Work in Finland - Government Migration Policy Programme to Strengthen Labour Migration was published in January 2018. The programme aims to raise awareness of and promote the government's migration policy. In 2018, Finland and Canada negotiated the Youth Mobility Agreement, although at the end of the year it had not yet come into force. The agreement also applied to young professionals, so was more extensive than other working holiday agreements with Australia and New Zealand. It targeted people holding a degree from a higher education institution and looking for their first job or a trainee position. Changes were made during the year to regional work permit policies with the goal of increasing the availability of labour in certain occupational fields suffering from labour shortages. In the autumn, a pilot project was launched to test cooperation among the chatbots of the Finnish Immigration Service, Tax Administration and Patent and Registration Office. The chatbots advise foreign entrepreneurs and can provide general advice about, for instance, the setting up of a company in Finland, the types of residence permits entrepreneurs need for themselves or for their employees or taxes that entrepreneurs must pay in Finland. \", 'In March 2014, an action plan for achieving the goals of the Future of Migration 2020 Strategy, containing a set of concrete measures, which could be monitored, was approved. According to the plan, the coordination of labour migration would be improved. The Single Permit Directive (2011/98/EU) was transposed as a result of the legislative amendments that entered into force on 1st January 2014. The Directive simplified the processing time of applications for employment-based residence permits, stating that a decision must be made within four months of application. National legislation on registration of foreign nationals was also amended on 1st March 2014. From 1st December 2014, foreigners being issued their first residence permit may request registration into the Finnish Population Information System, and receive a Finnish personal identity number when the residence permit is issued. On 4th December 2014, a Government Bill, related to alternative ways or receiving residence permit applications, was submitted. ', 'A new Act on the Promotion of Immigrant Integration was approved in April 2023. It will enter into force in January 2025, repealing the old act with the same name. Some amendments are already foreseen in the new Act before it enters into force. The envisaged changes will be in line with the new government programme, which seeks to tighten Finland’s integration policy. A draft legislative proposal was circulated for comment in September 2023. ', 'At EU level, the exchange of information takes place in the Visa Working Party, the Visa Committee and the Frontiers Working Party. Finland also continued to exchange information through the European Migration Network ( EMN). At regional level, Finland continued its commitment in the framework of the Nordic Joint Advisory Group on Refugee Policy ( NSHF). On 1st 1 July 2013, Finland undertook the presidency of the Council of the Baltic Sea States ( CBSS). During the same year, Finland chaired the Task Force against Trafficking in Human Beings (see Section 5) and hosted the annual meeting of Nordic integration specialists/officers in connection with the Metropolis Conference in Tampere.', 'The relocation of asylum seekers from Italy and Greece began in 2015 as per Council Decisions (EU) 2015/1601 and 2015/1523). Thus far, Finland has committed to relocate a total of 3,200 out of 160,000 asylum seekers from Italy and Greece in two years’ time. In 2015, the total number of accepted relocations was 149: 51 from Greece and 98 from Italy. The relocations actually carried out, however, were 111. The 38 remaining relocations have been postponed until 2016. In July 2015, the EU’s Ministers of the Interior agreed on the reception of quota refugees. Finland’s share is 293 persons during the next two years. These are part of Finland’s annual refugee quota which thus far has been, on average, 750 persons per year. During the past two years, the refugee quota has been raised to 1,050 persons per year. The legislative amendments related to the reception of applicants for international protection also entered into force in 2015. The amendments have harmonised Finnish legislation with the EU’s Reception Conditions Directive which is part of the regulation entity related to the Common European Asylum System. In September 2015, the Government established a registration centre (hotspot) in Tornio (in the north, near the Swedish border), as a response to the sharp increase in the number of asylum seekers. The aim of having all immigrants registered in a controlled manner has been achieved as asylum seekers can no longer move on to other parts of Finland uncontrollably. The registration centre was mainly operated by the personnel of the Police, the Border Guard and the Finnish Immigration Service. In September 2015, the Ministry of the Interior established an expert group in light of the sharp increase in the number of asylum seekers in Finland. In addition, at the beginning of November 2015, the Police and the Finnish Immigration Service adopted a common operating model in which a single authority will conduct both the initial hearing and the asylum interview at the same time. Due to the significant increase in the number of asylum applications, the number of asylum application case workers at the Finnish Immigration Service was increased in 2015 from 73 to 220 people and two new regional offices (Turku, Rovaniemi) were established. Furthermore, the Finnish Immigration Service was given a fixed-term mandate to establish necessary reception and registration centres until 31 December 2015, a competence which normally lies with the Ministry of the Interior. In 2015, the number of residents in the reception units intended for adults and families increased eightfold, from 3,300 to 27,300 residents. Similarly, the number of reception units has grown sevenfold, from 20 to 144. ', 'A web-site, primarily targeted at jobseekers, was launched as a part of the ‘Matto-project’ for labour migration; the project aims, amongst other things, to create systems for the guidance of foreign workers and employers recruiting people from abroad. The appointment of a coordination group, aimed at increasing the efficiency and coordination of the provision of information targeted at immigrants, was also expected. Since the beginning of 2014, the Finnish Immigration Service has been active on Twitter in order to inform and engage with citizens on discussions about migration related issues. Furthermore, in November 2014, the Ministry of Interior organised the Kysy suoraan (Ask Directly) campaign, aimed specifically at young adults, in order to invoke discussion about prejudices towards immigrants. The EMN continued to maintain the European Immigration Portal, to organise events dealing with themes related to immigration and to be open to the general public by publishing material in English and Finnish. ', 'A legislative amendment that entered into force on 1 April 2018 made it possible to issue a first residence permit for a specialist for a period of two years, instead of the earlier practice of one year. Several further important developments were reported with regard to economic migration for third-country nationals:  the new Intra-Corporate Transfer Act implementing the Intra-corporate Transfer Directive ((EU)2014/66) entered into force on 1 January 2018; a new act implementing the Seasonal Workers Directive ((EU)2014/36) also entered into force on 1 January 2018;  a number of measures were taken as part of the Talent Boost programme, designed to attract and retain international talent in Finland;  A new residence permit for startup entrepreneurs was introduced; its aim was to make it easier for entrepreneurs and top talent to move to Finland to promote economic growth and employment. ', 'The position of the FIS as the authority responsible for foreign-national matters was being strengthened. In June, legislative amendments were passed, according to which certain immigration administration tasks will be transferred from the Police and the Finnish Border Guard to the FIS. As of 2017, the FIS will be responsible for all foreign-national permit matters. In April 2016, the Ministry of the Interior set up an analysis project to develop a residence permit system for highly-skilled third-country nationals. It aims at improving Finland’s competitiveness by attracting foreign entrepreneurs, investors and top talents, and serves as the basis for a legislative proposal, which is scheduled to be submitted to the Parliament upon the project’s conclusion in late 2017. The Ministry of the Interior is preparing the national transposition of the Seasonal Work and Intra- Corporate Transfer Directives (2014/36/ EU and 2014/66/EU). A draft proposal on legislative amendments has been circulated for comments. The transposition of the Students and Researchers Directive (2016/801/EU)9 started in autumn 2016. ', 'COVID-19 restrictions were removed from internal Schengen borders in January 2022 and from external borders in July 2022. In July 2022, legislative amendments to the Border Guard Act sought to prepare for incidents such as hybrid influence activities that exploit migration by clarifying when a border crossing point can be closed or border traffic limited. The amendments enable the centralisation of asylum applications to one or more border crossing points where necessary to prevent a serious threat to public order, national security or public health. Such situations may include an exceptionally high number of immigrants in a short period of time or instrumentalisation of migration by a state or some other party. Supplementary provisions were added on building barriers in the border zone and temporarily transferring property to the Border Guard in return for compensation. A government Resolution sought to strongly restrict the entry of Russian tourists into Finland from 30 September 2022. It aimed to end tourism and related transit from Russia entirely. The Finnish government deemed that in light of Russia’s war of aggression against Ukraine, Russian mobilisation and the rapidly increasing volume of tourists arriving in Finland and transiting via Finland endangered its international position and international relations. The Resolution affected border management by creating new guidelines to assess where Russian citizens fulfil the entry conditions. ', 'In 2015, legislation was amended to authorise the Police and the Border Guard to carry out the monitoring of foreign nationals also on premises subject to public peace. A project lasting until 2016 has also been set up by the Ministry of the Interior to improve the efficiency of the removal of foreign nationals found guilty of crimes. The purpose is to chart any removal-related problems. In late 2015, the Finnish Immigration Service established the position of a Special Senior Adviser for prevention of irregular migration. ', 'Increasing numbers of asylum seekers began to enter Finland from Russia as a result of Russia’s hybrid operation against Finland, which instrumentalised migration. The Finnish government closed the border crossing points in Southeast Finland as of 18 November 2023. The submission of applications for international protection was centralised at certain border crossing points further north. Later in November, more border crossing points were closed, and as of 30 November the government closed the entire eastern border. That closure remained in place at the end of 2023 and into 2024. The new government programme states that Finland will introduce more stringent legislative provisions on international protection. In 2023, a number of legislative projects were launched at the Ministry of the Interior: Making international protection temporary in nature and shortening the length of international protection permits to the minimum allowed by the Qualification Directive (2011/95/EU); Introducing the border procedure as foreseen in the Qualification Directive; Improving the efficiency of processing of asylum applications.  TEMPORARY PROTECTION AND OTHER MEASURES IN RESPONSE TO RUSSIA’S WAR OF AGGRESSION AGAINST UKRAINE No major legal or policy changes were made to temporary protection in 2023. However, many beneficiaries of temporary protection (BoTP) became eligible to apply for a municipality of residence for the first time in 2023, as they had stayed in Finland for one year. A person with a registered municipality of residence is entitled to the same services as a person residing permanently in Finland. By the end of 2023, around 15 000 Bo TP had moved from reception services to municipalities. ', 'From the perspective of preventing irregular migration, major changes occurred in Finland·s operating environment in 2017. Visa exemption was granted to Georgia and Ukraine, which led to increased asylum seekers from Georgia (from 20 in 2016 to 122 in 2017). The number of negative asylum decisions increased as a result of the high number of asylum applications in 2015. As a result of the surge in negative asylum decisions, the risk of an increase in irregular stay has grown. As a response to this challenge, the ministerial working group on migration approved an action plan for the prevention of illegal immigration and residence for 2017-20207 The action plan contains a number of proposals (e.g. more effective identification of illegal travel documents), which are being implemented. ', 'The Ministry of Economic Affairs and Employment began to prepare an action plan to modify integration measures and propose reforms. The primary focus was on improving the employment situation of migrants and utilising the know-how of skilled migrants already resident in Finland. The Ministry also decided to further strengthen so-called skills centres, providing professional cooperative support and guidance to immigrants for work and study. The Ministry began to draft a working life diversity programme to support the recruitment of immigrants to the Finnish labour market. The programme will include measures to enhance immigrants professional networks and skills development, and increase staff expertise in diversity in recruitment and at workplaces. Particular attention will be paid to improving the employment situation of international students after graduation, who were identified as lacking targeted support. ', 'At the request of the Ministry of the Interior, the Finnish Government commissioned a study examining the types of complementary pathways for legal migration available in different countries for people in need of international protection. The study focused on labour and study-based complementary pathways. ', 'From the beginning of 2020, the Ministry of Economic Affairs and EMployment became responsible for the administration of labour migration matters. It also became responsible for policies and legislation related to immigration of workers, students and researchers, and the development of permit processes. Similarly, responsibility for legislative projects related to immigration of workers, students and researchers was transferred from the Ministry of the Interior to the Ministry of Economic Affairs and Employment. The two Ministries will continue to cooperate on the preparation of legislation. As per the programme for government, the national Talent Boost Programme was expanded in autumn 2019 to cover immigration of highly skilled people, including workers, students and researchers. The Talent Boost programme aimed to strengthen the Finnish labour market, improve quality of educational institutions, increase diversity and global connectivity, promote growth of business, research, development and innovation, and attract investment to Finland. A related reform of the Aliens Act and residence permit process was launched in 2020. The Aliens Act was temporarily from 9 April to 31 October 2020 to enable security of supply and functionality of the labour market. It extended residence permits, visas and seasonal work certificates for third-country nationals, without the need for new applications, especially for individuals working in fields considered vital. The amendment also enabled those third-country nationals to change employer or sector without applying for a new residence permit. In March 2020, a Permit and Nationality Unit was established within the Finnish Immigration Service to increase automation and improve efficiency in the processing of applications. ', 'As part of the Action Plan on labour migration, a number of projects in different parts of Finland have been financed by the European Social Fund ( ESF). Projects focused on creating training systems, developing services for settling as well as building models for recruitment of labour migrants. ', \"On 15 April 2019, the Council of the European Union adopted its development recommendations for Finland's external border control. The recommendations were based on the Schengen evaluation report of Finland's external border control. Particular praise was given to Finland's national integrated border management strategy, national IT systems that support border checks and _ border surveillance, and cooperation between the police, customs and the Finnish Border Guard (PTR cooperation). Likewise, Finland was recognised for its participation in joint European border management coordinated by the European Border and Coast Guard Agency (Frontex). In April 2019, legislative amendments strengthened the powers of the Finnish Border Guard to quickly and effectively intervene in hybrid threats. \", 'In 2017, the Ministry for Foreign Affairs continued the outsourcing of entry processes by subcontracting the reception of visa applications in eight new countries. In 2018, the development of Finland·s new national visa system will begin, with the aim of further increasing the efficiency of the visa decision-making process. ', 'The number of new asylum applications in Finland further decreased throughout 2017. Finland noted a 20% decrease in the number of residence permits issued for study purposes, following the introduction of tuition fees for third-country nationals in higher education institutions in August 2017. The Government Migration Policy Programme emphasised labour migration. ', 'Finland introduced its Africa Strategy, incorporating issues related to migration. The Strategy was drafted under the leadership of the Ministry of Foreign Affairs to promote Finland’s ties with African countries. The goals of the strategy were set out: 1) to set realistic but ambitious goals for Finland’s Africa policy; 2) to outline, on the basis of shared interest between Finland and African countries, a limited number of focus points for Finland’s Africa policy and to define concrete actions for achieving them; 3) to emphasise strengthening political and economic relationships; and 4) to expand relationships from development cooperation into other forms of cooperation, while maintaining development cooperation as a part of the whole.', 'On 25th April 2013, the Finnish Supreme Administrative Court issued a yearbook decision on the application of Section 51 of the Finnish Aliens Act. The latter provided clarity on how to handle situations concerning irregularly present third-country nationals who cannot be removed from the country. Overall, the Court ruled that if it is evident that a technical obstruction for returning an asylum seeker to his/her home country is likely to exist, a temporary residence permit, as defined in Section 51 of the Finnish Aliens Act, can be issued regardless of the fact that there is no enforceable return decision. During 2013, the Government Programme aimed to speed up the processing of asylum applications. The measures developed by the programme are monitored by projects aimed at improving the effectiveness of the administration of immigration affairs, set up for 2011–2014. For example, the asylum process has been developed at the Finnish Immigration service since 2012 through the ERF-financed Lean-projects (Lean and Lean). Furthermore, the VIPRO2 and HAAPA projects aim to streamline the placement in municipalities and increase the number of municipal placements available for refugees. As part of the VIPRO project, a handbook on the reception of refugees was prepared for the employees and decision-makers of municipalities. Also, an ongoing project for the development of the service system for vulnerable asylum seekers ( HAPKE) has been running since October 2012 under the Finnish Immigration Service. The second phase, HAPKE 2 began on 1st July 2013. The Finnish Immigration Service and Finn Church Aid introduced cultural orientation education for quota refugees. It is the first time such diverse instructions are provided before their arrival in Finland. The first session began in Ankara, Turkey on 21st October 2013 and involved quota refugees from various conflict regions already selected for admission to Finland. Similar education sessions were also held in Rwanda and Malawi. In 2013, the Finnish Immigration Service participated in Asylum Support Teams to train decision-makers in the Greek asylum process. ', \"Finland's national Integrated Border Management Strategy (IBM) strategy was approved in spring 2018. The strategy defined the roles and obligations of different parties in carrying out external border control, in conformity with relevant national and EU legislation. Border control staff at the Eastern Border (Schengen Border) was reinforced by 40 border guards during the year and at the Helsinki-Vantaa airport by a further 40 border guards. \", 'The instrumentalised migration from Russia to Finland led to Finland closing its eastern border crossing points in November 2023. The border was closed in stages, starting from certain border crossing points in the southeast and leading to full closure of the entire eastern border at the end of November, continuing into 2024. ', 'The Ministry of the Interior launched a reform of the Nationality Act in 2023. Finland will tighten the naturalisation requirements, in line with the new government programme. ', 'Finland has used social media to share information regarding Finnish immigration regulations with potential migrants in their country of origin. There are also several websites that promote and disseminate information on legal migration (www.workinfinland.fi, www,infopankki.fi, www.enterfinland.fi). ', 'Following the approval of the Education and Research Development Plan 2011–2016, education and vocational training were emphasised as crucial elements for the integration of third-county nationals, as the acquisition of skills increases immigrants’ inclusion in society and employment opportunities. Thus a bill on the development of education and vocational training was reported as scheduled (see Section 2.2). The Capital Region 1http://www.helsinki.chamber.fi/files/4963/HERIEC_esiselvity s_kauppakamari_ja_ HERA-korkeakoulut_7_10_2013.pdf 2 Letter of Intent for Years 2013-2015 aiming to strengthen the integration, education and employment of immigrants through joint measures, was signed and it comprises the Helsinki Region Chamber of Commerce and the Regional Organisations of Enterprises in Helsinki, Espoo and Vantaa as new contract parties. ACentre of Expertise on Integration (established within the Ministry of Employment and the Economy) is expected to exchange good practices on integration, to employees of different professional fields. Finland has pursued integration policies objectives also by a strategic and tailored use of projects and financial resources. Among others, the Osallisena Suomessa (Participative Integration in Finland) pilot project (2011–2013) aimed to develop integration training, employment and social abilities among immigrants. The ALPO project also aimed to develop initial guidance and counselling for immigrants, harmonise integration services and strengthen the network of experts. The Kotoforum event, organised on 18th April 2013 as part of both aforementioned projects, offered an opportunity to learn more about the initial services offered to people immigrating into Finland and new integration training models. The Migrant Health and Wellbeing Study (2010– 2013) collected information on the health, work ability and need for services among immigrants of Russian, Kurdi and Somali origin, such information will be used in the promotion of wellbeing, service quality and the availability and labour market potential of ethnic minorities. Also during 2013, the AFRO project promoted the employment of immigrants in the public sector and security services. The project also supported immigrant organisations in preventing discrimination and hate speech. Different integration measures continued to be implemented throughout 2013 by different bodies. For example, the Ministry of Education and Culture continued to financially support the youth activities aimed to promote immigrant youth’s integration into the society and to enhance their active citizenship. In the field of sports, the same Ministry has also developed a multiannual programme to support the integration of immigrants. The Finnish National Board of Education has funded projects to develop national electronic tools for immigrants’ initial counselling and language learning. The projects charted the existing electronic opportunities to study the Finnish language and developed a curriculum- compliant learning platform for integration training linked to language skills levels. Other projects were financially supported by the Progress Programme. ', 'The Reception Act was amended to give the Finnish Immigration Service central responsibility for preparedness planning for reception services in the event of a mass influx of migrants. The bill for the Act was approved by the President on 16 December 2021 for entry into force on 1 January 2022. Given the deteriorating situation in Afghanistan, an extraordinary meeting on 13 August 2021 saw the Finnish Government agree that Afghans (and their families) who worked for Finland, the EU and NATO could be admitted to Finland and issued residence permits. ', 'Changes in the Aliens Act related to subsequent applications by asylum seekers, temporary possession of asylum seekers’ travel documents, family reunification and labour market testing. Key migration themes in the new government programme were expediting asylum processes, increasing and promoting labour migration, and improving the employment situation of migrants already resident in Finland. An amendment to citizenship legislation means that a person found guilty of certain serious offences can lose their Finnish citizenship. Another amendment restricted the eligibility of individuals with dual citizenship to apply for the Finnish Defence Forces or the Finnish Border Guard. ', 'The Government’s aim is to promote work-related migration that enhances employment in Finland, boosts public finances, improves the dependency ratio and contributes to the internationalisation of the economy. In order to attract highly qualified foreign workers to Finland, a joint project is planned to be carried out by the Ministry of Interior and the Ministry of Employment and the Economy. The project aims at attracting foreign investors, entrepreneurs and leading experts to Finland. The Ministry of the Interior has launched a project to reform the residence permit system for investors, entrepreneurs and experts coming from third countries.3 With regard to equal treatment and anti- discrimination, the new Non-Discrimination Act entered into force on 1st January 2015. The Act extends the duty to promote equality and prevent discrimination in Finland also to training and education organisers, educational institutions and employers as well as the authorities. ', 'A host of anti-trafficking measures were reported in 2020: (1) Draft of a national action plan against trafficking in human beings, due to be implemented in 2021. (2) Establishment of a special anti-trafficking unit in the Finnish Police, due to start in 2021. (3) The Ministry of Social Affairs and Health began a project to propose amendments to legislation on assistance for victims of human trafficking. The Ministry of Economic Affairs and Employment reported measures to prevent labour exploitation and expose exploitation: (1) Decision to increase the numbers of occupational safety and health inspectors at the Regional State Administrative Agency. (2) The Finnish Institute of Health and Welfare is conducting a mapping exercise on supported housing for victims of human trafficking, as per the programme for government. (3) The National Police Board reported that human trafficking was a major theme during the year and received more resources. (4) As part of the new action plan against trafficking in human beings, the Finnish government launched a National Referral Mechanism. ', 'Information on immigration to Finland is provided via the EU Immigration Portal by the EMN Finnish National Contact Point as well as by other channels, such as the website of the Finnish Immigration Service. ', 'With regard to case law, on 1st July 2015, the Supreme Administrative Court ruled that refusing a residence permit on the grounds that the person does not possess, nor can they acquire from the Somali state, a travel document that Finland would accept, restricted the applicant’s and their sponsor’s right to family reunification in Finland. In September 2015, the Ministry of the Interior set up a legislative project to review family reunification criteria in order to comply with the EU’s Family Reunification Directive. The tightening of family reunification criteria is part of the Government Programme approved in the spring of 2015 and the related Government Bill is scheduled to be submitted to the Parliament in spring 2016. ', 'The improvement of the labour market position of immigrants has been defined as one of the targets of the Government Programme. Cooperation between the State and the municipalities of the Helsinki Metropolitan Area was considered a functional operating model. The implementation of the policy guidelines for international employment services, approved by the Ministry of Employment and the Economy in 2011, started at the beginning of 2012. The Ministry of Employment and the Economy launched the HYVÄ nurse recruitment project as a part of its HYVÄ (entrepreneurship and cooperation programme (2013-15) with the objective to define the roles and tasks of various parties in the international recruitment of registered nursing staff. In addition, the Ministry of Employment and the Economy has published a practical guide “Experience of International Recruitment to Finland”, which contains practical hints, check-lists and experiences that can be utilised at different stages of recruitment of foreign nationals. The National Audit Office of Finland published the report “Work-based Immigration” in September 2012. The report reflected on targeted programmes and projects for the promotion of work-based immigration. ', 'On 7 March 2022, the Finnish government adopted a decision to grant temporary protection to a more extensive group than that defined in the EU-wide decision. The well-being and livelihood of beneficiaries of temporary protection is secured with reception services until the person is entitled to residence in Finland. To ensure that beneficiaries of temporary protection have access to services in all situations, amendments were made to the Integration Act and the Reception Act on 20 December 2022. The amendments will clarify the end of the reception services where a person with a temporary protection permit receives residence, at which time they have the same right to municipal services as any permanent Finnish resident. The amendments will enter into force on 1 March 2023. On 29 December 2022, Finland made a temporary amendment to the Aliens Act to ensure the validity of residence permits for beneficiaries of temporary protection for as long as the temporary protection is in effect in the EU. This temporary amendment entered into force on 19 January 2023 and is valid until 4 March 2025. ', \"Finland has not yet transposed the Directive 2016/801/ EU on students and researchers. However, in December 2017, a draft Government Proposal was submitted to this end, prolonging the length of residence permits for students and researchers to two years (instead of one year). Since August 2017, all non- EU and non- EEA students are charged a tuition fee for foreign-language study programmes leading to a Bachelor's or Master's degree. This led in 2017 to a decrease of 20% compared to the previous year of first residence permit applications from foreign students. In order to attract international students, the Ministry of Education and Culture published the Policies to promote internationalisation in Finnish higher education and research 2017-2025. \", 'People determined to be refugees by the United Nations High Commissioner for Refugees (UNHCR) and suggested for resettlement in Finland can be admitted to Finland as quota refugees. Finland increased its refugee quota from 1 050 to 1 500, in response to the situation in Afghanistan. This is the highest level of resettlements to date and includes an additional quota for 450 Afghan refugees. ', 'A number of developments sought to speed up and smooth the residence permit process for work-related migration. A fast-track service was launched to enable highly qualified workers and their family members to obtain a residence permit within 14 days. A long-term visa (D visa) was also introduced, allowing the same categories of migrants to travel to Finland immediately after receiving their residence permit, without having to wait for a residence permit card abroad. This facilitates the recruitment of experts and enhances Finland’s attractiveness. The long-term visa became applicable gradually: from June 2022 for specialists, start-up entrepreneurs and their family members, and from December 2022 for managers, students and researchers. The residence permit process was streamlined at the Finnish Immigration Service to process applications in a faster, smoother and more transparent manner. This was particularly necessary for fast-track residence permits which are to be processed within 14 days. Other employment-based permits are to be issued within 30 days of application. The ‘Work in Finland’ function brought together state-level actors and measures supporting international recruitment and work-based immigration. Workinfinland.com is Finland’s official website for talent attraction, simplifying recruitment, job search and relocation. It offers Finnish companies a platform to advertise jobs to find  international talent and provides job seekers with information on working in Finland. These developments all feed into the same goal of increasing labour-based migration in Finland. ', 'The government Resolution to strongly restrict entry of Russian tourists into Finland from 30 September 2022 affected visa policy by severely limiting the reception of visa applications in Russia and creating new guidelines to assess the validity of visas of Russian citizens. ', 'In July 2014, the amendments to the Aliens Act related to the national implementation of the Recast Qualification Directive entered into force. In 2014, the Ministry of the Interior also prepared amendments on the Aliens Act and the Act on the Reception of Persons Applying for International Protection, in order to comply with the Recast Asylum Procedures Directive and Reception Conditions Directive. The Dublin III Regulation has been applied as of 1st January 2014. The Finnish Immigration Service launched the Dublin Information Exchange Centre project and established a National Contact Point. Standardised operating models were created for the identification of family ties, information exchange and assessment of the child’s best interests. The National Contact Point is also responsible for the standardised information exchange with other Member States related to the transfer procedures. The new Regulation requires the Member States to decree at the national level on the possibility of suspending the enforcement of a transfer decision and a personal interview to be conducted in order to determine the Member State responsible. In September 2013, the Government of Finland made a decision to increase the refugee quota for 2014 by 300 persons. In addition, the Ministry of Interior made a decision that 200 places of the standard quota of 750 will be allocated to Syrian refugees. Following the positive results of the Assisted Voluntary Return ( AVR) programmes, a permanent framework for AVR will be established in Finland. A legislative project launched back on December 2012 targeting asylum seekers that have either received a rejection for international protection or cancelled their application, was submitted as a bill to the Parliament on 25th September 2014 and is expected to enter into force in 2015. ', 'In 2016, the number of registered asylum seekers was 5,651 which is less than those registered in 2015 (32,476) but still higher than 2014 (3,651). New staff were recruited in the Finnish Immigration Service ( FIS) in 2016 in order to clear the backlog of asylum applications that had accumulated in the previous year. In effect, a record-breaking number of asylum decisions was made. The fluctuation in the number of asylum seekers also burdened the Finnish reception system in 2016 which reached its peak in February–March, with 227 reception centres in use with a capacity of approximately 32,000 asylum seekers. On policy developments several measures were reported in 2016. These included transferring more authority to the FIS in asylum-related matters by means of a legislative amendment, aiming at accelerating and harmonising the examination of asylum applications. The amendment, adopted in June, transferred the task of establishing the asylum applicant’s identity and travel route from the Police and the Border Guard to the FIS who adopted a so- called “single-contact” interviewing model. The model aims at establishing the applicant’s identity and travel route as well as grounds for international protection in a single meeting. Also, legislative amendments - which entered into force on 1st September 2016 - restricted the rights of asylum seekers to State-funded legal aid to only those situations in which it is absolutely necessary. The same amendments also reduced the time frame for appeals and changed the composition of the court. In April 2016, the humanitarian protection as a residence permit category from Finnish legislation was eliminated through a legislative amendment, maintaining therefore two categories: asylum and subsidiary protection. The latter covers most of those who were eligible under the humanitarian category. Further legislative amendments were adopted in December 2016. One4 established the merger of State reception centres into the FIS as of 2017, and the second one5 allowed the presence of security guards in reception and registration centres. Another legislative proposal approved by the Parliament in December 2016 and ratified in January 2017, provides for a residence obligation, meaning that a foreign national who has applied for international protection can be ordered to live in and report to a certain reception centre for administrative reasons. Concerning relocation activities and in line with the EU Council Decisions (2015/1601 and 2015/1523) Finland has committed to relocate a total of 3,200 out of 160,000 asylum seekers from Italy and Greece in two years’ time. Thus in 2016, a total of 808 asylum seekers were relocated in Finland. Also, through the national UNHCR resettlement programme, 750 persons were relocated in 2016. On 26th September 2016, Finland fulfilled its commitment to resettle 293 persons as part of its contribution to resettle the 20,000 in need identified by the Council of Europe. Furthermore, the FIS sent a total of 19 officials to European Asylum Support Office ( EASO) operations in Italy and Greece in 2016, and approximately 50 national EASO training courses were organised in Finland. FIS also reported it was developing its statistical reporting to improve its operations through a project called Migstat, funded by the Asylum, Migration and Integration Fund ( AMIF) which ran until the 31st December 2016. ', 'In 2012, the Ministry of Employment and the Economy participated in the meetings of the EU’s integration network ( NCPI), the European Integration Forum, technical seminars related to the development of EU integration indicators as well as in expert conferences organised by Denmark and Cyprus. At regional level, cooperation and information exchange on immigration and asylum issues between the Nordic countries has been continued through Nordic Joint Advisory Group on Refugee Policy ( NSHF). During NSHF’s meetings, issues related to returns to Iraq, Dublin returns and the determination of responsibility in particular, have been identified as problems common to all Nordic countries, thus it has been decided that related cooperation and information exchanges should be increased.', 'The Ministry for Foreign Affairs initiated a process to introduce a national D-visa for Finland. ', '2019 saw substantial changes in citizenship legislation. In May 2019, an amendment entered into force enabling the revocation of Finnish citizenship where the person has committed certain crimes. The person must, however, have sufficiently close ties to another country. An April 2019 amendment facilitates the status of children born to female same-sex couples and removes the need for intra-family adoption. A July 2019 amendment restricts the eligibility of individuals with dual citizenship for certain military offices in the Finnish Defence Forces and the Finnish Border Guard. This amendment similarly restricts the eligibility of individuals with dual citizenship to undertake the National Defence University programmes leading to officer posts or admission to the basic course for border guards. ', 'Integration measures were intensively developed in 2016. For example, in May 2016, the Government approved the Action Plan on Integration, which aims to accelerate and facilitate the settlement of beneficiaries of international protection in municipalities, as well as to access training paths and find employment. The action plan includes the following six sets of measures, five of which are related to immigrants’ socio-economic participation and one to civic participation: \\uf0ea Settling in municipalities and starting the integration process will be accelerated. \\uf0ea Proceeding to training and working life will be accelerated. \\uf0ea Opportunities to acquire and improve Finnish/Swedish language skills will be enhanced. \\uf0ea Basic education for adults will be renewed. \\uf0ea Student welfare services and support for immigrant families will be offered. \\uf0ea The participation of immigrants in leisure and organisational activities will be increased. The Government Integration Programme for 2016–2019 was approved in September 2016 and aligned with the previous action plan and includes 70 measures in total. Alongside the Government Integration Programme, Finland is developing an Integration Partnership Programme. This will include initiatives supporting immigrants who wish to start up a business. Legislative amendments passed in December 2016 – and will enter into force in 2018- aim at renewing basic education for immigrants who have passed the age of compulsory education. The renewed basic education aims at improving learning abilities and enabling immigrants to receive a certificate of the completion of basic education, which enhances their opportunities for further studies. An amendment is also being prepared to provide this target group with study grants for full-time basic-level studies.12 ‘Immigrants’ integration training’ was renewed and steered into a more working life-oriented direction by increasing the vocational content and on-the-job learning periods in the training. In autumn, the International Talents Boosting Growth Agenda was launched to promote the utilisation of international highly qualified workers’ networks and expertise. The new Identity Card Act was adopted in August. This will facilitate the issuing of identity cards to foreign nationals. In 2016, the annual discrimination study focussed on hate speech and harassment, and their perception from different minority groups. It was the first of its kind in Finland. ', 'In April 2014, the Commission submitted a proposal for the new Visa Code, which is currently being processed. On 1st March 2014, the new national visa guidelines, where the instructions on granting visas for family members of Finnish citizens were defined more clearly, entered into force. On 15th May 2014, the Visa Information System ( VIS) was expanded to regions XII – XV, while on 25th September 2014 – to region XVI. In 2014, seven visa service centres were set up in Russia, while in November 2014, visa services were outsourced in Bangkok. In 2014, visa representation agreements were signed with Germany (Kingston, Jamaica), France (Port-au- Prince, Haiti, Dakar, Senegal) and Austria (Istanbul, Turkey). In relation to border monitoring, in 2014, the preparation of comprehensive guidelines on entry into the country was assigned to the Finnish Immigration Service and regional state administration authorities. The aim of the guidelines is to support national and regional contingency planning. The preparation of a national risk assessment in accordance with the EU Civil Protection Mechanism takes place in 2014–2015. ', 'The Ministry of Economic Affairs and Employment led a project to develop legislation on foreign nationals and permit processes. A new legislative proposal was drafted to make it easier for foreign students and researchers to stay in Finland. Under the proposal, students would receive a residence permit for the entire duration of their studies, with the residence permit for researchers and graduates who have completed their studies (the socalled job-seeking permit) extended to two years. ', 'A government report proposed an extensive programme to speed up the integration of immigrants, including measures to: n Accelerate immigrants’ paths to work and education. n Promote inclusion of immigrants in working life and society. n Support immigrant women and their families to settle in Finland. n Increase openness in the workplace and prevent polarisation in society. A framework for promoting the integration of immigrants outside the labour force was also designed to improve the integration opportunities for immigrant women, especially stay-at-home mothers. ', 'Finland increased its refugee quota by 450 people, from 1050 to 1500, allocated to Afghan refugees from Iran. As part of the 2021 quota, Finland reported being able to take 30-40 unaccompanied minors. ', 'The number of asylum seekers arriving in Finland has decreased since the large inflow in 2015. In 2017, reception capacity was further reduced and adjusted to correspond to the smaller number of new asylum seekers. The number of persons within the scope of the reception system was as follows: while at the beginning of 2017 there was a total number of 19 550 persons in the asylum system, at the end of 2017, there were only 13 400. The number of reception centres for adults and families decreased from 77 to 48 during the year. Legislative amendment 49/2017 on the residence obligation entered into force on 1 February 2017. The residence obligation means that a foreign national who has applied for international protection is ordered to live in and report to a certain reception centre. Furthermore, the Finnish Immigration Service implemented the reception centre monitoring programme. Regarding detention, the capacity was increased from 70 to 80 places in 2017. Furthermore, starting from 1 January 2018 Finland·s detention units will be operating under the Finnish Immigration Service. In February 2017, the appeal process in matters related to international protection was decentralised to four administrative courts. Prior to this, the Helsinki Administrative Court was the only administrative court which resolved complaints on matters related to international protection. Looking at relocation, in 2017, 641 asylum seekers from Greece and 420 from Italy were relocated to Finland under the EU relocation mechanism. ', 'A total of 6,657 returns from Finland were recorded in 2016. It can be noted that the number of independent returnees was high during the first months of the year, whereas later in the year, returnees used the assisted voluntary return system. 2,113 persons returned through the national assisted voluntary return system in 2016. In 2016, the Police carried out one national charter return flight to Albania/Kosovo and participated in one Frontex return to Serbia, three Frontex returns to Kosovo and two Frontex returns to Albania. A total of 108 persons were returned on these flights. On the basis of the Government Programme ‘Finland, a land of solutions’, amendments aimed at increasing the speed of removals of those who have committed aggravated offences, those who pose a danger to public security, and recidivists have been drafted. These will be submitted to parliament during 2017. In October 2016, Finland and Afghanistan signed a Memorandum of Understanding on the return and removal of Afghan asylum seekers, consolidating official proceedings related to the voluntary and forced return of asylum seekers. ', 'In late 2015 and early 2016 an exceptional number of asylum seekers entered Finland from Russia through two border crossing points in the northern section of the eastern border: more than 1,700 asylum seekers over a period of approximately six months. The entry volumes dropped to their usual low level in March 2016. A bilateral fixed-term agreement was signed by Finland and Russia which limited border crossings on the two border crossing points between 10 April and 6 October 2016 to certain categories of persons. These border crossing points remained quiet even after the termination of the agreement. ', 'While few major permanent overarching changes were reported in 2020, the global COVID-19 pandemic prompted temporary measures that affected migration policy. Notable changes included the temporary amendment to the Aliens Act from 9 April to 31 October 2020 and the transfer of administration of labour migration matters to the Ministry of Economic Affairs and Employment. ', \"Finland continued the implementation of the Government's action plan against trafficking in human beings 2016-2017. There were measures taken in 2017 to improve victim identification in the asylum process. The Asylum Unit of the Finnish Immigration Service took a number of actions to this end and also the National Rapporteur on Trafficking in Human Beings reported to have concentrated more systematically on the victim identification in the asylum process. Furthermore, the National Assistance System for Victims of Trafficking in Human Beings launched the · IHME· project to strengthen anti-human trafficking activities as well as expertise in the identification and assistance of victims of trafficking and in preliminary investigations into human trafficking offences. \", 'In 2018, the Finnish Immigration Service detected an exceptionally high number of forged EU documents: passports, identity cards and residence cards. Immigrants’ access to education was enhanced through a variety of means. In addition to subsidies targeted at pre-primary and basic education, the state granted special subsidies to promote integration. A record number of presumed victims of human trafficking were identified in Finland. Training to identify and assist victims of trafficking in human beings was extended to reception centre counsellors. ', 'Regarding visa policy, in October 2012 Finland joined other Schengen countries in recording fingerprints of applicants in the Middle East and the Persian Gulf region, as part of the implementation of the Visa Information System ( VIS). In relation to the preparations for the visa facilitation between the EU and Russian Federation, the Border Guard Department of the Ministry of the Interior published a report on the effects and management of growing border traffic. In 2012, the automatic border control checkpoints at Helsinki Airport were further improved. In addition, an experiment to test the technical suitability of automatic border checks for visa-exempt third-country nationals was also initiated in 2012. In particular, Finland will be the first in Europe to introduce automatic border control checkpoints at sea border crossing points. ', 'The project on the effectiveness of the administration of immigration affairs, led by the Ministry of Interior, has brought improvements in the effectiveness of the asylum process. For example, in  the court of appeal in asylum affairs, the Helsinki Administrative Court’s processing times were shortened by 21 days. Furthermore, the overall budget for reception activities decreased by €14.5 million in 2012 from the previous year; the savings were achieved by realigning capacity of the reception network in line with the decline of the number of asylum seekers. Also, the Ministry of Employment and the Economy launched the VIPRO project, which examines ways to develop official refugee reception processes, particularly on the placement of refugees in municipalities. The Finnish Ministry of the Interior set up a working group for the period 1 October 2010 – 1 October 2012 to study the legal impacts of implementing an asylum seeker’s smart card to be used as an identification document, particularly in relation to the Finnish Act on Preventing and Clearing Money Laundering and Terrorist Financing (503/2008) and other legislation that may be affected by the implementation of the smart card system. The working group proposed all aliens who have been granted a continuous residence permit, should have the opportunity to obtain an alien’s identity card. As for persons who have been granted a residence permit but who cannot present a reliable document issued by a national authority about his/her identity, the granting of an alien’s identity card should be considered on the basis of identity information recorded in the Register of Aliens. This would require amendments to the legislation related to the identity card. ', \"Most applications for international protection in Finland were re-applications by asylum seekers already in Finland, primarily Iraqi citizens. Most of the new asylum seekers in 2019 arrived from Turkey and Russia. An amendment to the Finnish Aliens Act specified the criteria for subsequent asylum applications, in order to prevent misuse of the asylum system. The new amendments oblige asylum seekers to present well- founded grounds for not presenting these new arguments in their earlier applications. Another amendment to the Aliens Act stated that the police, border control authorities or Finnish Immigration Service can take possession of a passport or other travel documents until an applicant is granted a residence permit or leaves the country. On 14 November 2019, the European Court of Human Rights (ECtHR) found that Finland had violated Articles 2 and 3 of the European Convention on Human Rights (ECHR) in an asylum matter. The Court's judgment concerned an Iraqi asylum seeker who had applied for international protection in Finland in 2015 and was killed in Iraq soon after being returned there by Finnish authorities. The Finnish Immigration Service took the measure of reviewing 500 asylum decisions from the same time period to prevent similar cases. \", 'As part of an information campaign for foreign workers, the Ministry of Economic Affairs and Employment published a brochure on employees’ rights for those coming to work in Finland. It also launched a multilingual telephone advisory service for seasonal workers arriving from abroad. ', 'Facilitated immigration rules for students entered into force in April 2022. According to a legislative amendment, students will now be granted a residence permit for the entire duration of their studies. In addition, their right to work during their studies was increased from 25 to 30 hours a week. The so-called jobseeker’s permit – granted to students who have completed a degree and to researchers who have completed their research – was extended from one year to two years. A long-term (D) visa was introduced for students, researchers and their family members to streamline their entry procedures. These changes aim to make Finland more attractive for international students, streamline the processing of their applications, and improve their chances of finding employment after graduation, in line with the government’s strategy. ', 'Some legislative changes relating to family reunification came into effect in 2019. An amendment to the Aliens Act facilitates establishing family ties through DNA analysis. A legislative amendment based on a Court of Justice of the European Union (CJEU) ruling (Case C-550/16 A and S) was signed into Finnish law. According to the amendment, an asylum seeker who has not yet turned 18 when they arrive in Finland but who turns 18 during the application process will be regarded as a minor for the purposes of family reunification application decisions. ', '‘An Equal Finland: Government Action Plan for Combating Racism and Promoting Good Relations between Population Groups’ was adopted in October 2021. The Plan aimed to dismantle structural inequalities in society, promote non-discrimination in Finnish working life, strengthen authorities’ equality competence, raise awareness of racism and its various forms, and develop research/data collection on racism. ', 'The Aliens Act was temporarily amended to extend aliens’ right to work in critical sectors. The Ministry of the Interior drafted a national action plan against trafficking in human beings, including the establishment of a special anti-trafficking unit in the Finnish Police in 2021. The Ministry of Economic Affairs and Employment became responsible for the administration of labour migration matters. ', 'The Finnish Border Guard and police implemented the national PASIS-joint project. The project sought to introduce a passport system that can read chips of EU passports and EU !D-cards for fingerprints in order to compare them to travellers fingerprints. The pilot phase of the project was in 2019-2020 and the project will continue in 2021. ', 'The Ministry of Employment and Economic Affairs continued its Talent Boost programme, with a special emphasis on promoting Finland for highly skilled workers in Asia. ', \"In 2018, the Finnish Immigration Service detected an exceptionally high number of forged EU documents: passports, identity cards and residence cards. Persons found in possession of forged EU documents included, for example, asylum seekers presenting an EU citizen's forged passport, identity card or residence card. The Finnish Immigration Service employees were provided with information about this issue as well as special training to boost document identification skills. The Ministry of Foreign Affairs launched a social media campaign in Iraq against the smuggling of migrants which reached approximately 3.5 million people. \", 'In spring 2022, a government proposal to amend the Nationality Act was submitted to parliament. It seeks to clarify the current provisions and technical amendments without easing or restricting the acquisition of citizenship. For example, a child would always acquire Finnish citizenship directly by virtue of the Act at the time of birth if the child’s mother or father was a Finnish citizen, while a child adopted by a Finnish citizen would also always directly acquire Finnish citizenship. The proposal is still under consideration. ', 'A legislative amendment of 20 December 2022 removed the requirement of sufficient financial resources for granting a residence permit to the family member of a minor who is a beneficiary of international protection in Finland. In addition, the definition of a minor was specified in matters concerning residence permits on the basis of family ties: the status of being a minor is now determined according to the date on which the family reunification application is submitted, rather than the date on which the decision is made, i.e. it no longer depends on the length of the application processing period. The amendment is based on a Court of Justice of the European Union (CJEU) judgment. The legislative amendment will formally enter into force in February 2023, albeit it was in practice already in 2022. ', 'A legislative amendment was signed into Finnish law, based on a CJEU ruling (Case C-550/16 A and S). According to the amendment, an asylum seeker who has not yet turned 18 when they arrive in Finland but who turns 18 during the application process will be regarded as a minor for the purposes of family reunification application decisions. This amendment was also intended to safeguard the rights of unaccompanied minors. ', 'Amendments to national legislation saw further harmonisation with Schengen Information System (SIS) regulations. Government proposal 35/2021 for national legislation to complement the SIS-regulations (EU) 2018/1860, (EU) 2018/1861 and (EU) 2018/1862 was introduced to the Finnish Parliament. ', 'As of the end of 2015, Finland outsourced its visa application procedure to VFS Global, a private company, in three new countries (China, India and Turkey). The total number of visa application centres ( VAC) which visa applicants to Finland can use is of about 30 in those three countries. ', 'The Finnish Immigration Service has continued its efforts to shorten processing time for family reunification applications. Despite there being difficulties in reaching a decision within the lawful time limit, Finland reported most bottlenecks were successfully removed. ', \"Reception capacity in Finland was further reduced during the reference year as a consequence of the smaller number of new asylum seekers arriving in the country. The Finnish Immigration Service's  ONE project was started in April 2018 and aimed to develop general legal counselling provided in reception centres. The goal of the project was to ensure the availability and quality of general legal counselling at the early stages of the asylum process as cost-efficiently as possible, and also by involving applicants in this. Changes to the processing of asylum seekers subsequent applications were proposed during the year with the intention to have the legislative amendment enter into force as soon as possible. The changes would apply to application admissibility requirements and to the enforcement of the return decision (for both the first and subsequent applications). The aim of the proposed legislative amendment was to reduce the possibilities of misusing the procedure for subsequent applications, and to guide applicants to present all known facts and grounds relevant to the application. \", 'Based on a CJEU judgment, a legislative amendment adopted on 20 December 2022 specified the definition of a minor in matters concerning residence permits on the basis of family ties. The status of being a minor is now determined according to the date on which  the family reunification application is submitted, rather than the date on which the decision is made, i.e. it does not depend on the length of the application processing period. The same legislative amendment removed the requirement for sufficient financial resources for granting a residence permit to the family member of a minor who is a beneficiary of international protection in Finland. The legislative amendments will enter into force in February 2023, but were applied from 2022. If one family member is deported, the reasons for deportation are given to the family member (spouse or child) in a separate document, guaranteeing those family members the right to appeal the decision. This stems from a judgment of the Supreme Administrative Court founded on the principle of family unity and best interests of the child. ', 'In early 2013, the Finnish Immigration Service revised and raised the requirement for means of support (in euros) required for a family member’s residence permit. The changes to the requirement for means of support were implemented with internal application guidelines. During 2013, Finland continued to assess the effects of the legislative changes previously made in this policy area. ', 'Family reunification application requirements gained increased flexibility. Under the Programme for Government, the requirement for sufficient financial resources will be discontinued for minor family reunification sponsors who have been granted a residence permit on the basis of international protection. Amid the difficult situation in Afghanistan and the ongoing COVID-19 pandemic, the Finnish Immigration Service allowed flexibility in family reunification applications, with in-person interviews replaced by written interviews, more time granted to submit attachments, and Afghan applications prioritised. ', 'In the autumn of 2014, one year education courses preparing for upper secondary school were organised for immigrants and foreign language speakers. The Ministry of Education and Culture has prepared a reform of preparatory education for initial vocational training. As a result of the reform, there will be only two types of preparatory education - for initial vocational training and for work and independent living. Furthermore, making basic education possible for adult immigrants has been considered. An appointed working group looked into the possibility of enabling immigrants who are older than the compulsory school age to complete the basic education syllabus. The working group submitted its proposals on 30th September 2014. A development project for recognising degrees, qualifications and skills gained abroad was also launched in 2014 by the Employment and Economic Development Office of Uusimaa. On 3rd April 2014, the Government submitted a Bill on the new Non-Discrimination Act. The goal of the reform is to ensure equal protection against discrimination regardless of the grounds or field of life. The current Ombudsman for Minorities will be replaced by the Ombudsman for Equal Treatment, whose field of operation covers all grounds for discrimination with the exception of gender and sexual identity. The (Gender) Equality Board and the National Discrimination Tribunal of Finland will be combined into the Equality Tribunal. The legislation is intended to enter into force at the beginning of 2015. In the spring of 2014, the Centre of Expertise in Integration was established with the aim to improve the effectiveness of integration activities through information guidance. During 2014, activities included recruiting, establishing a website planning the operational logic of the centre, promoting research and reporting activities, investigating regional and local expectations with regard to the operations of the centre and launching a nationwide training tour. Finland also continued to implement different integration projects. For example, the “International Good relations project (2012–2014)” developed local- level indicators for good relations. The indicators were divided into four areas: 1) attitudes, 2) personal security, 3) interaction with others, and 4) participation and influence. The aim was to develop a local-level survey in Finland, enabling the monitoring of the state of ethnic relations in a certain municipality. The ALPO project (2012–2014) also developed municipal guidance and counselling services for immigrants. The new operating methods developed by the project became a regular, ongoing practice in several municipalities. The Moving to Finland website was launched, targeting primarily quota refugees, however useful information about the country is also provided for other migrants. The aim is to start the integration process before third-country nationals move into the country. ', 'The Finnish Ministry for Foreign Affairs continued its information campaigns in Iraq, Somalia and Afghanistan. Youth workshops were organised on peace building, the climate crisis, identification and tackling propaganda, and conflict resolution. Participants also practised effective communication and various storytelling methods.', 'The number of citizenship applications increased. For the second year in a row, Iraqi citizens were the largest group applying for Finnish citizenship. ', \"A legislative amendment was proposed enabling the withdrawal of Finnish citizenship if a person commits serious crimes against Finland's vital interests, such as treason, espionage or serious terrorist acts. According to the proposed amendment, withdrawal of citizenship would apply to persons sentenced to at least five years imprisonment in Finland. \", 'The year 2013 witnessed the gradual expansion and implementation of Visa Information System ( VIS), which is now used in the diplomatic missions in Africa, the Middle East, the Persian Gulf region, South America and in Central and Southeast Asia. The diplomatic missions located in these regions do not process any other visa types than VIS visas. In 2013, activities on border controls have included the preparations for the launch of a National Coordination Centre ( NCC) in the framework of EUROSUR’s implementation. In terms of consular representation, Finland makes an extensive use acting as the representative of another Member State in 37 cases, while being represented by another Member States in 69. ', 'Finland allocated additional funds to teaching Finnish/ Swedish as a second language, literacy and integration training in non-formal education (e.g. adult education). ', 'The Action Plan 2021-2024 to Prevent Irregular Migration and Irregular Stay was finalised in May 2021. The Plan was designed as a holistic approach to prevent irregular migration, irregular stay, cross-border crime and the emergence of shadow societies. The 52-point Plan was agreed to be monitored by the Ministry of the Interior and the National Police Board. The Border Guard paid special attention to the eastern land borders due to the situation in Belarus. ', 'The government programme outlines a variety of measures on voluntary return and non-voluntary return. The aim is to improve return counselling and facilitate the fastest possible return of those not granted asylum. The Ministry of the Interior launched a legislative project to examine the provisions on detention and entry bans in the Aliens Act, with the aim of enhancing returns, in line with the new government programme. Finland has adopted the Frontex Joint Reintegration Services ( JRS) Programme and uses Frontex JRS services for both voluntary and non-voluntary returns. ', 'A record number of presumed victims of trafficking in human beings were identified in Finland in 2018. Training on identifying and assisting such victims was expanded to reception centre counsellors. The training was organised by the Reception Unit of the Finnish Immigration Service and the National Assistance System for Victims of Trafficking in Human Beings. Guidance for reception centre staff on assisting victims of trafficking in human beings was also developed by the Finnish Immigration Services and the National Assistance System for Victims of Trafficking in Human Beings. In addition, the Asylum Unit of the Finnish Immigration Service prepared guidelines for handling forced marriage cases in the asylum process. The guidelines view forced marriage as a form of trafficking in human beings. ', 'The government’s Talent Boost programme (a cross-administrative programme designed to boost the immigration of senior specialists, employees, students and researchers) continued in 2021. The ‘Roadmap for Education-Based and Work-Based Immigration until 2035: A long-term action plan to achieve the objectives set for immigration of specialists, entrepreneurs, researchers and students’ was adopted by the government in September 2021. ', 'In 2014, the Ministry of the Interior, together with the Ministry for Foreign Affairs and other relevant parties started the development of closer cooperation in migration and development issues. Finnish migrant NGOs play an active role in development cooperation. Out of the development cooperation funds intended for NGOs, the Ministry for Foreign Affairs provided funding to a total of 27 NGOs and 27 of their projects in Somalia in 2014. The total support amount is approximately 3.8 million euro. More than half of this is channelled through migrant organisations. For example, a significant project is the training project for healthcare professionals (2014 – 2016), which aims at strengthening the health sector in northern Somalia by developing the sector’s human resources. The objective of the project is to train local professionals to become trainers and share their knowledge and skills. Female health care professionals are selected to participate in the project so that they can help to improve women’s health and set an example for local women, showing how women can operate effectively in society. ', 'On 1st July 2014, a legislative amendment entered into force and strengthened efforts to reconnect unaccompanied minors with their parents or guardians residing outside Finland. The Aliens Act was amended with regard to tracing parents or actual guardians and stipulated that if necessary, tracing parents and guardians should be continued even after the decision on international protection is made but tracing should not be continued for an unreasonably long time. No new polices or developments regarding other vulnerable groups were introduced/reported during 2014. ', 'In 2019, work surpassed family as the main reason for residence permit applications. A legislative amendment that entered into force at the beginning of June 2019 saw labour market testing dropped for persons who already hold a work permit and have worked in Finland for at least one year, and who apply for an extended permit in a different field. This amendment was intended to improve the pre-conditions for workforce mobility. ', 'In 2021, the Action Plan to Combat Human Trafficking was accepted by the Finnish Government. Various authorities were tasked with implementation of the Plan, which has five strategic objectives and 55 actions. It was designed to promote the detection of human trafficking, improve victim standing, enhance the establishment of criminal liability, strengthen the mainstreaming of anti-trafficking into wider government activities, and intensify cooperation with civil society. Due to political pressure and large-scale discussions in media, resources for tackling trafficking in human beings crimes were increased. The competence centre for human trafficking comprises an investigation unit within Helsinki Police and intelligence support from the National Bureau of Investigation. ', 'During 2014 Finland was working on developing legislation concerning the National Assistance System for Victims of Trafficking in Human Beings. On 27th November 2014, the Ministry of Interior submitted a Government Bill with legislative amendments to the Act on the Reception of Persons applying for International Protection and the Aliens Act; the bill focuses on the significant changes in terms of the practical functioning of the National Assistance System for Victims of Trafficking in Human Beings. The impact of the amendments is being carefully monitored, in order to evaluate whether more extensive changes are needed in the future. On 7th October 2014, the Ministry of Justice appointed a working group to prepare the implementation of the Victims’ Directive. The objective is to ensure that victims of a crime receive appropriate information, support and protection and can participate in criminal proceedings.', \"Regional unaccompanied minor liaison officers were appointed for all offices of the Finnish Immigration Service in 2017 to improve the effectiveness of guidance and communication in matters related to minors. In 2017, the Finnish Immigration Service started a project called ·Let's Talk About Children -method in reception services - psychosocial support for families with children and the vulnerable·. This concerns a preventive method of supporting development, which is targeted at unaccompanied minors and all families seeking asylum: With regard to reception, its overall capacity was reduced and adjusted to the existing situation. The number of unaccompanied minors in the reception services fell from 700 to 74 during the year. The number of reception units for unaccompanied minors were reduced from 49 to 8. \", 'The regulation of entry and residence will be tightened during the government’s term. Work-related migration In February 2023, a number of legislative amendments streamlined the application and decision-making process for work-based migration. These stemmed from a more extensive concept to cut the processing time for work- based permits to an average of one month. The new provisions enable increased automation in decision- making to speed up processing. Provisions were also laid down in respect of employer certification to simplify the permit process of reliable employers. Despite general restrictions on legal migration, there is an ongoing commitment to streamlining labour migration. According to the new government programme, labour migration will focus specifically on highly educated migrants and labour shortage sectors. ', 'Until 2014, the Helsinki Police Department has been running a project with the goal to increase the efficiency of identification of persons ordered to be removed from the country and obtaining of travel documents from third-country embassies and authorities in charge of entry into the country. The project aims at developing relations with third-country embassies in order to enable and facilitate returns. In addition, the project includes cooperation with the authorities of other EU Member States. Country- specific information on identification and obtaining of travel documents was also produced. As of 1st January 2014, the Ombudsman for Equal Treatment (previously named Ombudsman for Minorities) has jurisdiction to supervise the enforcement of the removal of foreign nationals. ', 'An action plan on the reform of national integration policy was drafted and will be submitted to the government at the beginning of 2021. ', 'Integration legislation is being reformed. In October 2022, the government proposed a new Act on the Promotion of Immigrant Integration (Integration Act), which would enter into force in 2025. The reform aims to strengthen the inclusion of immigrants in society and promote integration more efficiently. Another goal is to increase equality and well-being and advance good relations between population groups, including facilitating the pathway towards employment and improving immigrant women’s – and others outside the labour force – access to services. ', 'The ministerial working group on internal security decided to establish an anti-trafficking coordinator under the Finnish Ministry of the Interior’s Police Department. Its role will be supported by a secretariat, including representatives of the key ministries, and directed by a steering group. A proposal for the establishment of a coordination network for anti- trafficking activities involving key non-governmental organisations was also introduced. During 2013, the Task Force against Trafficking in Human Beings (TF- THB) of the Council of Baltic Sea States ( CBSS) met regularly and a conference in 2014 around the theme of help and support provided to victims of trafficking in human beings was expected. ', 'In September 2012, the Government Integration Programme 2012 - 2015 was published. Special areas of focus include: the promotion of employment among immigrants and support for immigrant children, young people, families and women. The Government Integration Programme has served as a basis for the Government Resolution that sets the focus areas for integration. An online publication on the statutory initial assessment procedure related to the integration of immigrants, targeted for all stakeholders participating in integration, was published in February 2012.1 With regard to encouraging migrants to be more active at the local elections, the Advisory Board for Ethnic Relations ( ETNO) and the Ministry of Justice worked together in organising the iCount project. ', 'A legislative amendment in early 2019 sped up the enforcement of removal decisions. Certain removal decisions related to public order and security can be enforced 30 days after the decision is served, except where the administrative court prohibits such enforcement. The removal procedure applies where the person concerned holds or held a residence permit in Finland, or the residence of an EU citizen was registered. After 1 January 2019, changes to assisted voluntary return sought to promote it as an option. The entry into force of the new Decree on Assisted Voluntary Return increased the value of in-kind assistance for all countries. ', 'Finnish authorities working in the area of return implemented multiple projects on processing data and digitalisation of information systems. Legislative amendments to enable digitalization were passed. ', 'In the labour market and education sector, reforms were introduced aiming to improve the attainment of migrants in the education system and to accelerate the transition of third-country nationals to the labour market. For example, changes were made both to basic education and vocational education, increasing migrants· access to both. Si ', 'A comparative study on family reunification in Nordic countries conducted by the Ministry of Interior was published in April 2012 with the aim to analyse and compare legislative provisions related to 2 residence permits issued on the ground of family ties and to formulate a proposal for amendments to the Aliens Act. The study recommended raising the threshold requirements of sufficient income to beneficiaries of humanitarian protection as well as introducing requirements for adequate accommodation. ', 'The first survey on the development needs of the Nationality Act was completed in the spring of 2020. A draft law was launched in autumn, aiming to update and develop both the Nationality Act and the Governmental Decree on Nationality. ', 'Family reunification criteria were tightened in 2016. Amendments to the ‘Aliens Act’ have introduced a requirement of ‘sufficient means of support’ in order for the family reunification of beneficiaries of international or temporary protection to take place. The amendment aims to manage migration and to reduce the costs of immigration. The tightening of family reunification criteria is in line with the EU’s Family Reunification Directive (2003/86/EU). ', 'The Ministry of the Interior launched an update of its action plan for preventing illegal entry and residence 2021-2024. The new action plan will examine the status of those residing in the country without a residence permit, associated abuses, and the status of human trafficking victims. ', 'As per the programme for government, the national Talent Boost programme was expanded in autumn 2019 to cover immigration of highly skilled people, including workers, students and researchers. ', 'The Finnish Aliens Act was amended to specify the criteria for processing subsequent applications. A subsequent application will not prevent the enforcement of an earlier decision to deny admission or stay if the subsequent application does not fulfil the criteria for admissibility and is submitted only for the purpose of preventing or delaying return. A new provision on a violation of entry ban was added to the Criminal Code. As of 1 January 2019, a person violating an entry ban can be sentenced to either a fine or imprisonment for a maximum of one year. ', 'In December 2021, the Ministry of the Interior began the second phase of the legislative proposal on the long-term D visa. ', 'The Aliens Act and certain related laws were amended to facilitate the introduction of biometric residence permit cards. The microchip on the residence permit card will store a facial photograph and two fingerprint images as biometric identifiers. The introduction of biometric residence permit cards aims to prevent abuse of the residence permit system through the adoption of a more reliable connection between the residence permit and its holder. Amendments to the Aliens Act came into force on 1 January 2012 (631/2011). In October 2012, the ministerial working group on internal security approved the Action Plan against Illegal Immigration 2012 – 2015. The Action Plan contained a number of measures aiming at improving cooperation among authorities and streamlining legislation. In August 2012, the Ministry of Justice set up a working group to design a proposal for the amendment of the Criminal Code in regard to foreigners acquired entry documents by providing false information. The Employer Sanctions Directive was transposed by amendments to the Finnish Employment Contracts Act, in August 2012. The Finish Aliens Act also contains provisions with regard to granting a reflection period and a residence permit to illegally employed third-country nationals who have been subject to particularly exploitative working conditions or who are minor. Several projects were implemented. For example, the project “Reviewing of provisions regarding the detention of aliens” was extended to the end of 2014 and the Paperittomat project, coordinated by the Finish Refugee Advice Centre, was launched. The project provides legal counselling to undocumented persons and other people coming into contact with them. Also an online repository of information for undocumented migrants, including their rights was launched.3 The Finnish Border Guard and HAUS (an organisation that executes public sector development projects as an authorised representative of the Finnish government e.g. in twinning projects), together with Turkey, executed a Twinning project related to border management. The project focused on developing a risk management model for the Turkish Police and prepared a risk analysis training module for further training of police personnel; developing a risk management model and contingency plan for the Turkish Ministry of Health and provided related training and producing a risk management model. ', 'The ongoing COVID-19 pandemic and related travel restrictions saw Border Guard controls (re-)established at internal borders between 19 March 2020 and 26 July 2021. ', 'The D visa was proposed by the government to support implementation of the 14-day fast-track service pledge for specialists, growth entrepreneurs and their family members. The government submitted its proposal on the amendments to the Aliens Act and to Sections 3 and 5 of the Act on the Processing of Personal Data by Migration Authorities (605/2020) to Parliament on 16 September 2021. The Act is scheduled to enter into force in June 2022. ', 'MIGRATION No new developments were reported in this area in 2014. ', 'The Ministry for Foreign Affairs carried out a communications campaign against the smuggling and trafficking in human beings in 2016. The campaign focused particularly on risks related to the smuggling in human beings. ', 'The implementation of the national Action Plan to Combat Trafficking in Human Beings, adopted in May 2021, will continue until 2023. Overall, the implementation of the Action Plan has gone as planned. Only a small number of actions are late or will not be carried out. ', \"Following the EU Court of Justice's rule in the case C- 550/16 (A and S v Staatssecretaris van Veiligheid en Justitie), an amendment proposal was submitted to the Parliament. It proposes that when deciding on an application for family reunification, an unaccompanied minor who is a beneficiary of international protection would be considered as a sponsor if s/he submitted their application for international protection when still a minor, even if the decision on the residence permit application based on family ties was made after the applicant reached adulthood. The amendment would apply not only to sponsors with refugee status but also to sponsors with subsidiary protection status. \", 'A number of measures were taken in 2017 in order to increase the effectiveness of voluntary return. For example, the amounts of assistance for voluntary return were increased. In addition, an AMIF-funded project · VAPA· aimed to advance voluntary return by hiring voluntary return advisers, who provide guidance on voluntary return. The project will continue until April 2018. Measures relating to forced return were implemented as well: for example, a national return pool was established, to which police officers were appointed from various police departments. The aim is that the officers in the pool are available for escorting returnees to challenging countries of return. ', 'Due to the increase in the number of asylum-seeking unaccompanied minors, a total of 60 new group homes and supported living units were established for such minors. 2 In addition, the Immigration Service arranges supported housing and training for said minors in 20 folk high schools through the Nutukka project (Young Asylum Seekers at Folk High Schools). In 2015, the Aliens Act was amended to prohibit the detention of an asylum-seeking unaccompanied minor (below 15 years of age) even after the decision of his/ her removal has become enforceable. Furthermore, the Act restricts the detention of minors (including those above 15 years of age) for the purpose of ensuring removal and prohibits their detention on police premises. ', 'The Ministry of the Interior initiated a project in December 2011, to review provisions regarding the detention of aliens. The first stage of the project focused on the prohibition of the detention of unaccompanied minor asylum seekers while the second stage aimed to determine any other needs to amend legislation. However, it became evident that the issues of the detention of children could not be separated from other detention-related issues; from the perspective of drafting legislation, it was considered more appropriate to address the issue of detention for all groups as a single entity. The mandate period of this project was extended until 31 December 2014. During the summer 2012, a public consultation was launched on the draft Government proposal to the Parliament for an act amending the Aliens Act with regard to the detention of unaccompanied minors applying for asylum. ', 'No significant developments in 2020. ', 'National legislation was adopted to complement Schengen Information System (SIS) regulations. The legislative amendments will enter into force by government decree once the European Commission adopts a decision setting the start date for SIS operations. ', 'A temporary amendment to the Aliens Act. extended asylum seekers right to work and was in effect between 29 June and 31 October 2020. That amendment gave asylum seekers the right to work in agriculture, forestry, horticulture and fisheries. The waiting period for asylum seekers to take up employment was also temporarily abolished (previously, three or six months, depending on whether or not they had a valid travel document). ', 'Following heavy criticisms, a legislative project was being developed in 2013, in order to exclude unaccompanied minors seeking international protection from detention. In addition, the position of unaccompanied minors has been reviewed in relation to the assistance of the victims of trafficking in human beings. ', 'A revised version of the integration partnership programme was published, aiming to improve dialogue and interaction between the public and the third sector, as well as promoting exchange of information, partnerships and joint development. The programme is complemented by an action plan which is revised in 2021 and thereafter every two years. ', 'The Government’s action plan against trafficking in human beings 2016–2017 was published on 18th November 2016. It includes a dedicated set of measures associated with increasing the efficiency of victim outreach work, identification and assistance. In 2016 an increase in the number of missing asylum-seeking minors was registered as well an increase in victimisation during the journey.', 'Temporary concessions were made in family reunification policies, in light of the exceptional circumstances caused by the COVID-19 pandemic. The three-month limit for refugee status holders was extended and flexibility was granted in income limits for applicants for family reunification. ', 'In December 2022, legislative amendments were approved, improving the status of victims of trafficking in human beings. The help provided through the assistance system no longer depends on the progress of the criminal proceedings related to human trafficking. This is expected to have a particular impact on vulnerable victims who were previously afraid to seek help from the authorities. The legislative amendments entered into force on 1 January 2023.', 'By law, accompanying minors in the asylum procedure are systematically heard if they have reached the age of 12. A new practice developed in 2021 (to come into effect in early 2022) will see minors under the age of 12 heard more often, based on ex officio consideration or at the request of the minor, their parents or legal counsel. Some focus was also placed on guardianship and guardian’s right of access and speech, with developments in the service of decisions and guidance on the opportunity to be heard. The Action Plan Against Trafficking in Human Beings was introduced in 2021 to tackle child trafficking and trafficking of adults. It included information about human trafficking and exploitation in the continuing education of professionals working with children and young people. ', 'Internal border checks were restored almost in full, due to the COVID-19 pandemic. Travel restrictions were simultaneously imposed on internal and external borders. ', 'Immigrants access to education was enhanced through a variety of means. In addition to subsidies targeted at pre-primary and basic education, the state granted special subsidies to promote integration. In addition to the formal training and education sectors, these subsidies could be applied for by actors in culture, sports and third sector. The government also launched a pilot project on free- of-charge part-time early childhood education and care for five-year-olds which targeted child foreign- language speakers to facilitate their integration. In September, a national, large-scale integration event, the Integration 2018 Fair, was organised. The two-day event attracted approximately 1 000 integration experts and professionals from public, private and third sectors. ', 'In general, returns were found to be more difficult in 2018 due to the reluctance of the returnees to accept to return voluntarily and the reluctance of the countries of return to receive them. Various measures were undertaken to increase the use of the voluntary return system. The return of those who had committed criminal offences and those who posed a danger to public security was accelerated. The corresponding legislative amendment was approved in November 2018 and entered into force on 1 January 2019. According to the legislative amendment, certain return decisions related to public order and security can be enforced within 30 days of notification.', 'No policy developments were reported in 2017. ', 'No policy developments were reported in 2017.', 'New principles of the curriculum for integration training were published in February 2022. The providers of inte\\xadgration training use this core curriculum to draw up more detailed plans on teaching and guidance. ', 'Training was introduced for staff of the asylum unit specifically on how to deal with cases of forced marriage, child marriage and the issue of female genital mutilation. Along with the training, new guidelines were developed on how to deal with the above issues and how to report them. ', 'In December 2016, the Parliament approved a legislative proposal on a residence obligation as an alternative for detention for asylum-seeking unaccompanied minors. The residence obligation means that the minor is ordered to reside in a specific children’s reception centre, to remain in its vicinity and to report to it daily. The obligation can be imposed on asylum-seeking unaccompanied minors who have reached the age of 15 and who have been issued with a negative asylum decision and a return decision. On other vulnerable groups, in 2016 a reception unit for mental health customers requiring special support was established. The unit can accommodate 20 people. ', 'Legislative amendments entered into force in January 2023 to improve the status of victims of trafficking in human beings. Help provided through the assistance system for victims of human trafficking no longer depends on the progress of the criminal proceedings related to human trafficking, but is instead based on an assessment of the victim’s individual situation. The victim has the right to receive assistance regardless of the initiation, continuation and outcome of the criminal proceedings insofar as they are considered to need assistance. The amendments promote both the status of the victim and the interests of society as a whole: they improve the detection of human trafficking, referral of victims to assistance, and enforcement of criminal liability. At the same time, the amendments clarify the previous legislation. ', 'No significant developments to report in 2023. ', 'No significant developments to report in 2023. ', 'No significant developments to report in 2023.', 'The long-term (D) visa was extended to residence permit holders residing abroad whose residence permit card was lost, stolen or had expired. ', 'No policy developments were reported in 2016. ', 'According to the same government proposal, the definition of a stateless person in the Nationality Act would be amended from the current two definitions– ‘involuntarily stateless’ and ‘voluntarily stateless’ – to a single definition. ', 'Amendments to legislation concerning the National Assistance System for Victims of Trafficking came into effect on 1st July 2015, adding the following elements: \\uf0ea A description of the grounds for removing a person from the assistance system, thus making the system more transparent and accountable. \\uf0ea A recovery period for vulnerable and/ or fearful victims. \\uf0ea The possibility for the Assistance System to formally identify its customer as a victim of trafficking. In July 2015, the Assistance System published a booklet on victim assistance and the Assistance System.', 'A working group was appointed, for the period from 1 February 2012 to 31 December 2013, for the development of legislation on trafficking in human beings. The latter’s aim is to formulate proposals for more specific provisions concerning the system of assistance for victims of trafficking in human beings. Another working group was also appointed to review provisions related to trafficking in human beings in the Criminal Code (39/1889). The National Police Board issued guidelines for the Police concerning responses to trafficking in human beings and corresponding crime and provision of assistance to victims of trafficking in human beings. ', '2019 saw a record high number of entries in the assistance system for victims of human trafficking. Of these 229 new additions, 70 were estimated to be victims of exploitation indicative of human trafficking. ', 'The age limit for after-care for unaccompanied minors was raised to 25 years of age. This was considered a major improvement in the rights of unaccompanied minors. ']\n",
      "['2343', '4198', '4197', '961', '9', '3108', '462', '3807', '0', '3806', '3109', '463', '455', '967', '965', '1431', '3813', '1968', '837', '4202', '464', '959', '836', '1969', '1200', '3820', '968', '4200', '1437', '2337', '3115', '2448', '1', '2339', '1433', '1429', '3129', '459', '1975', '4204', '4203', '962', '457', '3116', '2332', '963', '2461', '454', '964', '2', '3812', '1430', '3814', '3808', '3821', '834', '1198', '11', '2458', '2338', '1203', '840', '3112', '3119', '3117', '1434', '1206', '1202', '2447', '1439', '1967', '5', '6', '2335', '3114', '3809', '2334', '3121', '2446', '2459', '2451', '1976', '3818', '3810', '2336', '3125', '966', '838', '1971', '3815', '456', '3113', '839', '2463', '3122', '1974', '458', '3120', '3126', '4207', '1977', '3111', '841', '835', '2333', '3127', '844', '1435', '4199', '843', '2454', '3816', '461', '4', '2342', '3128', '1436', '3', '2456', '1201', '2460', '2449', '2340', '3124', '10', '3123', '3110', '842', '1205', '3823', '1970', '1438', '960', '7', '2462', '3822', '2452', '460', '2455', '1207', '2450', '3824', '3118', '2457', '1973', '1978', '1432', '1440', '3817', '1972', '1199', '4206', '4201', '4205', '4208', '3811', '1204', '3819', '969', '8', '2341', '2453']\n"
     ]
    }
   ],
   "source": [
    "print(results['distances'][0])\n",
    "print(results['documents'][0])\n",
    "print(results['ids'][0])"
   ]
  },
  {
   "cell_type": "code",
   "execution_count": null,
   "id": "5d6819c5",
   "metadata": {},
   "outputs": [],
   "source": []
  }
 ],
 "metadata": {
  "kernelspec": {
   "display_name": "chroma",
   "language": "python",
   "name": "python3"
  },
  "language_info": {
   "codemirror_mode": {
    "name": "ipython",
    "version": 3
   },
   "file_extension": ".py",
   "mimetype": "text/x-python",
   "name": "python",
   "nbconvert_exporter": "python",
   "pygments_lexer": "ipython3",
   "version": "3.10.18"
  }
 },
 "nbformat": 4,
 "nbformat_minor": 5
}
