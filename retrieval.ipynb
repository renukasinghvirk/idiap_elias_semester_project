{
 "cells": [
  {
   "cell_type": "markdown",
   "id": "2f974410",
   "metadata": {},
   "source": [
    "# Migration Reports project: Retrieval\n",
    "In this part, we focus on the retrieval part of the RAG implementation."
   ]
  },
  {
   "cell_type": "code",
   "execution_count": 1,
   "id": "c255cc29",
   "metadata": {},
   "outputs": [],
   "source": [
    "import pandas as pd\n",
    "import numpy as np"
   ]
  },
  {
   "cell_type": "markdown",
   "id": "20f40c7b",
   "metadata": {},
   "source": [
    "## Simple example\n",
    "In this section, we first get a hang of ChromadB by following a simple example. We will later on focus on the implementation of our `.csv` file. \n",
    "### Indexing\n",
    "Let's first focus on indexing a sentence in ChromadB. To do so, we can first install chromadB by running `pip install chromadb` in the terminal.\n",
    "\n",
    "The steps are detailed on the [Chroma website](https://docs.trychroma.com/docs/overview/getting-started) and in this [example](https://www.datacamp.com/tutorial/chromadb-tutorial-step-by-step-guide)."
   ]
  },
  {
   "cell_type": "code",
   "execution_count": 2,
   "id": "c864720e",
   "metadata": {},
   "outputs": [],
   "source": [
    "import chromadb\n",
    "from chromadb.config import Settings"
   ]
  },
  {
   "cell_type": "markdown",
   "id": "c81388fe",
   "metadata": {},
   "source": [
    "The first step is to create a client, which will connect us to the database and thus allow us to create, store, query collections of embeddings.\n",
    "We can create a persistent client, meaning we save the data on our disk, or an ephemeral client, in which case the data will disappear once we're done. We choose the latter for this first example."
   ]
  },
  {
   "cell_type": "code",
   "execution_count": 3,
   "id": "00288dcc",
   "metadata": {},
   "outputs": [],
   "source": [
    "# in-memory client for this example\n",
    "client_test = chromadb.Client()\n",
    "\n",
    "# example of persistent client\n",
    "# client = chromadb.PersistentClient(path=\"\")\n"
   ]
  },
  {
   "cell_type": "markdown",
   "id": "962c5c3b",
   "metadata": {},
   "source": [
    "We can then create a collection, where our embeddings will be stored."
   ]
  },
  {
   "cell_type": "code",
   "execution_count": 4,
   "id": "cc64f641",
   "metadata": {},
   "outputs": [],
   "source": [
    "collection_test = client_test.create_collection(name=\"first_try\")"
   ]
  },
  {
   "cell_type": "markdown",
   "id": "cb94b73f",
   "metadata": {},
   "source": [
    "Let's now add documents to our collection, these will be embedded with the default embedding model `all-MiniLM-L6-v2`. We could also choose a different embedding model, which we will most likely due for the rest of the project."
   ]
  },
  {
   "cell_type": "code",
   "execution_count": 5,
   "id": "5f89389b",
   "metadata": {},
   "outputs": [],
   "source": [
    "collection_test.add(\n",
    "    ids=[\"id1\", \"id2\"],\n",
    "    documents=[\n",
    "        \"The sky is blue on earth and pink on Saturn.\",\n",
    "        \"There is no sky in India.\"\n",
    "    ]\n",
    ")\n"
   ]
  },
  {
   "cell_type": "markdown",
   "id": "306a28fb",
   "metadata": {},
   "source": [
    "### Add the query and compute the similarity"
   ]
  },
  {
   "cell_type": "code",
   "execution_count": 6,
   "id": "924d6e16",
   "metadata": {},
   "outputs": [],
   "source": [
    "results_test = collection_test.query(\n",
    "    query_texts=[\"What color is the sky on Saturn?\"], # Chroma will embed the query\n",
    "    n_results=2, # number of results to return, default=10\n",
    "    include=[\"documents\", \"distances\", \"embeddings\"] # default mode doesn't include embeddings, add them to visualize\n",
    ")"
   ]
  },
  {
   "cell_type": "code",
   "execution_count": 7,
   "id": "fa32f3dd",
   "metadata": {},
   "outputs": [
    {
     "name": "stdout",
     "output_type": "stream",
     "text": [
      "[[0.2976532280445099, 1.2716426849365234]]\n",
      "[array([[ 7.58604147e-03, -3.36620733e-02,  7.11525679e-02,\n",
      "         8.41439050e-03,  7.40479901e-02, -1.85960811e-02,\n",
      "         8.59402195e-02,  5.68682589e-02,  9.73398909e-02,\n",
      "        -6.36850530e-03, -6.61930218e-02,  1.11738751e-02,\n",
      "        -3.40286195e-02, -9.80932452e-03, -6.70989677e-02,\n",
      "         5.86853437e-02, -2.41405573e-02, -7.16577992e-02,\n",
      "        -2.85602733e-02, -1.48872854e-02, -4.84411605e-02,\n",
      "         2.35866643e-02, -4.09192108e-02,  9.22331214e-02,\n",
      "        -8.31628814e-02,  9.81782079e-02, -2.09377091e-02,\n",
      "         5.39325876e-03,  7.10575609e-03,  6.13714978e-02,\n",
      "        -1.21362749e-02,  3.07445694e-02,  2.28071883e-02,\n",
      "        -1.43129472e-02, -8.39055106e-02, -3.72098982e-02,\n",
      "        -1.21801952e-02, -3.42654921e-02, -1.34223672e-02,\n",
      "         7.66166078e-04,  1.34405438e-02,  7.06612365e-04,\n",
      "         2.47000419e-02, -5.17933586e-05,  4.71106265e-04,\n",
      "         4.71932516e-02,  4.50511910e-02, -4.68019629e-03,\n",
      "         2.85741370e-02, -3.54782268e-02, -2.26243399e-02,\n",
      "         1.69672836e-02, -7.72010237e-02,  1.60922296e-02,\n",
      "        -4.14782204e-02,  1.11735605e-01, -1.01497598e-01,\n",
      "        -1.33186206e-01,  9.57853943e-02, -1.67190451e-02,\n",
      "        -8.62777010e-02,  6.24050051e-02, -8.87685083e-03,\n",
      "         4.67576832e-02,  1.19404020e-02,  5.80534264e-02,\n",
      "        -8.54459256e-02,  1.51354065e-02, -2.26596668e-02,\n",
      "        -6.79063499e-02, -1.15122367e-02,  3.32826450e-02,\n",
      "         1.50354039e-02, -1.91207398e-02,  7.66947400e-03,\n",
      "         1.94877456e-03,  9.14086252e-02, -5.21862647e-03,\n",
      "        -1.36408843e-02, -5.20141236e-02,  7.23122945e-03,\n",
      "        -7.38276243e-02, -1.21242009e-01,  8.51012841e-02,\n",
      "         1.04530025e-02,  7.05132261e-02, -7.02398270e-02,\n",
      "         3.54205333e-02, -3.93904112e-02, -2.44525373e-02,\n",
      "        -1.29526099e-02, -3.61620784e-02, -3.17041501e-02,\n",
      "        -5.27818948e-02, -7.88328126e-02,  3.60217579e-02,\n",
      "         6.11583143e-02, -8.55591521e-02,  7.55507573e-02,\n",
      "         3.63950208e-02,  4.84937541e-02, -3.33179645e-02,\n",
      "        -8.95658508e-03,  2.74208896e-02, -4.36482839e-02,\n",
      "         3.83749269e-02,  1.56831965e-02,  4.11416888e-02,\n",
      "         2.35072449e-02, -3.49255987e-02, -1.80811733e-02,\n",
      "        -4.71169241e-02,  1.72260851e-02, -4.34710942e-02,\n",
      "        -3.76965180e-02,  2.91198902e-02, -5.26251271e-02,\n",
      "         1.92121305e-02, -4.60440479e-02, -5.70826139e-03,\n",
      "        -2.86290292e-02, -5.84307089e-02,  2.83516105e-02,\n",
      "         1.01474784e-01,  3.15992162e-03, -5.36572337e-02,\n",
      "        -2.46629473e-02, -3.39334215e-33,  8.38199779e-02,\n",
      "        -3.02008484e-02,  1.58451721e-01,  1.71536393e-02,\n",
      "         1.53647186e-02, -1.88281946e-02, -9.48384404e-03,\n",
      "         4.82954644e-03, -1.56713724e-02, -5.18415705e-04,\n",
      "        -5.32883182e-02, -2.15468612e-02, -2.56353654e-02,\n",
      "        -8.86745304e-02, -1.17944870e-02,  7.51710823e-03,\n",
      "         5.21207862e-02, -8.79834313e-03, -1.16131932e-01,\n",
      "         6.67171404e-02, -1.26932189e-01,  4.96768616e-02,\n",
      "        -4.12711762e-02, -5.48529550e-02,  6.78244457e-02,\n",
      "        -3.02492641e-02,  5.59834614e-02,  1.13122920e-02,\n",
      "         2.10791044e-02, -1.21499132e-02,  6.66564703e-02,\n",
      "         7.77511969e-02, -3.22024599e-02,  5.04402742e-02,\n",
      "        -5.25179245e-02, -1.63327549e-02, -7.07573742e-02,\n",
      "         2.10607070e-02, -5.37037291e-02,  7.20424578e-02,\n",
      "        -7.39915147e-02,  5.19082658e-02, -8.60756338e-02,\n",
      "         1.45218661e-02,  7.87860155e-02,  3.20999883e-02,\n",
      "         1.43365651e-01,  3.70242707e-02,  4.34049442e-02,\n",
      "         6.58467337e-02, -3.15087587e-02, -1.19276484e-02,\n",
      "         8.50690436e-03, -2.43868381e-02,  5.42706139e-02,\n",
      "         1.22607304e-02, -2.07334794e-02, -5.10471826e-03,\n",
      "        -2.33978429e-03,  8.52988958e-02,  3.37508991e-02,\n",
      "        -4.24669832e-02,  8.19039065e-03,  2.30722949e-02,\n",
      "         1.85460579e-02,  4.64755222e-02, -4.27884199e-02,\n",
      "        -1.17619270e-02, -1.74062885e-02, -3.64835747e-02,\n",
      "         1.08640222e-02,  1.27579486e-02,  5.85792884e-02,\n",
      "         2.30466388e-03, -2.28157640e-03, -6.22887686e-02,\n",
      "         2.74831709e-02, -1.07122488e-01, -1.74128022e-02,\n",
      "         5.77891357e-02, -3.16258259e-02, -5.17559871e-02,\n",
      "         8.83759782e-02, -5.47188707e-02, -4.64093946e-02,\n",
      "         6.38316274e-02,  3.89684997e-02,  2.10874784e-03,\n",
      "         4.48241867e-02,  5.11916773e-03, -1.78967156e-02,\n",
      "        -7.89755955e-02, -9.20615043e-04, -5.24496585e-02,\n",
      "        -6.74361810e-02,  1.57772703e-33, -8.04058090e-02,\n",
      "        -5.41590415e-02, -7.51093253e-02,  1.85796935e-02,\n",
      "         3.59724388e-02,  8.02734960e-03, -3.50446552e-02,\n",
      "         1.12628855e-01, -6.50240630e-02,  3.15753929e-02,\n",
      "        -1.20274741e-02,  9.18220207e-02, -4.01169844e-02,\n",
      "        -5.01925647e-02, -6.70790020e-03, -2.08075438e-02,\n",
      "         8.27878788e-02,  4.68943194e-02, -5.68447411e-02,\n",
      "         5.27090691e-02, -1.72272399e-02,  1.43592544e-02,\n",
      "         3.58315706e-02, -1.59170106e-02, -6.45514280e-02,\n",
      "         7.11683407e-02, -1.08204281e-03,  4.01133485e-02,\n",
      "        -3.28925881e-03,  1.86256859e-02, -6.52634948e-02,\n",
      "         7.26361349e-02, -1.98125802e-02, -1.97971147e-02,\n",
      "        -1.01000927e-02,  6.34709150e-02,  2.30881963e-02,\n",
      "        -9.66897830e-02, -2.86526438e-02,  2.06902400e-02,\n",
      "        -8.82154703e-02, -2.60654073e-02,  5.88101596e-02,\n",
      "        -5.36520313e-03, -4.14004773e-02, -1.73876749e-03,\n",
      "        -1.50092607e-02,  1.33658424e-01,  3.30297984e-02,\n",
      "        -3.27731706e-02, -1.88485384e-02, -9.51245651e-02,\n",
      "         3.40125822e-02,  1.95993185e-02,  9.15964171e-02,\n",
      "         2.68437230e-04, -3.10640968e-02,  6.81352168e-02,\n",
      "         5.22942701e-03,  1.52473003e-02,  6.22576848e-02,\n",
      "        -3.72177735e-02,  1.61047839e-02, -6.08555004e-02,\n",
      "        -1.27581703e-02, -1.10054851e-01,  4.80171330e-02,\n",
      "         9.11573544e-02, -4.93753925e-02,  1.17457502e-01,\n",
      "        -3.24980803e-02, -8.29136372e-02, -5.89656048e-02,\n",
      "         3.71960178e-02,  7.95212835e-02,  2.98861023e-02,\n",
      "         8.12387541e-02, -3.27187851e-02, -2.58454867e-02,\n",
      "         6.89357817e-02, -3.23691778e-02, -7.81922415e-03,\n",
      "         4.86605503e-02,  2.15808433e-02, -6.33083209e-02,\n",
      "         6.49877405e-03,  3.01824446e-04,  1.93466768e-02,\n",
      "        -3.57101187e-02, -5.19494675e-02, -2.99659967e-02,\n",
      "         6.73234090e-02,  2.57853083e-02,  2.45195571e-02,\n",
      "        -6.95800930e-02, -1.61666538e-08,  6.87744170e-02,\n",
      "        -6.70536384e-02, -3.52968462e-02,  7.28438497e-02,\n",
      "        -7.47221112e-02,  1.65730882e-02,  1.07314214e-01,\n",
      "        -8.03369563e-03, -5.93308359e-02,  1.05277717e-03,\n",
      "        -5.85076362e-02,  2.60371231e-02,  2.96183694e-02,\n",
      "        -2.88606044e-02, -2.05860958e-02,  1.91497207e-02,\n",
      "        -7.73819685e-02, -3.60338651e-02,  1.29919546e-02,\n",
      "         6.50469810e-02,  2.39179712e-02,  5.19208945e-02,\n",
      "         4.48047044e-03, -4.76030894e-02,  7.46204285e-03,\n",
      "         7.89201912e-03,  4.33256812e-02,  4.08865996e-02,\n",
      "         4.27314732e-03,  1.15795899e-02,  6.82763522e-03,\n",
      "        -5.54375723e-02,  1.39071541e-02, -7.49282017e-02,\n",
      "        -2.96941306e-02,  1.57264364e-03, -8.49905238e-02,\n",
      "         1.05106771e-01, -2.70795655e-02, -7.88185820e-02,\n",
      "         7.22891614e-02,  8.50955471e-02, -2.52596159e-02,\n",
      "         4.78368476e-02,  2.75162775e-02,  2.54169665e-02,\n",
      "        -9.85967927e-03, -1.50864748e-02,  2.45192219e-02,\n",
      "        -3.06607448e-02,  2.11849846e-02,  6.32996112e-03,\n",
      "         3.17378379e-02, -3.27706151e-02, -2.44656391e-02,\n",
      "        -8.87964666e-02, -2.12983303e-02,  1.62543990e-02,\n",
      "         1.10620931e-02, -3.77785899e-02, -8.19763914e-03,\n",
      "        -4.96314652e-03, -9.75009054e-02,  6.89045340e-02],\n",
      "       [ 7.01876432e-02, -3.00254878e-02, -8.16773549e-02,\n",
      "        -1.56179992e-02, -1.82427734e-03, -4.70208935e-02,\n",
      "        -3.85362245e-02, -3.65156382e-02,  4.35726084e-02,\n",
      "        -1.08309118e-02,  5.19626448e-03, -9.32049751e-02,\n",
      "        -1.17788324e-02, -1.03710607e-01, -3.47635546e-03,\n",
      "         2.03793570e-02, -1.88989230e-02, -1.28717721e-01,\n",
      "        -5.51280286e-03, -4.07368056e-02, -1.20525397e-02,\n",
      "         7.28715733e-02, -3.88528556e-02,  1.83975399e-02,\n",
      "         4.45134565e-02,  2.48509087e-02,  2.23843362e-02,\n",
      "        -9.05666575e-02, -5.04673924e-03,  2.86900867e-02,\n",
      "         3.04275174e-02,  1.21449627e-01, -2.45643407e-02,\n",
      "         7.67772347e-02,  2.53968816e-02, -3.26668061e-02,\n",
      "         2.51529291e-02,  3.51708233e-02,  2.81448867e-02,\n",
      "        -6.37863204e-02,  2.32351348e-02, -1.73956230e-02,\n",
      "        -4.85936925e-02,  3.59209557e-03,  5.18541113e-02,\n",
      "         3.90616455e-03, -2.08951533e-02, -2.20097061e-02,\n",
      "        -1.65206436e-02, -3.64947021e-02, -3.06170695e-02,\n",
      "        -2.64060944e-02, -8.35844129e-02,  1.36251505e-02,\n",
      "         3.23866569e-02, -3.23686413e-02, -3.59970033e-02,\n",
      "        -3.07209007e-02,  4.35955487e-02,  2.20300481e-02,\n",
      "        -1.59797017e-02,  4.94838841e-02, -1.67872142e-02,\n",
      "         3.03429198e-02,  6.10326603e-02, -8.05496983e-03,\n",
      "        -1.07894026e-01,  4.10516039e-02,  5.32594286e-02,\n",
      "        -1.51408631e-02, -4.74308245e-02,  6.30182102e-02,\n",
      "         4.18896824e-02,  7.26967026e-03, -5.61419353e-02,\n",
      "        -4.16217223e-02,  2.03040391e-02, -2.25237571e-02,\n",
      "         5.80918714e-02,  9.53367054e-02,  2.74252370e-02,\n",
      "        -6.14059307e-02,  9.92464647e-03,  8.78982544e-02,\n",
      "        -4.93865795e-02,  2.68278234e-02,  2.03766320e-02,\n",
      "         2.25951113e-02, -3.12549397e-02, -4.67121191e-02,\n",
      "        -1.60824955e-02,  3.61259095e-02, -3.02035157e-02,\n",
      "        -1.58645380e-02, -4.24731150e-02, -2.12753247e-02,\n",
      "        -1.73374708e-03, -2.32651662e-02, -7.10113570e-02,\n",
      "         1.49527071e-02, -1.07465740e-02, -4.49466519e-02,\n",
      "        -2.86017861e-02,  8.21311846e-02, -9.69306827e-02,\n",
      "         2.50331648e-02,  3.08365077e-02, -2.00903267e-02,\n",
      "        -3.17056440e-02, -8.73728096e-03, -8.56080949e-02,\n",
      "         1.46002490e-02,  5.33619784e-02, -6.35505766e-02,\n",
      "        -1.32251889e-01,  1.84714552e-02,  1.82356350e-02,\n",
      "        -4.54968363e-02, -9.77789611e-02, -3.34819667e-02,\n",
      "        -6.45506606e-02,  3.89389321e-02,  1.00073032e-01,\n",
      "         5.85686080e-02, -2.04759985e-02, -5.41332364e-02,\n",
      "         2.45604180e-02, -4.59834435e-33,  6.84524998e-02,\n",
      "        -1.99508034e-02,  8.07709768e-02, -7.32999370e-02,\n",
      "         3.80724743e-02, -2.81750923e-03,  1.98519300e-03,\n",
      "        -9.01565515e-03,  8.09158459e-02, -4.87171626e-03,\n",
      "        -2.78406478e-02, -4.79121730e-02,  5.65881468e-02,\n",
      "        -1.02701992e-01,  1.60833418e-01,  1.63392927e-02,\n",
      "         6.81914911e-02, -4.14436683e-02, -1.29229603e-02,\n",
      "         1.44069549e-03, -1.11439042e-01,  1.12566836e-02,\n",
      "        -4.18146737e-02,  1.61648297e-03, -6.91296980e-02,\n",
      "        -2.86871325e-02,  9.74935517e-02, -1.19655253e-02,\n",
      "        -6.26640301e-03,  2.45750360e-02, -4.85093938e-03,\n",
      "         2.82265227e-02,  4.55316603e-02,  3.87997515e-02,\n",
      "        -5.79305068e-02,  1.26280461e-03, -6.42173439e-02,\n",
      "        -2.81511992e-02, -8.92725885e-02,  2.18218584e-02,\n",
      "        -5.39911091e-02,  1.91144068e-02, -5.11044189e-02,\n",
      "        -1.05802074e-01, -1.18287506e-04, -6.65045390e-03,\n",
      "         6.97636455e-02, -4.67169844e-03, -8.41921419e-02,\n",
      "         6.32819906e-02, -3.02754045e-02,  5.61986491e-02,\n",
      "         1.04004582e-02, -8.29181746e-02,  5.99799268e-02,\n",
      "         9.30012465e-02,  4.82033156e-02,  1.07524833e-02,\n",
      "        -3.98359820e-02, -2.21487507e-02, -2.92855427e-02,\n",
      "        -1.36251301e-01, -3.24585699e-02,  9.19222180e-03,\n",
      "        -3.59039754e-02,  5.55518679e-02,  3.28572467e-02,\n",
      "        -3.43829170e-02, -1.46155097e-02, -2.24010833e-02,\n",
      "         5.40647656e-02, -1.02222003e-02,  1.19447904e-02,\n",
      "         4.95870858e-02, -1.68164335e-02,  1.11995796e-02,\n",
      "         9.14587174e-03, -5.42522408e-03,  1.74076017e-02,\n",
      "         8.21208283e-02,  8.31273496e-02,  4.78560738e-02,\n",
      "         4.10571843e-02, -6.47492781e-02,  8.70914012e-02,\n",
      "        -1.34637272e-02,  2.19009146e-02,  5.57270236e-02,\n",
      "         2.37691402e-03, -4.11283784e-02, -2.54612602e-02,\n",
      "        -2.47626100e-02, -1.97657458e-02, -7.93708414e-02,\n",
      "         3.61700058e-02,  1.95034790e-33,  3.36189643e-02,\n",
      "         1.38470847e-02, -6.64201677e-02, -9.20784939e-03,\n",
      "        -1.57268085e-02,  7.10761622e-02,  4.06787992e-02,\n",
      "         5.28661832e-02,  6.71484247e-02,  2.23459583e-02,\n",
      "         4.92793508e-02,  7.76849315e-02,  1.37860579e-02,\n",
      "        -2.63959393e-02,  6.79402873e-02,  1.93367936e-02,\n",
      "        -6.46541687e-03,  2.34864075e-02, -1.37864515e-01,\n",
      "         7.84729496e-02,  2.93176323e-02, -1.08466595e-02,\n",
      "        -6.70578927e-02, -3.65425907e-02, -6.63292632e-02,\n",
      "         2.63746530e-02, -3.79380696e-02,  9.38252658e-02,\n",
      "        -5.09719886e-02,  1.54615883e-02,  5.35923392e-02,\n",
      "        -3.35305184e-02, -5.06905988e-02, -2.12120134e-02,\n",
      "        -8.14243257e-02,  3.16530094e-02,  8.47856328e-02,\n",
      "        -6.62712231e-02, -4.30870056e-02, -2.54600886e-02,\n",
      "        -1.17566891e-01,  8.63594264e-02,  1.00072190e-01,\n",
      "        -5.19623049e-02, -3.28111798e-02, -3.22101340e-02,\n",
      "         3.10548977e-03,  8.66588801e-02, -5.06281666e-03,\n",
      "        -1.05327860e-01,  1.74823944e-02, -2.86656385e-03,\n",
      "        -2.62039388e-03,  1.50846913e-02,  8.17999765e-02,\n",
      "         5.85896010e-03,  1.01527497e-02,  4.21162061e-02,\n",
      "         2.95638908e-02, -1.27028182e-01,  6.24006763e-02,\n",
      "        -6.41754046e-02,  1.31576639e-02,  2.27292664e-02,\n",
      "         3.55136814e-03,  3.87606323e-02,  3.67774181e-02,\n",
      "         1.11481473e-01,  3.47755030e-02, -4.71955538e-02,\n",
      "         2.78606508e-02, -6.69287220e-02, -5.60504384e-02,\n",
      "         4.41052020e-02,  2.69156769e-02,  9.29152891e-02,\n",
      "         4.45912918e-03,  6.28392547e-02,  3.10785361e-02,\n",
      "        -3.72459926e-02,  1.85524318e-02,  2.93912068e-02,\n",
      "         1.25271752e-02, -1.29355183e-02,  7.50662461e-02,\n",
      "        -2.81508110e-04,  1.03877271e-02, -6.79327101e-02,\n",
      "         6.65693963e-03, -2.97391950e-03, -6.11898191e-02,\n",
      "         2.51278765e-02, -3.13300081e-02,  8.61387849e-02,\n",
      "         1.28448578e-02, -1.42595225e-08,  1.32444559e-03,\n",
      "        -5.32661937e-02,  1.86664760e-02,  2.16129776e-02,\n",
      "        -3.34896408e-02,  3.17284279e-02,  8.28030854e-02,\n",
      "         2.45261118e-02,  4.79813069e-02,  3.74403335e-02,\n",
      "        -3.54453176e-02, -3.38432789e-02, -6.13446832e-02,\n",
      "         4.59578671e-02,  5.40549774e-03, -6.75342157e-02,\n",
      "        -9.21920175e-04, -3.32153365e-02, -1.82749759e-02,\n",
      "         1.10111001e-03, -6.51253536e-02,  9.53941345e-02,\n",
      "         3.93171282e-03, -1.24934753e-02,  7.58554414e-02,\n",
      "         2.34941896e-02, -1.34231681e-02, -1.12808965e-01,\n",
      "         6.01367950e-02, -3.92233720e-03,  2.44563166e-03,\n",
      "         5.19637205e-02,  3.94202694e-02, -9.76774544e-02,\n",
      "        -9.40425396e-02,  2.84178816e-02,  8.28565806e-02,\n",
      "         1.00337215e-01,  1.01211958e-03,  1.57164503e-03,\n",
      "         3.64893489e-02,  5.64591177e-02, -8.72999150e-03,\n",
      "        -4.61303163e-03, -4.51790448e-03,  4.90012243e-02,\n",
      "         5.79871573e-02, -2.41856631e-02, -4.80559841e-02,\n",
      "        -7.67349973e-02,  1.50207523e-02,  4.12572660e-02,\n",
      "         1.14329439e-03, -5.33737205e-02, -3.72235700e-02,\n",
      "        -5.93466125e-02, -2.25629769e-02,  1.35367941e-02,\n",
      "        -1.90175732e-03,  8.49850755e-03,  7.85610601e-02,\n",
      "        -3.74416374e-02, -1.06717639e-01,  2.44033709e-02]])]\n"
     ]
    }
   ],
   "source": [
    "print(results_test['distances'])\n",
    "print(results_test['embeddings'])"
   ]
  },
  {
   "cell_type": "markdown",
   "id": "17437d65",
   "metadata": {},
   "source": [
    "As we see above the distance from the query to the first sentence is much smaller than to the second sentence, which makes sense as we are asking a question specifically about Saturn.\n",
    "\n",
    "Let's now remove the word 'sky' altogether and see what we get."
   ]
  },
  {
   "cell_type": "code",
   "execution_count": 8,
   "id": "fa7db54b",
   "metadata": {},
   "outputs": [
    {
     "name": "stdout",
     "output_type": "stream",
     "text": [
      "[[0.7035682797431946, 1.515793800354004]]\n"
     ]
    }
   ],
   "source": [
    "results_test2 = collection_test.query(\n",
    "    query_texts=[\"How is the weather on Saturn?\"], \n",
    "    n_results=2\n",
    ")\n",
    "print(results_test2['distances'])"
   ]
  },
  {
   "cell_type": "markdown",
   "id": "ee08f252",
   "metadata": {},
   "source": [
    "### Second example\n",
    "Let's play with Chroma to get a sense of the limits of the embeddings."
   ]
  },
  {
   "cell_type": "code",
   "execution_count": 9,
   "id": "0c49a4d8",
   "metadata": {},
   "outputs": [],
   "source": [
    "collection_test.add(\n",
    "    ids=[\"id3\", \"id4\", \"id5\", \"id6\"],\n",
    "    documents=[\n",
    "        \"Sri Lanka is not worth visiting.\",\n",
    "        \"Ceylan is a beautiful  place.\",\n",
    "        \"I like going to South Asia.\",\n",
    "        \"I love going to the beach.\"\n",
    "    ]\n",
    ")"
   ]
  },
  {
   "cell_type": "code",
   "execution_count": 10,
   "id": "3f83a2f9",
   "metadata": {},
   "outputs": [
    {
     "name": "stdout",
     "output_type": "stream",
     "text": [
      "Sri Lanka is not worth visiting. 0.8618\n",
      "I like going to South Asia. 0.8624\n",
      "I love going to the beach. 1.3409\n",
      "Ceylan is a beautiful  place. 1.5688\n",
      "There is no sky in India. 1.6129\n"
     ]
    }
   ],
   "source": [
    "results_test3 = collection_test.query(\n",
    "    query_texts=[\"I would love to go to Sri Lanka.\"], \n",
    "    n_results=6 \n",
    ")\n",
    "for i in range(5):\n",
    "    sentence = results_test3['documents'][0][i]\n",
    "    distance = results_test3['distances'][0][i]\n",
    "    print(f\"{sentence} {distance:.4f}\")"
   ]
  },
  {
   "cell_type": "markdown",
   "id": "a2dfe207",
   "metadata": {},
   "source": [
    "We can already see some limitations, with sentiment not captured properly and certain words not fully understood (Sri Lanka was previously named Ceylan)"
   ]
  },
  {
   "cell_type": "markdown",
   "id": "063f5c9c",
   "metadata": {},
   "source": [
    "### Migration reports dataset\n",
    "\n",
    "Let's now try to extract text directly from our `EMN.csv` file."
   ]
  },
  {
   "cell_type": "code",
   "execution_count": 3,
   "id": "e19ab525",
   "metadata": {},
   "outputs": [
    {
     "data": {
      "text/html": [
       "<div>\n",
       "<style scoped>\n",
       "    .dataframe tbody tr th:only-of-type {\n",
       "        vertical-align: middle;\n",
       "    }\n",
       "\n",
       "    .dataframe tbody tr th {\n",
       "        vertical-align: top;\n",
       "    }\n",
       "\n",
       "    .dataframe thead th {\n",
       "        text-align: right;\n",
       "    }\n",
       "</style>\n",
       "<table border=\"1\" class=\"dataframe\">\n",
       "  <thead>\n",
       "    <tr style=\"text-align: right;\">\n",
       "      <th></th>\n",
       "      <th>Country</th>\n",
       "      <th>Year</th>\n",
       "      <th>Title</th>\n",
       "      <th>Subtitle</th>\n",
       "      <th>Content</th>\n",
       "      <th>Grouped_Title</th>\n",
       "    </tr>\n",
       "  </thead>\n",
       "  <tbody>\n",
       "    <tr>\n",
       "      <th>0</th>\n",
       "      <td>Finland</td>\n",
       "      <td>2012</td>\n",
       "      <td>LEGAL MIGRATION AND MOBILITY</td>\n",
       "      <td>Main</td>\n",
       "      <td>As part of the Government Programme, the devel...</td>\n",
       "      <td>LEGAL MIGRATION AND MOBILITY</td>\n",
       "    </tr>\n",
       "    <tr>\n",
       "      <th>1</th>\n",
       "      <td>Finland</td>\n",
       "      <td>2012</td>\n",
       "      <td>LEGAL MIGRATION AND MOBILITY</td>\n",
       "      <td>PROMOTING LEGAL MIGRATION CHANNELS</td>\n",
       "      <td>As part of the Action Plan on labour migration...</td>\n",
       "      <td>LEGAL MIGRATION AND MOBILITY</td>\n",
       "    </tr>\n",
       "    <tr>\n",
       "      <th>2</th>\n",
       "      <td>Finland</td>\n",
       "      <td>2012</td>\n",
       "      <td>LEGAL MIGRATION AND MOBILITY</td>\n",
       "      <td>ECONOMIC MIGRATION</td>\n",
       "      <td>The improvement of the labour market position ...</td>\n",
       "      <td>LEGAL MIGRATION AND MOBILITY</td>\n",
       "    </tr>\n",
       "    <tr>\n",
       "      <th>3</th>\n",
       "      <td>Finland</td>\n",
       "      <td>2012</td>\n",
       "      <td>LEGAL MIGRATION AND MOBILITY</td>\n",
       "      <td>FAMILY REUNIFICATION</td>\n",
       "      <td>A comparative study on family reunification in...</td>\n",
       "      <td>LEGAL MIGRATION AND MOBILITY</td>\n",
       "    </tr>\n",
       "    <tr>\n",
       "      <th>4</th>\n",
       "      <td>Finland</td>\n",
       "      <td>2012</td>\n",
       "      <td>INTEGRATION</td>\n",
       "      <td>Main</td>\n",
       "      <td>In September 2012, the Government Integration ...</td>\n",
       "      <td>INTEGRATION</td>\n",
       "    </tr>\n",
       "    <tr>\n",
       "      <th>...</th>\n",
       "      <td>...</td>\n",
       "      <td>...</td>\n",
       "      <td>...</td>\n",
       "      <td>...</td>\n",
       "      <td>...</td>\n",
       "      <td>...</td>\n",
       "    </tr>\n",
       "    <tr>\n",
       "      <th>4320</th>\n",
       "      <td>Portugal</td>\n",
       "      <td>2023</td>\n",
       "      <td>BORDERS, VISA AND SCHENGEN</td>\n",
       "      <td>Main</td>\n",
       "      <td>Ordinance 321/2023 of 27 October, first amendm...</td>\n",
       "      <td>BORDERS AND VISAS</td>\n",
       "    </tr>\n",
       "    <tr>\n",
       "      <th>4321</th>\n",
       "      <td>Portugal</td>\n",
       "      <td>2023</td>\n",
       "      <td>IRREGULAR MIGRATION</td>\n",
       "      <td>Main</td>\n",
       "      <td>No significant developments to report in 2023.</td>\n",
       "      <td>IRREGULAR MIGRATION</td>\n",
       "    </tr>\n",
       "    <tr>\n",
       "      <th>4322</th>\n",
       "      <td>Portugal</td>\n",
       "      <td>2023</td>\n",
       "      <td>TRAFFICKING IN HUMAN BEINGS</td>\n",
       "      <td>Main</td>\n",
       "      <td>During 2023, the Observatory on Trafficking in...</td>\n",
       "      <td>TRAFFICKING IN HUMAN BEINGS</td>\n",
       "    </tr>\n",
       "    <tr>\n",
       "      <th>4323</th>\n",
       "      <td>Portugal</td>\n",
       "      <td>2023</td>\n",
       "      <td>RETURN AND READMISSION</td>\n",
       "      <td>Main</td>\n",
       "      <td>During the second trimester of 2023, Portugal ...</td>\n",
       "      <td>RETURN AND READMISSION</td>\n",
       "    </tr>\n",
       "    <tr>\n",
       "      <th>4324</th>\n",
       "      <td>Portugal</td>\n",
       "      <td>2023</td>\n",
       "      <td>MIGRATION AND DEVELOPMENT</td>\n",
       "      <td>Main</td>\n",
       "      <td>No significant developments to report in 2023.</td>\n",
       "      <td>MIGRATION AND DEVELOPMENT</td>\n",
       "    </tr>\n",
       "  </tbody>\n",
       "</table>\n",
       "<p>4325 rows × 6 columns</p>\n",
       "</div>"
      ],
      "text/plain": [
       "       Country  Year                         Title  \\\n",
       "0      Finland  2012  LEGAL MIGRATION AND MOBILITY   \n",
       "1      Finland  2012  LEGAL MIGRATION AND MOBILITY   \n",
       "2      Finland  2012  LEGAL MIGRATION AND MOBILITY   \n",
       "3      Finland  2012  LEGAL MIGRATION AND MOBILITY   \n",
       "4      Finland  2012                   INTEGRATION   \n",
       "...        ...   ...                           ...   \n",
       "4320  Portugal  2023    BORDERS, VISA AND SCHENGEN   \n",
       "4321  Portugal  2023           IRREGULAR MIGRATION   \n",
       "4322  Portugal  2023   TRAFFICKING IN HUMAN BEINGS   \n",
       "4323  Portugal  2023        RETURN AND READMISSION   \n",
       "4324  Portugal  2023     MIGRATION AND DEVELOPMENT   \n",
       "\n",
       "                                Subtitle  \\\n",
       "0                                   Main   \n",
       "1     PROMOTING LEGAL MIGRATION CHANNELS   \n",
       "2                     ECONOMIC MIGRATION   \n",
       "3                   FAMILY REUNIFICATION   \n",
       "4                                   Main   \n",
       "...                                  ...   \n",
       "4320                                Main   \n",
       "4321                                Main   \n",
       "4322                                Main   \n",
       "4323                                Main   \n",
       "4324                                Main   \n",
       "\n",
       "                                                Content  \\\n",
       "0     As part of the Government Programme, the devel...   \n",
       "1     As part of the Action Plan on labour migration...   \n",
       "2     The improvement of the labour market position ...   \n",
       "3     A comparative study on family reunification in...   \n",
       "4     In September 2012, the Government Integration ...   \n",
       "...                                                 ...   \n",
       "4320  Ordinance 321/2023 of 27 October, first amendm...   \n",
       "4321    No significant developments to report in 2023.    \n",
       "4322  During 2023, the Observatory on Trafficking in...   \n",
       "4323  During the second trimester of 2023, Portugal ...   \n",
       "4324     No significant developments to report in 2023.   \n",
       "\n",
       "                     Grouped_Title  \n",
       "0     LEGAL MIGRATION AND MOBILITY  \n",
       "1     LEGAL MIGRATION AND MOBILITY  \n",
       "2     LEGAL MIGRATION AND MOBILITY  \n",
       "3     LEGAL MIGRATION AND MOBILITY  \n",
       "4                      INTEGRATION  \n",
       "...                            ...  \n",
       "4320             BORDERS AND VISAS  \n",
       "4321           IRREGULAR MIGRATION  \n",
       "4322   TRAFFICKING IN HUMAN BEINGS  \n",
       "4323        RETURN AND READMISSION  \n",
       "4324     MIGRATION AND DEVELOPMENT  \n",
       "\n",
       "[4325 rows x 6 columns]"
      ]
     },
     "execution_count": 3,
     "metadata": {},
     "output_type": "execute_result"
    }
   ],
   "source": [
    "# load data\n",
    "df = pd.read_csv('data/EMN.csv')\n",
    "df"
   ]
  },
  {
   "cell_type": "markdown",
   "id": "bbd1db2a",
   "metadata": {},
   "source": [
    "Let's first focus on creating embeddings for a single country, single year, and without focusing on any metadata such as the title, year, country (consider only the Content column).\n",
    "\n",
    "We can first consider only one cell, as it contains already a lot of text, and then build on this to add progressively more embeddings."
   ]
  },
  {
   "cell_type": "code",
   "execution_count": 4,
   "id": "9b735205",
   "metadata": {},
   "outputs": [],
   "source": [
    "client = chromadb.PersistentClient(path=\"data\")"
   ]
  },
  {
   "cell_type": "code",
   "execution_count": 5,
   "id": "25816f8f",
   "metadata": {},
   "outputs": [],
   "source": [
    "collection = client.create_collection(name=\"emn_finland_2012\")"
   ]
  },
  {
   "cell_type": "markdown",
   "id": "14ed2e9f",
   "metadata": {},
   "source": [
    "Let's now extract the text and add it to our `migration_finland_2012` collection.\n",
    "\n",
    "The text is the following:\\\n",
    "First cell:\\\n",
    "As part of the Government Programme, the development of a comprehensive Future of Migration 2020 Strategy started in 2012. The objective of the Strategy is to design a policy which supports the building of an unprejudiced, safe and pluralistic Finland as well as enhance Finland‚Äôs international competitiveness. The Strategy was developed under the coordination of the Ministry of Interior together with over 40 represented stakeholders and it was adopted in June 2013. Also, the Ministry of the Interior set up a project to improve the effectiveness of the administration of immigration affairs which will run until December 2014. The concept of improving the effectiveness of the administration of immigration affairs was supported by two projects related to centres of expertise: the first, led by the Ministry of Employment and the Economy, looked into the establishment of a centre of expertise that promotes integration activities, while the second, set up by the Ministry of the Interior, assessed the prerequisites for founding a centre of expertise on the compilation of statistics and research about immigration. A public dialogue on immigration was launched in 2012 focusing on the costs of immigration, while a project to adopt a cooperative model among immigration authorities ( FPB) was launched in January 2012 by the Minister of Interior. The objective of the project is to improve the effectiveness of co- operation of authorities responsible for immigration affairs. \\\n",
    "\n",
    "Second cell:\\\n",
    "As part of the Action Plan on labour migration, a number of projects in different parts of Finland have been financed by the European Social Fund ( ESF). Projects focused on creating training systems, developing services for settling as well as building models for recruitment of labour migrants. \\\n",
    "\n",
    "Third cell:\\\n",
    "The improvement of the labour market position of immigrants has been defined as one of the targets of the Government Programme. Cooperation between the State and the municipalities of the Helsinki Metropolitan Area was considered a functional operating model. The implementation of the policy guidelines for international employment services, approved by the Ministry of Employment and the Economy in 2011, started at the beginning of 2012. The Ministry of Employment and the Economy launched the HYV√Ñ nurse recruitment project as a part of its HYV√Ñ (entrepreneurship and cooperation programme (2013-15) with the objective to define the roles and tasks of various parties in the international recruitment of registered nursing staff. In addition, the Ministry of Employment and the Economy has published a practical guide ‚ÄúExperience of International Recruitment to Finland‚Äù, which contains practical hints, check-lists and experiences that can be utilised at different stages of recruitment of foreign nationals. The National Audit Office of Finland published the report ‚ÄúWork-based Immigration‚Äù in September 2012. The report reflected on targeted programmes and projects for the promotion of work-based immigration. \\\n",
    "\n",
    "Fourth cell:\\\n",
    "A comparative study on family reunification in Nordic countries conducted by the Ministry of Interior was published in April 2012 with the aim to analyse and compare legislative provisions related to 2 residence permits issued on the ground of family ties and to formulate a proposal for amendments to the Aliens Act. The study recommended raising the threshold requirements of sufficient income to beneficiaries of humanitarian protection as well as introducing requirements for adequate accommodation. "
   ]
  },
  {
   "cell_type": "markdown",
   "id": "277698ea",
   "metadata": {},
   "source": [
    "Start by adding one cell to visualize the embeddings."
   ]
  },
  {
   "cell_type": "code",
   "execution_count": 6,
   "id": "1ca5d8e2",
   "metadata": {},
   "outputs": [],
   "source": [
    "text0 = df['Content'][0]"
   ]
  },
  {
   "cell_type": "code",
   "execution_count": 83,
   "id": "2639720c",
   "metadata": {},
   "outputs": [],
   "source": [
    "collection.add(\n",
    "    ids=[\"id0\"],\n",
    "    documents=[\n",
    "        text0\n",
    "    ]\n",
    ")"
   ]
  },
  {
   "cell_type": "code",
   "execution_count": 84,
   "id": "43d05a16",
   "metadata": {},
   "outputs": [
    {
     "name": "stdout",
     "output_type": "stream",
     "text": [
      "(1, 1, 384) [[0.9370808601379395]]\n"
     ]
    }
   ],
   "source": [
    "results = collection.query(\n",
    "    query_texts=[\"When did the development of a comprehensive Future of Migration 2020 Strategy start?\"], \n",
    "    n_results=6,\n",
    "    include=[\"documents\", \"distances\", \"embeddings\"] \n",
    "    \n",
    ")\n",
    "\n",
    "print(np.shape(results['embeddings']), results['distances'])"
   ]
  },
  {
   "cell_type": "code",
   "execution_count": 11,
   "id": "1cb2654d",
   "metadata": {},
   "outputs": [],
   "source": [
    "client.delete_collection(\"emn_finland_2012\")"
   ]
  },
  {
   "cell_type": "markdown",
   "id": "97fb357b",
   "metadata": {},
   "source": [
    "As we can see above, the whole text was embedded as a single vector.\n",
    "\n",
    "We can add progressively more cells and see how the retrieval performance is, to see if we need to chunk out text (we probably will).\n",
    "To that purpose, let us define 3 questions with increasing difficulty:\n",
    "- Which Finnish ministry coordinated the development of the Future of Migration 2020 Strategy? (refers to the first cell, matches literally)\n",
    "- What initiatives were launched in Finland to recruit foreign nurses, and during which years did they take place? (refers to the 3rd cell, checks if meaning is understood)\n",
    "- What measures has Finland taken to address climate change in Arctic regions? (not mentionned)\n",
    "\n",
    "Let's also add the three other cells."
   ]
  },
  {
   "cell_type": "code",
   "execution_count": 7,
   "id": "4b3eb7dd",
   "metadata": {},
   "outputs": [
    {
     "name": "stdout",
     "output_type": "stream",
     "text": [
      "As part of the Action Plan on labour migration, a number of projects in different parts of Finland have been financed by the European Social Fund ( ESF). Projects focused on creating training systems, developing services for settling as well as building models for recruitment of labour migrants. \n",
      "\n",
      "The improvement of the labour market position of immigrants has been defined as one of the targets of the Government Programme. Cooperation between the State and the municipalities of the Helsinki Metropolitan Area was considered a functional operating model. The implementation of the policy guidelines for international employment services, approved by the Ministry of Employment and the Economy in 2011, started at the beginning of 2012. The Ministry of Employment and the Economy launched the HYVÄ nurse recruitment project as a part of its HYVÄ (entrepreneurship and cooperation programme (2013-15) with the objective to define the roles and tasks of various parties in the international recruitment of registered nursing staff. In addition, the Ministry of Employment and the Economy has published a practical guide “Experience of International Recruitment to Finland”, which contains practical hints, check-lists and experiences that can be utilised at different stages of recruitment of foreign nationals. The National Audit Office of Finland published the report “Work-based Immigration” in September 2012. The report reflected on targeted programmes and projects for the promotion of work-based immigration. \n",
      "\n",
      "A comparative study on family reunification in Nordic countries conducted by the Ministry of Interior was published in April 2012 with the aim to analyse and compare legislative provisions related to 2 residence permits issued on the ground of family ties and to formulate a proposal for amendments to the Aliens Act. The study recommended raising the threshold requirements of sufficient income to beneficiaries of humanitarian protection as well as introducing requirements for adequate accommodation. \n",
      "\n"
     ]
    }
   ],
   "source": [
    "text1 = df['Content'][1]\n",
    "text2 = df['Content'][2]\n",
    "text3 = df['Content'][3]\n",
    "print(f\"{text1}\\n\")\n",
    "print(f\"{text2}\\n\")\n",
    "print(f\"{text3}\\n\")"
   ]
  },
  {
   "cell_type": "code",
   "execution_count": 19,
   "id": "21ce4bb2",
   "metadata": {},
   "outputs": [
    {
     "name": "stdout",
     "output_type": "stream",
     "text": [
      "A comparative study on family reunification in Nordic countries conducted by the Ministry of Interior was published in April 2012 with the aim to analyse and compare legislative provisions related to 2 residence permits issued on the ground of family ties and to formulate a proposal for amendments to the Aliens Act. The study recommended raising the threshold requirements of sufficient income to beneficiaries of humanitarian protection as well as introducing requirements for adequate accommodation. \n"
     ]
    }
   ],
   "source": [
    "#collection = client.create_collection(name=\"emn_finland_2012\")\n",
    "\n",
    "collection.add(\n",
    "    ids=[\"id0\", \"id1\", \"id2\", \"id3\"],\n",
    "    documents=[text0, text1, text2, text3]\n",
    ")\n",
    "print(collection.get()['documents'][3])  \n"
   ]
  },
  {
   "cell_type": "code",
   "execution_count": null,
   "id": "f45459d3",
   "metadata": {},
   "outputs": [
    {
     "name": "stdout",
     "output_type": "stream",
     "text": [
      "Which Finnish ministry coordinated the development of the Future of Migration 2020 Strategy?\n",
      "0.6571 As part of the Government Programme, the development of a comprehensive Future of Migration 2020 Strategy started in 2012. The objective of the Strategy is to design a policy which supports the building of an unprejudiced, safe and pluralistic Finland as well as enhance Finland’s international competitiveness. The Strategy was developed under the coordination of the Ministry of Interior together with over 40 represented stakeholders and it was adopted in June 2013. Also, the Ministry of the Interior set up a project to improve the effectiveness of the administration of immigration affairs which will run until December 2014. The concept of improving the effectiveness of the administration of immigration affairs was supported by two projects related to centres of expertise: the first, led by the Ministry of Employment and the Economy, looked into the establishment of a centre of expertise that promotes integration activities, while the second, set up by the Ministry of the Interior, assessed the prerequisites for founding a centre of expertise on the compilation of statistics and research about immigration. A public dialogue on immigration was launched in 2012 focusing on the costs of immigration, while a project to adopt a cooperative model among immigration authorities ( FPB) was launched in January 2012 by the Minister of Interior. The objective of the project is to improve the effectiveness of co- operation of authorities responsible for immigration affairs. \n",
      "0.8520 As part of the Action Plan on labour migration, a number of projects in different parts of Finland have been financed by the European Social Fund ( ESF). Projects focused on creating training systems, developing services for settling as well as building models for recruitment of labour migrants. \n",
      "0.9412 The improvement of the labour market position of immigrants has been defined as one of the targets of the Government Programme. Cooperation between the State and the municipalities of the Helsinki Metropolitan Area was considered a functional operating model. The implementation of the policy guidelines for international employment services, approved by the Ministry of Employment and the Economy in 2011, started at the beginning of 2012. The Ministry of Employment and the Economy launched the HYVÄ nurse recruitment project as a part of its HYVÄ (entrepreneurship and cooperation programme (2013-15) with the objective to define the roles and tasks of various parties in the international recruitment of registered nursing staff. In addition, the Ministry of Employment and the Economy has published a practical guide “Experience of International Recruitment to Finland”, which contains practical hints, check-lists and experiences that can be utilised at different stages of recruitment of foreign nationals. The National Audit Office of Finland published the report “Work-based Immigration” in September 2012. The report reflected on targeted programmes and projects for the promotion of work-based immigration. \n",
      "1.2938 A comparative study on family reunification in Nordic countries conducted by the Ministry of Interior was published in April 2012 with the aim to analyse and compare legislative provisions related to 2 residence permits issued on the ground of family ties and to formulate a proposal for amendments to the Aliens Act. The study recommended raising the threshold requirements of sufficient income to beneficiaries of humanitarian protection as well as introducing requirements for adequate accommodation. \n",
      "What initiatives were launched in Finland to recruit foreign nurses, and during which years did they take place?\n",
      "0.6236 As part of the Government Programme, the development of a comprehensive Future of Migration 2020 Strategy started in 2012. The objective of the Strategy is to design a policy which supports the building of an unprejudiced, safe and pluralistic Finland as well as enhance Finland’s international competitiveness. The Strategy was developed under the coordination of the Ministry of Interior together with over 40 represented stakeholders and it was adopted in June 2013. Also, the Ministry of the Interior set up a project to improve the effectiveness of the administration of immigration affairs which will run until December 2014. The concept of improving the effectiveness of the administration of immigration affairs was supported by two projects related to centres of expertise: the first, led by the Ministry of Employment and the Economy, looked into the establishment of a centre of expertise that promotes integration activities, while the second, set up by the Ministry of the Interior, assessed the prerequisites for founding a centre of expertise on the compilation of statistics and research about immigration. A public dialogue on immigration was launched in 2012 focusing on the costs of immigration, while a project to adopt a cooperative model among immigration authorities ( FPB) was launched in January 2012 by the Minister of Interior. The objective of the project is to improve the effectiveness of co- operation of authorities responsible for immigration affairs. \n",
      "0.8911 As part of the Action Plan on labour migration, a number of projects in different parts of Finland have been financed by the European Social Fund ( ESF). Projects focused on creating training systems, developing services for settling as well as building models for recruitment of labour migrants. \n",
      "1.0402 The improvement of the labour market position of immigrants has been defined as one of the targets of the Government Programme. Cooperation between the State and the municipalities of the Helsinki Metropolitan Area was considered a functional operating model. The implementation of the policy guidelines for international employment services, approved by the Ministry of Employment and the Economy in 2011, started at the beginning of 2012. The Ministry of Employment and the Economy launched the HYVÄ nurse recruitment project as a part of its HYVÄ (entrepreneurship and cooperation programme (2013-15) with the objective to define the roles and tasks of various parties in the international recruitment of registered nursing staff. In addition, the Ministry of Employment and the Economy has published a practical guide “Experience of International Recruitment to Finland”, which contains practical hints, check-lists and experiences that can be utilised at different stages of recruitment of foreign nationals. The National Audit Office of Finland published the report “Work-based Immigration” in September 2012. The report reflected on targeted programmes and projects for the promotion of work-based immigration. \n",
      "1.4765 A comparative study on family reunification in Nordic countries conducted by the Ministry of Interior was published in April 2012 with the aim to analyse and compare legislative provisions related to 2 residence permits issued on the ground of family ties and to formulate a proposal for amendments to the Aliens Act. The study recommended raising the threshold requirements of sufficient income to beneficiaries of humanitarian protection as well as introducing requirements for adequate accommodation. \n",
      "What measures has Finland taken to address climate change in Arctic regions?\n",
      "1.3345 As part of the Government Programme, the development of a comprehensive Future of Migration 2020 Strategy started in 2012. The objective of the Strategy is to design a policy which supports the building of an unprejudiced, safe and pluralistic Finland as well as enhance Finland’s international competitiveness. The Strategy was developed under the coordination of the Ministry of Interior together with over 40 represented stakeholders and it was adopted in June 2013. Also, the Ministry of the Interior set up a project to improve the effectiveness of the administration of immigration affairs which will run until December 2014. The concept of improving the effectiveness of the administration of immigration affairs was supported by two projects related to centres of expertise: the first, led by the Ministry of Employment and the Economy, looked into the establishment of a centre of expertise that promotes integration activities, while the second, set up by the Ministry of the Interior, assessed the prerequisites for founding a centre of expertise on the compilation of statistics and research about immigration. A public dialogue on immigration was launched in 2012 focusing on the costs of immigration, while a project to adopt a cooperative model among immigration authorities ( FPB) was launched in January 2012 by the Minister of Interior. The objective of the project is to improve the effectiveness of co- operation of authorities responsible for immigration affairs. \n",
      "1.3655 As part of the Action Plan on labour migration, a number of projects in different parts of Finland have been financed by the European Social Fund ( ESF). Projects focused on creating training systems, developing services for settling as well as building models for recruitment of labour migrants. \n",
      "1.4579 The improvement of the labour market position of immigrants has been defined as one of the targets of the Government Programme. Cooperation between the State and the municipalities of the Helsinki Metropolitan Area was considered a functional operating model. The implementation of the policy guidelines for international employment services, approved by the Ministry of Employment and the Economy in 2011, started at the beginning of 2012. The Ministry of Employment and the Economy launched the HYVÄ nurse recruitment project as a part of its HYVÄ (entrepreneurship and cooperation programme (2013-15) with the objective to define the roles and tasks of various parties in the international recruitment of registered nursing staff. In addition, the Ministry of Employment and the Economy has published a practical guide “Experience of International Recruitment to Finland”, which contains practical hints, check-lists and experiences that can be utilised at different stages of recruitment of foreign nationals. The National Audit Office of Finland published the report “Work-based Immigration” in September 2012. The report reflected on targeted programmes and projects for the promotion of work-based immigration. \n",
      "1.6566 A comparative study on family reunification in Nordic countries conducted by the Ministry of Interior was published in April 2012 with the aim to analyse and compare legislative provisions related to 2 residence permits issued on the ground of family ties and to formulate a proposal for amendments to the Aliens Act. The study recommended raising the threshold requirements of sufficient income to beneficiaries of humanitarian protection as well as introducing requirements for adequate accommodation. \n"
     ]
    }
   ],
   "source": [
    "query0 = \"Which Finnish ministry coordinated the development of the Future of Migration 2020 Strategy?\"\n",
    "query1 = \"What initiatives were launched in Finland to recruit foreign nurses, and during which years did they take place?\"\n",
    "query2 = \"What measures has Finland taken to address climate change in Arctic regions?\"\n",
    "query3 = \"\"\n",
    "\n",
    "queries = [query0, query1, query2]\n",
    "results = collection.query(\n",
    "    query_texts=queries, \n",
    "    include=[\"documents\", \"distances\", \"embeddings\"] \n",
    "    \n",
    ")\n",
    "\n",
    "for i in range(3):\n",
    "    query = queries[i]\n",
    "    print(query)\n",
    "    for j in range(4):\n",
    "        document = results['documents'][0][j]\n",
    "        dist = results['distances'][i][j]\n",
    "        print(f\"{dist:.4f} {document}\")\n"
   ]
  },
  {
   "cell_type": "markdown",
   "id": "661f589c",
   "metadata": {},
   "source": [
    "We see that the queries containing the exact text in the document render the right extraction (1st query), but the 2nd query, testing semantic understanding, does not render the right result.\n",
    "\n",
    "We can thus try to "
   ]
  },
  {
   "cell_type": "markdown",
   "id": "9c12188b",
   "metadata": {},
   "source": []
  }
 ],
 "metadata": {
  "kernelspec": {
   "display_name": "chroma",
   "language": "python",
   "name": "python3"
  },
  "language_info": {
   "codemirror_mode": {
    "name": "ipython",
    "version": 3
   },
   "file_extension": ".py",
   "mimetype": "text/x-python",
   "name": "python",
   "nbconvert_exporter": "python",
   "pygments_lexer": "ipython3",
   "version": "3.10.18"
  }
 },
 "nbformat": 4,
 "nbformat_minor": 5
}
