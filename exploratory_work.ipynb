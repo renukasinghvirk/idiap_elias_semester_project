{
 "cells": [
  {
   "cell_type": "markdown",
   "id": "afa20131",
   "metadata": {},
   "source": [
    "# Exploratory work\n",
    "This file contains the initial exploratory work realized, to get a sense of what the current resources available can provide, and get ideas on what ideas to explore to improve the quality of the counter-narratives."
   ]
  },
  {
   "cell_type": "markdown",
   "id": "861965ea",
   "metadata": {},
   "source": []
  }
 ],
 "metadata": {
  "language_info": {
   "name": "python"
  }
 },
 "nbformat": 4,
 "nbformat_minor": 5
}
